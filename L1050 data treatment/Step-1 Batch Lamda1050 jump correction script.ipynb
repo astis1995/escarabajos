{
 "cells": [
  {
   "cell_type": "markdown",
   "id": "98a93b37",
   "metadata": {},
   "source": [
    "# Batch Lamda1050 jump correction script"
   ]
  },
  {
   "cell_type": "markdown",
   "id": "6b7c2a45",
   "metadata": {},
   "source": [
    "### Author: Vinicio Soto, CICIMA\n",
    "### This script works with raw Lambdas1050's ASC files in batch. It corrects Lambdas1050's detector jump between 857 nm and 858 nm "
   ]
  },
  {
   "cell_type": "markdown",
   "id": "28b228f4",
   "metadata": {},
   "source": [
    "### Dependencies"
   ]
  },
  {
   "cell_type": "code",
   "execution_count": 1,
   "id": "6ee75e03",
   "metadata": {},
   "outputs": [],
   "source": [
    "import pandas as pd\n",
    "import numpy as np\n",
    "import matplotlib\n",
    "import matplotlib.pyplot as plt\n",
    "import os"
   ]
  },
  {
   "cell_type": "markdown",
   "id": "7e15a06d",
   "metadata": {},
   "source": [
    "### Instructions:\n",
    "\n",
    "Write your archive folder's path "
   ]
  },
  {
   "cell_type": "code",
   "execution_count": 2,
   "id": "4e843aa5",
   "metadata": {},
   "outputs": [],
   "source": [
    "#Lists all archives in folder\n",
    "transflectance_file_folder_data_path = r\"C:\\Users\\EstebanSoto\\Documents\\Estudio Optico Escarabajos\\new_data\\2023NOV_TRANSFLECTANCE\\transflectance\"\n",
    "transflectance_file_list = os.listdir(transflectance_file_folder_data_path)\n",
    "transmittance_file_folder_data_path = r\"C:\\Users\\EstebanSoto\\Documents\\Estudio Optico Escarabajos\\new_data\\2023NOV_TRANSMITTANCE\\transmittance\"\n",
    "transmittance_file_list = os.listdir(transmittance_file_folder_data_path)\n",
    "\n",
    "#file extension\n",
    "file_extension = \".ASC\""
   ]
  },
  {
   "cell_type": "code",
   "execution_count": 3,
   "id": "e2ceb73d",
   "metadata": {},
   "outputs": [
    {
     "name": "stdout",
     "output_type": "stream",
     "text": [
      "['TXRX1-C.AURI.INBI.ASC', 'TXRX1-C.BOUC.CO23.ASC', 'TXRX1-C.BOUC.INB5423.ASC', 'TXRX1-C.BOUC.INB5610.ASC', 'TXRX1-C.CHRY.6713.ASC', 'TXRX1-C.CHRY.MV73.ASC', 'TXRX1-C.CHRY.MV84.ASC', 'TXRX1-C.CUPR.MV23.ASC', 'TXRX1-C.KALI.LA22.ASC', 'TXRX1-C.OPTI.8.17.ASC', 'TXRX1-C.RESP.MV23.ASC', 'TXRX1-M.HIRT.DIUR .ASC', 'TXRX1-MACRASPIS.SP.ASC', 'TXRX1-NI#0001.ASC', 'TXRX1-NI#0002.ASC', 'TXRX1-P.GRAT.3610 .ASC', 'TXRX1-PELID.001 .ASC', 'TXRX1-PELID.002.ASC', 'TXRX1-PLATY.001.ASC', 'TXRX1-S.BELT.1063.ASC', 'TXRX1-S.GLAB.0620.ASC', 'TXRX1-S.SIGN.PREG.ASC', 'TXRX2-C.AURI.INBI.ASC', 'TXRX2-C.BOUC.CO23.ASC', 'TXRX2-C.BOUC.INB54230.ASC', 'TXRX2-C.BOUC.INB5610.ASC', 'TXRX2-C.CHRY.6713.ASC', 'TXRX2-C.CHRY.MV73.ASC', 'TXRX2-C.CHRY.MV84.ASC', 'TXRX2-C.CUPR.MV23.ASC', 'TXRX2-C.KALI.LA22.ASC', 'TXRX2-C.OPTI.8.17.ASC', 'TXRX2-C.RESP.MV23.ASC', 'TXRX2-M.HIRT.DIUR.ASC', 'TXRX2-MACRASPIS.SP.ASC', 'TXRX2-NI#0001.ASC', 'TXRX2-NI#0002.ASC', 'TXRX2-P.GRAT.3610.ASC', 'TXRX2-PELID.001 .ASC', 'TXRX2-PELID.002.ASC', 'TXRX2-PLATY.001.ASC', 'TXRX2-S.BELT.1063.ASC', 'TXRX2-S.GLAB.0620.ASC', 'TXRX2-S.SIGN.PREG.ASC', 'TXRX3-C.AURI.INBI.ASC', 'TXRX3-C.BOUC.CO23.ASC', 'TXRX3-C.BOUC.INB54230.ASC', 'TXRX3-C.BOUC.INB5610.ASC', 'TXRX3-C.CHRY.6713.ASC', 'TXRX3-C.CHRY.MV73.ASC', 'TXRX3-C.CHRY.MV84.ASC', 'TXRX3-C.CUPR.MV23.ASC', 'TXRX3-C.KALI.LA22.ASC', 'TXRX3-C.OPTI.8.17.ASC', 'TXRX3-C.RESP.MV23.ASC', 'TXRX3-M.HIRT.DIUR.ASC', 'TXRX3-MACRASPIS.SP.ASC', 'TXRX3-NI#0001.ASC', 'TXRX3-NI#0002.ASC', 'TXRX3-P.GRAT.3610.ASC', 'TXRX3-PELID.001.ASC', 'TXRX3-PELID.002.ASC', 'TXRX3-PLATY.001.ASC', 'TXRX3-S.BELT.1063.ASC', 'TXRX3-S.GLAB.0620.ASC', 'TXRX3-S.SIGN.PREG.ASC']\n",
      "['TX1-C.AURI.INBI.ASC', 'TX1-C.BOUC.CO23.ASC', 'TX1-C.BOUC.INB5423.ASC', 'TX1-C.BOUC.INB5610.ASC', 'TX1-C.CHRY.6713.ASC', 'TX1-C.CHRY.MV73.ASC', 'TX1-C.CHRY.MV84.ASC', 'TX1-C.CUPR.MV23.ASC', 'TX1-C.KALI.LA22.ASC', 'TX1-C.OPTI.8.17.ASC', 'TX1-C.RESP.MV23.ASC', 'TX1-M.HIRT.DIUR.ASC', 'TX1-MACRASPIS.SP.ASC', 'TX1-NI#0001.ASC', 'TX1-NI#0002.ASC', 'TX1-P.GRAT.3610.ASC', 'TX1-PELID.001.ASC', 'TX1-PELID.002.ASC', 'TX1-PLATY.001.ASC', 'TX1-S.BELT.1063.ASC', 'TX1-S.GLAB.0620.ASC', 'TX1-S.SIGN.PREG.ASC', 'TX2-C.AURI.INBI.ASC', 'TX2-C.BOUC.CO23.ASC', 'TX2-C.BOUC.INB5423.ASC', 'TX2-C.BOUC.INB5610.ASC', 'TX2-C.CHRY.6713.ASC', 'TX2-C.CHRY.MV73.ASC', 'TX2-C.CHRY.MV84.ASC', 'TX2-C.CUPR.MV23.ASC', 'TX2-C.KALI.LA22.ASC', 'TX2-C.OPTI.8.17.ASC', 'TX2-C.RESP.MV23.ASC', 'TX2-M.HIRT.DIUR.ASC', 'TX2-MACRASPIS.SP.ASC', 'TX2-NI#0001.ASC', 'TX2-P.GRAT.3610.ASC', 'TX2-PELID.001.ASC', 'TX2-PELID.002.ASC', 'TX2-PLATY.001.ASC', 'TX2-S.BELT.1063.ASC', 'TX2-S.GLAB.0620.ASC', 'TX2.Sample-S.SIGN.PREG.ASC', 'TX2.Sample.Cycle1-NI#0002.ASC', 'TX3-C.AURI.INBI.ASC', 'TX3-C.BOUC.CO23.ASC', 'TX3-C.BOUC.INB5423.ASC', 'TX3-C.BOUC.INB5610.ASC', 'TX3-C.CHRY.6713.ASC', 'TX3-C.CHRY.MV73.ASC', 'TX3-C.CHRY.MV84.ASC', 'TX3-C.CUPR.MV23.ASC', 'TX3-C.KALI.LA22.ASC', 'TX3-C.OPTI.8.17.ASC', 'TX3-C.RESP.MV23.ASC', 'TX3-M.HIRT.DIUR.ASC', 'TX3-MACRASPIS.SP.ASC', 'TX3-NI#0001.ASC', 'TX3-NI#0002.ASC', 'TX3-P.GRAT.3610.ASC', 'TX3-PELID.001.ASC', 'TX3-PELID.002.ASC', 'TX3-PLATY.001.ASC', 'TX3-S.BELT.1063.ASC', 'TX3-S.GLAB.0620.ASC', 'TX3-S.SIGN.PREG.ASC']\n"
     ]
    }
   ],
   "source": [
    "# filters a list of strings to create a new list containing only the elements that end with \".ASC\"\n",
    "\n",
    "def filter_substring_elements(path_strings, substring):\n",
    "    filtered_paths = [path for path in path_strings if substring in path]\n",
    "    return filtered_paths\n",
    "\n",
    "# Filtering elements ending with \".ASC\"\n",
    "transflectance_result_list = filter_substring_elements(transflectance_file_list, file_extension)\n",
    "transmittance_result_list = filter_substring_elements(transmittance_file_list, file_extension)\n",
    "# Displaying the filtered list\n",
    "print(transflectance_result_list)\n",
    "print(transmittance_result_list)"
   ]
  },
  {
   "cell_type": "markdown",
   "id": "f685fc25",
   "metadata": {},
   "source": [
    "### Correction process function"
   ]
  },
  {
   "cell_type": "code",
   "execution_count": 4,
   "id": "d8b4b8e6",
   "metadata": {},
   "outputs": [],
   "source": [
    "def jump_correction(file_folder_data_path, filename, measurement_type):\n",
    "    #Load archive\n",
    "     #constants\n",
    "    markersize = 1 #Marker size for plots\n",
    "\n",
    "    # read text file into pandas DataFrame \n",
    "    full_path= file_folder_data_path + \"\\\\\" + filename\n",
    "    df = pd.read_csv(full_path, sep=\"\t\",header=90,  \n",
    "                     names=[\"wavelength\", measurement_type]) \n",
    "    #Data cleaning\n",
    "    #Replace commas with dots\n",
    "    df = df.replace(',','.', regex=True)\n",
    "    #print(\"1\")\n",
    "    #print(df.dtypes)\n",
    "\n",
    "    #convert columns to float\n",
    "    df['wavelength'] = df['wavelength'].astype(float)\n",
    "    df[measurement_type] = df[measurement_type].astype(float)\n",
    "    \n",
    "\n",
    "    #This code finds the rows before and after the detector change\n",
    "    #freq1 is the frequency before the change and freq2 is the frequency after the change\n",
    "    wavelenght1 = 857.000000 #857\n",
    "    wavelenght2 = 858.000000 #858\n",
    "    #print(\"Loc\")\n",
    "    row1 = df.loc[ df['wavelength'] == wavelenght1]\n",
    "    row2 = df.loc[ df['wavelength'] == wavelenght2]\n",
    "    row22 = df.loc[ df['wavelength'] == wavelenght2 +1]\n",
    "    row23 = df.loc[ df['wavelength'] == wavelenght2+2]\n",
    "    row24 = df.loc[ df['wavelength'] == wavelenght2+3]\n",
    "    row25 = df.loc[ df['wavelength'] == wavelenght2+4]\n",
    "    \n",
    "    #This code finds the values corresponding to those frequencies and creates a correction factor\n",
    "    #print(\"dataframe new\")\n",
    "    #print(row1)\n",
    "    data1 = row1.iat[0,1]\n",
    "    data2 = row2.iat[0,1]\n",
    "    data22 = row22.iat[0,1]\n",
    "    data23 = row23.iat[0,1]\n",
    "    data24 = row23.iat[0,1]\n",
    "    data25 = row23.iat[0,1]\n",
    "    \n",
    "    data2_avg = (data2 + data22+data23+data24+data25)/5\n",
    "    #print(data1)\n",
    "    #print(data2)\n",
    "    correction_factor= data2_avg/data1 *0.98\n",
    "    #print(correction_factor)\n",
    "    #Multiply all frequencies equal or greater than freq2 by correction_factor\n",
    "    df2 = df\n",
    "    df2.loc[df2[\"wavelength\"] <= wavelenght2, [measurement_type]] *= correction_factor\n",
    "    #Plot modified spectra\n",
    "    #df2.plot(x='wavelength', y=measurement_type, kind='scatter', s=markersize, title = \"ADJUSTED \"+filename,grid=True)\t\n",
    "    #Save to a file delimited by tabs\n",
    "    my_numpy = df.to_numpy()\n",
    "    #Create new folder\n",
    "    corrected_path = file_folder_data_path + \"\\\\jump_corrected_files\\\\\"\n",
    "    if not os.path.exists(corrected_path):\n",
    "        os.mkdir(corrected_path)\n",
    "    #saves file\n",
    "    new_archive_name = corrected_path +filename.replace('.ASC', ''+'.txt')\n",
    "    np.savetxt(new_archive_name, my_numpy,fmt='%s', delimiter=\"\\t\")"
   ]
  },
  {
   "cell_type": "markdown",
   "id": "fe987854",
   "metadata": {},
   "source": [
    "### Apply code to all files ending in .ASC in folder "
   ]
  },
  {
   "cell_type": "code",
   "execution_count": 5,
   "id": "af87a80e",
   "metadata": {},
   "outputs": [],
   "source": [
    "measurement_type = \"transflectance\" \n",
    "\n",
    "for file in transflectance_result_list:\n",
    "    jump_correction(file_folder_data_path, file,measurement_type)\n",
    "    \n",
    "measurement_type = \"transmittance\" \n",
    "\n",
    "for file in transmittance_result_list:\n",
    "    jump_correction(transmittance_file_folder_data_path, file, measurement_type)"
   ]
  },
  {
   "cell_type": "code",
   "execution_count": null,
   "id": "c404e23f",
   "metadata": {},
   "outputs": [],
   "source": []
  },
  {
   "cell_type": "code",
   "execution_count": null,
   "id": "ad7bc25c",
   "metadata": {},
   "outputs": [],
   "source": []
  }
 ],
 "metadata": {
  "kernelspec": {
   "display_name": "Python 3 (ipykernel)",
   "language": "python",
   "name": "python3"
  },
  "language_info": {
   "codemirror_mode": {
    "name": "ipython",
    "version": 3
   },
   "file_extension": ".py",
   "mimetype": "text/x-python",
   "name": "python",
   "nbconvert_exporter": "python",
   "pygments_lexer": "ipython3",
   "version": "3.11.5"
  }
 },
 "nbformat": 4,
 "nbformat_minor": 5
}
