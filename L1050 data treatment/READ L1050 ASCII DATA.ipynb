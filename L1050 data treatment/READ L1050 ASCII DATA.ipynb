{
 "cells": [
  {
   "cell_type": "markdown",
   "id": "37f85e4c-3a2c-4fbe-b950-283345c3324d",
   "metadata": {},
   "source": [
    "# READ L1050 ASCII DATA\n",
    "### It reads ascii files with decimal comma and tab separator. Creates a metadata dictionary which can be used to feed spectrum to a database"
   ]
  },
  {
   "cell_type": "code",
   "execution_count": 4,
   "id": "58cce1a8",
   "metadata": {},
   "outputs": [],
   "source": [
    "import pandas as pd\n",
    "import re"
   ]
  },
  {
   "cell_type": "code",
   "execution_count": 5,
   "id": "eeb12c04-e2b0-4668-9eab-c0f89368e51f",
   "metadata": {},
   "outputs": [],
   "source": [
    "### Dependencies: conda install -c conda-forge pyarrow"
   ]
  },
  {
   "cell_type": "code",
   "execution_count": 6,
   "id": "a2f409fa-15fa-49ef-bacb-be94a0991a8a",
   "metadata": {},
   "outputs": [
    {
     "data": {
      "text/plain": [
       "'0,2'"
      ]
     },
     "execution_count": 6,
     "metadata": {},
     "output_type": "execute_result"
    }
   ],
   "source": [
    "str= r\"3350/0,2 860,8/0,2\"\n",
    "re1 = \"\\d+/(\\d+,\\d+) \\d+,\\d+/(\\d+,\\d+)\"\n",
    "p = re.compile(re1)\n",
    "\n",
    "m= p.match(str)\n",
    "m.group(2)\n"
   ]
  },
  {
   "cell_type": "code",
   "execution_count": 7,
   "id": "e218d65d-5f90-4f5a-ad1f-a7708f73b03a",
   "metadata": {},
   "outputs": [],
   "source": [
    "def responses(str):\n",
    "    re1 = \"\\d+/(\\d+,\\d+) \\d+,\\d+/(\\d+,\\d+)\"\n",
    "    p = re.compile(re1)\n",
    "    m= p.match(str)\n",
    "    if m:\n",
    "        return m.group(1),m.group(2)    \n",
    "    else:\n",
    "        return \"\",\"\"\n",
    "def attenuator_settings(str):\n",
    "    re1 = \"S:(\\d+,\\d+) R:(\\d+,\\d+)\"\n",
    "    p = re.compile(re1)\n",
    "    m= p.match(str)\n",
    "    if m:\n",
    "        return m.group(1),m.group(2)    \n",
    "    else:\n",
    "        return \"\",\"\"\n",
    "def slit_pmt_aperture(str):\n",
    "    re1 = \"\\d+/servo \\d+,\\d+/(\\d+,\\d+)\"\n",
    "    p = re.compile(re1)\n",
    "    m= p.match(str)\n",
    "    if m:\n",
    "        return m.group(1)    \n",
    "    else:\n",
    "        return \"\""
   ]
  },
  {
   "cell_type": "code",
   "execution_count": 8,
   "id": "02c90d79",
   "metadata": {},
   "outputs": [],
   "source": [
    "file_location = r\"C:\\Users\\EstebanSoto\\Documents\\Estudio Optico Escarabajos\\2024-JAN-REFLECTIVITY\\20240119\\C117STRLAB1.Sample.ASC\"\n",
    "f = open(file_location)\n",
    "metadata = {}\n",
    "df = pd.DataFrame()\n",
    "with f as data_file:\n",
    "    for index, row in enumerate(data_file): #0-89\n",
    "        \n",
    "        row_str = row.strip()\n",
    "        if index +1 == 3: #Filename and extension\n",
    "            metadata[\"filename\"]= row_str\n",
    "        if index + 1 == 4: #date DD/MM/YYYY\n",
    "            metadata[\"date\"]= row_str\n",
    "        if index + 1 == 5:#Time HH:MM:SS.SS\n",
    "            metadata[\"time\"]= row_str\n",
    "        if index + 1 == 8:#user\n",
    "            metadata[\"user\"]= row_str\n",
    "        if index + 1 == 9:#description\n",
    "            metadata[\"description\"]= row_str\n",
    "        if index + 1 == 10:#minimum wavelength\n",
    "            metadata[\"minimum_wavelength\"]= row_str\n",
    "        if index + 1 == 12:#equipment name\n",
    "            metadata[\"equipment\"]= row_str\n",
    "        if index + 1 == 13:#equipment series\n",
    "            metadata[\"series\"]= row_str\n",
    "        if index + 1 == 14:#data visualizer version, equipment version, date and time\n",
    "            metadata[\"software\"]= row_str\n",
    "        if index + 1 == 21:#Operating mode\n",
    "            metadata[\"operating_mode\"]= row_str\n",
    "        if index + 1 == 22: #Number of cycles\n",
    "            metadata[\"cycles\"]= row_str\n",
    "        if index + 1 == 32: #range/servo\n",
    "            metadata[\"slit_pmt\"]= slit_pmt_aperture(row_str)\n",
    "        if index + 1 == 33:\n",
    "            metadata[\"response_ingaas\"], metadata[\"response_pmt\"]= responses(row_str)\n",
    "        if index + 1 == 35: #pmt gain, if 0 is automatic\n",
    "            metadata[\"pmt_gain\"]= row_str\n",
    "        if index + 1 == 36: #InGaAs detector gain\n",
    "            metadata[\"ingaas_gain\"]= row_str\n",
    "        if index + 1 == 42:#monochromator wavelength nm\n",
    "            metadata[\"monochromator_change\"]= row_str\n",
    "        if index + 1 == 43:#lamp change wavelength\n",
    "            metadata[\"lamp_change\"]= row_str\n",
    "        if index + 1 == 44:#pmt wavelength\n",
    "            metadata[\"pmt_change\"]= row_str\n",
    "        if index + 1 == 45:#beam selector\n",
    "            metadata[\"beam_selector\"]= row_str\n",
    "        if index + 1 == 46:\n",
    "            metadata[\"cbm\"]= row_str\n",
    "        if index + 1 == 47: #cbd status, on/off\n",
    "            metadata[\"cbd_status\"]= row_str\n",
    "        if index + 1 == 48: #attenuator percentage\n",
    "            metadata[\"attenuator_sample\"], metadata[\"attenuator_reference\"]= attenuator_settings(row_str)\n",
    "        if index + 1 == 49:\n",
    "            metadata[\"polarizer\"]= row_str\n",
    "        if index + 1 == 80:\n",
    "            metadata[\"units\"]= row_str\n",
    "        if index + 1 == 81:\n",
    "            metadata[\"measuring_mode\"]= row_str\n",
    "        if index + 1 == 84:\n",
    "            metadata[\"maximum_wavelength\"]= row_str\n",
    "        if index + 1 == 85:\n",
    "            metadata[\"step\"]= row_str\n",
    "        if index + 1 == 86:\n",
    "            metadata[\"number_of_datapoints\"]= row_str\n",
    "        if index + 1 == 88:\n",
    "            metadata[\"maximum_measurement\"]= row_str\n",
    "        if index + 1 == 89:\n",
    "            metadata[\"minimum_measurement\"]= row_str\n",
    "        if index +1 == 90:\n",
    "            break\n",
    "    df = pd.read_csv(f, sep=\"\\t\", decimal =\",\", names=[\"wavelength\", metadata[\"measuring_mode\"]])\n",
    "    metadata"
   ]
  },
  {
   "cell_type": "code",
   "execution_count": 21,
   "id": "c27840f3-4c71-46a4-855a-48a6b457b513",
   "metadata": {
    "scrolled": true
   },
   "outputs": [
    {
     "name": "stdout",
     "output_type": "stream",
     "text": [
      "[(3, '24/01/19')]\n"
     ]
    }
   ],
   "source": [
    "file_location = r\"C:\\Users\\EstebanSoto\\Documents\\Estudio Optico Escarabajos\\2024-JAN-REFLECTIVITY\\20240119\\C117STRLAB1.Sample.ASC\"\n",
    "f = open(file_location)\n",
    "with f as data_file:\n",
    "    value = [(index, row.strip()) for index, row in enumerate(data_file) if index == 3 ]\n",
    "    print(value)"
   ]
  },
  {
   "cell_type": "code",
   "execution_count": 45,
   "id": "7e7818a2-a3aa-4f75-ad04-12c2311208e3",
   "metadata": {},
   "outputs": [
    {
     "data": {
      "text/plain": [
       "20"
      ]
     },
     "execution_count": 45,
     "metadata": {},
     "output_type": "execute_result"
    }
   ],
   "source": [
    "class shape():\n",
    "    def area(self):\n",
    "        return 15\n",
    "    def perimeter(self):\n",
    "        return 10\n",
    "\n",
    "shape1 = shape()\n",
    "setattr(shape1, \"medicion\", 20)\n",
    "getattr(shape1,\"medicion\")"
   ]
  },
  {
   "cell_type": "code",
   "execution_count": 10,
   "id": "ecb63c09-5419-49cb-9fdf-b048ddd734b9",
   "metadata": {},
   "outputs": [
    {
     "data": {
      "text/plain": [
       "20"
      ]
     },
     "execution_count": 10,
     "metadata": {},
     "output_type": "execute_result"
    }
   ],
   "source": [
    "shape1.medicion"
   ]
  },
  {
   "cell_type": "code",
   "execution_count": 13,
   "id": "480aa802-8678-420a-ac08-2f48214ba2ee",
   "metadata": {},
   "outputs": [
    {
     "data": {
      "text/plain": [
       "110.758"
      ]
     },
     "execution_count": 13,
     "metadata": {},
     "output_type": "execute_result"
    }
   ],
   "source": [
    "df[\"%R\"].max()"
   ]
  },
  {
   "cell_type": "code",
   "execution_count": null,
   "id": "7734428b-4d4d-4aa1-934b-4b7de4850282",
   "metadata": {},
   "outputs": [],
   "source": []
  }
 ],
 "metadata": {
  "kernelspec": {
   "display_name": "Python 3 (ipykernel)",
   "language": "python",
   "name": "python3"
  },
  "language_info": {
   "codemirror_mode": {
    "name": "ipython",
    "version": 3
   },
   "file_extension": ".py",
   "mimetype": "text/x-python",
   "name": "python",
   "nbconvert_exporter": "python",
   "pygments_lexer": "ipython3",
   "version": "3.11.5"
  }
 },
 "nbformat": 4,
 "nbformat_minor": 5
}
