{
 "cells": [
  {
   "cell_type": "markdown",
   "id": "93096c1d-82ff-4244-aa35-f9422e42bb2f",
   "metadata": {},
   "source": [
    "# Name conversion. 2024 codes\n",
    "### This script changes the very first names that were given to sample files in 2023's last quarter. These names were given in an ad hoc fashion and needed to be changed in accordance to the normalization done in 2024's first quarter. This script uses the text document first_to_third_names.txt which is a mapping of all the old codes (and their variations) to the most recent sample names. "
   ]
  },
  {
   "cell_type": "code",
   "execution_count": 13,
   "id": "6ef7af7b-9dcc-4956-9c68-2cf59b02ba6c",
   "metadata": {},
   "outputs": [],
   "source": [
    "import os\n"
   ]
  },
  {
   "cell_type": "markdown",
   "id": "90bb3c0c-51f7-4470-94fb-21484f2ae658",
   "metadata": {},
   "source": [
    "### New filename method. \n",
    "This methods compares the regular expression with the sample names. It works with those files in the format TXRX-Sample old name.ASC.\n",
    "If you need to work with other format, feel free to use one of the other regular expressions available. "
   ]
  },
  {
   "cell_type": "code",
   "execution_count": null,
   "id": "77fb6fbb-53d5-42ab-a4ce-caa914530dfc",
   "metadata": {},
   "outputs": [],
   "source": [
    "TXRX0_format = \"\\w+(\\d+)-(.+)?(.ASC)\"\n"
   ]
  },
  {
   "cell_type": "code",
   "execution_count": 7,
   "id": "6b501cbd-5796-4cb7-9c08-7841299a734f",
   "metadata": {},
   "outputs": [],
   "source": [
    "def get_new_filename(old_filename):\n",
    "    def get_re_match(file_str, regex):\n",
    "        import re\n",
    "        #print(\"string\")\n",
    "        #print(file_str)\n",
    "        #Names are in the form CODE-MEASUREMENTNUMBER.TXT\n",
    "        p = re.compile(regex)\n",
    "        m = p.match(file_str)\n",
    "        #print(\"match\")\n",
    "        #print(m)\n",
    "        if m:\n",
    "            return (m.group(1)),(m.group(2))\n",
    "        return \"\"\n",
    "\n",
    "    import os\n",
    "\n",
    "# Read changes.txt and create a dictionary mapping old tags to new tags\n",
    "    \n",
    "\n",
    "    ###Logic\n",
    "    \n",
    "    regular_expression_for_old_codes = \"\\w+(\\d+)-(.+)?(.ASC)\"\n",
    "    file_str = old_filename\n",
    "    number, match = get_re_match(file_str, regular_expression_for_old_codes)\n",
    "    new_tag = tag_mapping[match]\n",
    "    print(new_tag)\n",
    "    new_filename = new_tag + \"-\"+number + \".ASC\"\n",
    "    return new_filename"
   ]
  },
  {
   "cell_type": "code",
   "execution_count": 11,
   "id": "f8f93708-960e-4dd8-835f-12198f885250",
   "metadata": {},
   "outputs": [
    {
     "name": "stdout",
     "output_type": "stream",
     "text": [
      "INBUCR0212\n"
     ]
    },
    {
     "data": {
      "text/plain": [
       "'INBUCR0212-1.ASC'"
      ]
     },
     "execution_count": 11,
     "metadata": {},
     "output_type": "execute_result"
    }
   ],
   "source": [
    "get_new_filename(\"TXRX1-C.BOUCARDI_INB0004065610_MORADO.ASC\")"
   ]
  },
  {
   "cell_type": "code",
   "execution_count": 31,
   "id": "9e433793-ef85-4eb1-a51b-09483112848d",
   "metadata": {},
   "outputs": [
    {
     "name": "stdout",
     "output_type": "stream",
     "text": [
      "No mapping found for 'new_name' in changes.txt\n",
      "INBUCR0216\n",
      "[WinError 183] No se puede crear un archivo que ya existe: 'E:\\\\CICIMA\\\\2023_Q4_TRANSMITTANCE_AND_TRANSFLECTANCE\\\\2023_Q4_TRANSMITTANCE_AND_TRANSFLECTANCE\\\\2023NOV_TRANSFLECTANCE\\\\ASC\\\\respaldo\\\\TXRX1-C. CHRYSARGYREA INBIOCRI002426713.ASC' -> 'E:\\\\CICIMA\\\\2023_Q4_TRANSMITTANCE_AND_TRANSFLECTANCE\\\\2023_Q4_TRANSMITTANCE_AND_TRANSFLECTANCE\\\\2023NOV_TRANSFLECTANCE\\\\ASC\\\\respaldo\\\\new_name\\\\INBUCR0216-1.ASC'\n",
      "Moved 'TXRX1-C. CHRYSARGYREA INBIOCRI002426713.ASC' to 'E:\\CICIMA\\2023_Q4_TRANSMITTANCE_AND_TRANSFLECTANCE\\2023_Q4_TRANSMITTANCE_AND_TRANSFLECTANCE\\2023NOV_TRANSFLECTANCE\\ASC\\respaldo\\new_name' and renamed it to 'INBUCR0216-1.ASC'\n",
      "CICIMAUCR0104\n",
      "Moved 'TXRX3-C. RESPLENDENS.ASC' to 'E:\\CICIMA\\2023_Q4_TRANSMITTANCE_AND_TRANSFLECTANCE\\2023_Q4_TRANSMITTANCE_AND_TRANSFLECTANCE\\2023NOV_TRANSFLECTANCE\\ASC\\respaldo\\new_name' and renamed it to 'CICIMAUCR0104-3.ASC'\n",
      "INBUCR0235\n",
      "Moved 'TXRX3-C.BOUC.INB54230.ASC' to 'E:\\CICIMA\\2023_Q4_TRANSMITTANCE_AND_TRANSFLECTANCE\\2023_Q4_TRANSMITTANCE_AND_TRANSFLECTANCE\\2023NOV_TRANSFLECTANCE\\ASC\\respaldo\\new_name' and renamed it to 'INBUCR0235-3.ASC'\n",
      "CICIMAUCR0181\n",
      "Moved 'TXRX3-CHRYSINA BOUCARDI CORONAD0 (ICP) 2023.ASC' to 'E:\\CICIMA\\2023_Q4_TRANSMITTANCE_AND_TRANSFLECTANCE\\2023_Q4_TRANSMITTANCE_AND_TRANSFLECTANCE\\2023NOV_TRANSFLECTANCE\\ASC\\respaldo\\new_name' and renamed it to 'CICIMAUCR0181-3.ASC'\n",
      "CICIMAUCR0105\n",
      "Moved 'TXRX3-CHRYSINA KALININI LA AMISTAD 2022.ASC' to 'E:\\CICIMA\\2023_Q4_TRANSMITTANCE_AND_TRANSFLECTANCE\\2023_Q4_TRANSMITTANCE_AND_TRANSFLECTANCE\\2023NOV_TRANSFLECTANCE\\ASC\\respaldo\\new_name' and renamed it to 'CICIMAUCR0105-3.ASC'\n",
      "INBUCR0313\n",
      "Moved 'TXRX3-MACRASPIS HIRTIVENTIS DIURNA.ASC' to 'E:\\CICIMA\\2023_Q4_TRANSMITTANCE_AND_TRANSFLECTANCE\\2023_Q4_TRANSMITTANCE_AND_TRANSFLECTANCE\\2023NOV_TRANSFLECTANCE\\ASC\\respaldo\\new_name' and renamed it to 'INBUCR0313-3.ASC'\n",
      "INBUCR0322\n",
      "Moved 'TXRX3-MACRASPIS SIGNO PREGUNTA.ASC' to 'E:\\CICIMA\\2023_Q4_TRANSMITTANCE_AND_TRANSFLECTANCE\\2023_Q4_TRANSMITTANCE_AND_TRANSFLECTANCE\\2023NOV_TRANSFLECTANCE\\ASC\\respaldo\\new_name' and renamed it to 'INBUCR0322-3.ASC'\n",
      "CICIMAUCR0178\n",
      "Moved 'TXRX3-NI #001.ASC' to 'E:\\CICIMA\\2023_Q4_TRANSMITTANCE_AND_TRANSFLECTANCE\\2023_Q4_TRANSMITTANCE_AND_TRANSFLECTANCE\\2023NOV_TRANSFLECTANCE\\ASC\\respaldo\\new_name' and renamed it to 'CICIMAUCR0178-3.ASC'\n",
      "CICIMAUCR0179\n",
      "Moved 'TXRX3-NI #2.ASC' to 'E:\\CICIMA\\2023_Q4_TRANSMITTANCE_AND_TRANSFLECTANCE\\2023_Q4_TRANSMITTANCE_AND_TRANSFLECTANCE\\2023NOV_TRANSFLECTANCE\\ASC\\respaldo\\new_name' and renamed it to 'CICIMAUCR0179-3.ASC'\n",
      "CICIMAUCR0028\n",
      "Moved 'TXRX3-PELID 1.ASC' to 'E:\\CICIMA\\2023_Q4_TRANSMITTANCE_AND_TRANSFLECTANCE\\2023_Q4_TRANSMITTANCE_AND_TRANSFLECTANCE\\2023NOV_TRANSFLECTANCE\\ASC\\respaldo\\new_name' and renamed it to 'CICIMAUCR0028-3.ASC'\n",
      "CICIMAUCR0029\n",
      "Moved 'TXRX3-PELID 2.ASC' to 'E:\\CICIMA\\2023_Q4_TRANSMITTANCE_AND_TRANSFLECTANCE\\2023_Q4_TRANSMITTANCE_AND_TRANSFLECTANCE\\2023NOV_TRANSFLECTANCE\\ASC\\respaldo\\new_name' and renamed it to 'CICIMAUCR0029-3.ASC'\n",
      "CICIMAUCR0160\n",
      "Moved 'TXRX3-PLATY 1.ASC' to 'E:\\CICIMA\\2023_Q4_TRANSMITTANCE_AND_TRANSFLECTANCE\\2023_Q4_TRANSMITTANCE_AND_TRANSFLECTANCE\\2023NOV_TRANSFLECTANCE\\ASC\\respaldo\\new_name' and renamed it to 'CICIMAUCR0160-3.ASC'\n",
      "INBUCR0314\n",
      "Moved 'TXRX3-PTENOMELA GRATIOSA 03610.ASC' to 'E:\\CICIMA\\2023_Q4_TRANSMITTANCE_AND_TRANSFLECTANCE\\2023_Q4_TRANSMITTANCE_AND_TRANSFLECTANCE\\2023NOV_TRANSFLECTANCE\\ASC\\respaldo\\new_name' and renamed it to 'INBUCR0314-3.ASC'\n",
      "INBUCR0112\n",
      "Moved 'TXRX3-STRIGIDA BELTI INBIO0004211063.ASC' to 'E:\\CICIMA\\2023_Q4_TRANSMITTANCE_AND_TRANSFLECTANCE\\2023_Q4_TRANSMITTANCE_AND_TRANSFLECTANCE\\2023NOV_TRANSFLECTANCE\\ASC\\respaldo\\new_name' and renamed it to 'INBUCR0112-3.ASC'\n",
      "INBUCR0114\n",
      "Moved 'TXRX3-STRIGIDA GLABRA INBIOCRI0003420620.ASC' to 'E:\\CICIMA\\2023_Q4_TRANSMITTANCE_AND_TRANSFLECTANCE\\2023_Q4_TRANSMITTANCE_AND_TRANSFLECTANCE\\2023NOV_TRANSFLECTANCE\\ASC\\respaldo\\new_name' and renamed it to 'INBUCR0114-3.ASC'\n",
      "CICIMAUCR0180\n",
      "Moved 'TXRX3-STRIGIDIA 2.ASC' to 'E:\\CICIMA\\2023_Q4_TRANSMITTANCE_AND_TRANSFLECTANCE\\2023_Q4_TRANSMITTANCE_AND_TRANSFLECTANCE\\2023NOV_TRANSFLECTANCE\\ASC\\respaldo\\new_name' and renamed it to 'CICIMAUCR0180-3.ASC'\n",
      "INBUCR0431\n",
      "Moved 'TXRX4-C. AURIGANS INBIO DESCABEZADO.ASC' to 'E:\\CICIMA\\2023_Q4_TRANSMITTANCE_AND_TRANSFLECTANCE\\2023_Q4_TRANSMITTANCE_AND_TRANSFLECTANCE\\2023NOV_TRANSFLECTANCE\\ASC\\respaldo\\new_name' and renamed it to 'INBUCR0431-4.ASC'\n",
      "CICIMAUCR0163\n",
      "Moved 'TXRX4-C. CHRYSARGYREA #73 MV23.ASC' to 'E:\\CICIMA\\2023_Q4_TRANSMITTANCE_AND_TRANSFLECTANCE\\2023_Q4_TRANSMITTANCE_AND_TRANSFLECTANCE\\2023NOV_TRANSFLECTANCE\\ASC\\respaldo\\new_name' and renamed it to 'CICIMAUCR0163-4.ASC'\n",
      "INBUCR0216\n",
      "Moved 'TXRX4-C. CHRYSARGYREA INBIOCRI002426713.ASC' to 'E:\\CICIMA\\2023_Q4_TRANSMITTANCE_AND_TRANSFLECTANCE\\2023_Q4_TRANSMITTANCE_AND_TRANSFLECTANCE\\2023NOV_TRANSFLECTANCE\\ASC\\respaldo\\new_name' and renamed it to 'INBUCR0216-4.ASC'\n",
      "CICIMAUCR0158\n",
      "Moved 'TXRX4-C. CUPREOMARGINATA MV 23-15.ASC' to 'E:\\CICIMA\\2023_Q4_TRANSMITTANCE_AND_TRANSFLECTANCE\\2023_Q4_TRANSMITTANCE_AND_TRANSFLECTANCE\\2023NOV_TRANSFLECTANCE\\ASC\\respaldo\\new_name' and renamed it to 'CICIMAUCR0158-4.ASC'\n",
      "CICIMAUCR0044\n",
      "Moved 'TXRX4-C. OPTIMA #8172.ASC' to 'E:\\CICIMA\\2023_Q4_TRANSMITTANCE_AND_TRANSFLECTANCE\\2023_Q4_TRANSMITTANCE_AND_TRANSFLECTANCE\\2023NOV_TRANSFLECTANCE\\ASC\\respaldo\\new_name' and renamed it to 'CICIMAUCR0044-4.ASC'\n",
      "CICIMAUCR0104\n",
      "Moved 'TXRX4-C. RESPLENDENS MV 23-19.ASC' to 'E:\\CICIMA\\2023_Q4_TRANSMITTANCE_AND_TRANSFLECTANCE\\2023_Q4_TRANSMITTANCE_AND_TRANSFLECTANCE\\2023NOV_TRANSFLECTANCE\\ASC\\respaldo\\new_name' and renamed it to 'CICIMAUCR0104-4.ASC'\n",
      "CICIMAUCR0105\n",
      "Moved 'TXRX4-CHRYSINA KALININI LA AMISTAD 2022.ASC' to 'E:\\CICIMA\\2023_Q4_TRANSMITTANCE_AND_TRANSFLECTANCE\\2023_Q4_TRANSMITTANCE_AND_TRANSFLECTANCE\\2023NOV_TRANSFLECTANCE\\ASC\\respaldo\\new_name' and renamed it to 'CICIMAUCR0105-4.ASC'\n",
      "INBUCR0313\n",
      "Moved 'TXRX4-MACRASPIS HIRTIVENTIS DIURNA .ASC' to 'E:\\CICIMA\\2023_Q4_TRANSMITTANCE_AND_TRANSFLECTANCE\\2023_Q4_TRANSMITTANCE_AND_TRANSFLECTANCE\\2023NOV_TRANSFLECTANCE\\ASC\\respaldo\\new_name' and renamed it to 'INBUCR0313-4.ASC'\n",
      "CICIMAUCR0029\n",
      "Moved 'TXRX4-PELID 2.ASC' to 'E:\\CICIMA\\2023_Q4_TRANSMITTANCE_AND_TRANSFLECTANCE\\2023_Q4_TRANSMITTANCE_AND_TRANSFLECTANCE\\2023NOV_TRANSFLECTANCE\\ASC\\respaldo\\new_name' and renamed it to 'CICIMAUCR0029-4.ASC'\n",
      "CICIMAUCR0160\n",
      "Moved 'TXRX4-PLATY 1.ASC' to 'E:\\CICIMA\\2023_Q4_TRANSMITTANCE_AND_TRANSFLECTANCE\\2023_Q4_TRANSMITTANCE_AND_TRANSFLECTANCE\\2023NOV_TRANSFLECTANCE\\ASC\\respaldo\\new_name' and renamed it to 'CICIMAUCR0160-4.ASC'\n",
      "INBUCR0112\n",
      "Moved 'TXRX4-STRIGIDA BELTI INBIO0004211063.ASC' to 'E:\\CICIMA\\2023_Q4_TRANSMITTANCE_AND_TRANSFLECTANCE\\2023_Q4_TRANSMITTANCE_AND_TRANSFLECTANCE\\2023NOV_TRANSFLECTANCE\\ASC\\respaldo\\new_name' and renamed it to 'INBUCR0112-4.ASC'\n",
      "CICIMAUCR0163\n",
      "Moved 'TXRX5-C. CHRYSARGYREA #73 MV23.ASC' to 'E:\\CICIMA\\2023_Q4_TRANSMITTANCE_AND_TRANSFLECTANCE\\2023_Q4_TRANSMITTANCE_AND_TRANSFLECTANCE\\2023NOV_TRANSFLECTANCE\\ASC\\respaldo\\new_name' and renamed it to 'CICIMAUCR0163-5.ASC'\n",
      "All files moved and renamed successfully.\n"
     ]
    }
   ],
   "source": [
    "tag_mapping = {}\n",
    "with open(r'E:\\CICIMA\\Estudio Optico Escarabajos\\first_to_third_names.txt', 'r') as file:\n",
    "    for line in file:\n",
    "        old_tag, new_tag = line.strip().split('\\t')\n",
    "        tag_mapping[old_tag] = new_tag\n",
    "        \n",
    "directory = r'E:\\CICIMA\\2023_Q4_TRANSMITTANCE_AND_TRANSFLECTANCE\\2023_Q4_TRANSMITTANCE_AND_TRANSFLECTANCE\\2023NOV_TRANSFLECTANCE\\ASC\\respaldo'\n",
    "\n",
    "# Create a subfolder for the new files\n",
    "new_folder = os.path.join(directory, 'new_name')\n",
    "os.makedirs(new_folder, exist_ok=True)\n",
    "\n",
    "# Iterate through files in the directory\n",
    "for filename in os.listdir(directory):\n",
    "    if os.path.isfile(os.path.join(directory, filename)):\n",
    "        # Rename the file with the new tag\n",
    "        new_filename = get_new_filename(filename)\n",
    "        old_path = os.path.join(directory, filename)\n",
    "        new_path = os.path.join(new_folder, new_filename)\n",
    "        try:\n",
    "            os.rename(old_path, new_path)\n",
    "        except Exception as e:\n",
    "            print(e)\n",
    "        print(f\"Moved '{filename}' to '{new_folder}' and renamed it to '{new_filename}'\")\n",
    "    else:\n",
    "        print(f\"No mapping found for '{filename}' in changes.txt\")\n",
    "\n",
    "print(\"All files moved and renamed successfully.\")\n"
   ]
  },
  {
   "cell_type": "code",
   "execution_count": null,
   "id": "be15ff5f-52ea-4dbe-b07e-7615da13a4f2",
   "metadata": {},
   "outputs": [],
   "source": []
  },
  {
   "cell_type": "code",
   "execution_count": null,
   "id": "61102c06-a7b4-414f-ad30-5b5211aee6fc",
   "metadata": {},
   "outputs": [],
   "source": []
  }
 ],
 "metadata": {
  "kernelspec": {
   "display_name": "Python 3 (ipykernel)",
   "language": "python",
   "name": "python3"
  },
  "language_info": {
   "codemirror_mode": {
    "name": "ipython",
    "version": 3
   },
   "file_extension": ".py",
   "mimetype": "text/x-python",
   "name": "python",
   "nbconvert_exporter": "python",
   "pygments_lexer": "ipython3",
   "version": "3.11.8"
  }
 },
 "nbformat": 4,
 "nbformat_minor": 5
}
