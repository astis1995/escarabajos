{
 "cells": [
  {
   "cell_type": "code",
   "execution_count": 1,
   "id": "78b64874-436c-4418-b6dd-00ab0b3f5ad5",
   "metadata": {},
   "outputs": [
    {
     "name": "stdout",
     "output_type": "stream",
     "text": [
      "{'video_found': True, 'audio_found': False, 'metadata': {'software': 'Lavf54.20.4'}, 'inputs': [{'streams': [{'input_number': 0, 'stream_number': 0, 'stream_type': 'video', 'language': None, 'default': True, 'size': [640, 480], 'bitrate': 913, 'fps': 9.0, 'codec_name': 'h264', 'profile': '(Baseline)'}], 'input_number': 0}], 'duration': 6142.11, 'bitrate': 914, 'start': 0.0, 'default_video_input_number': 0, 'default_video_stream_number': 0, 'video_codec_name': 'h264', 'video_profile': '(Baseline)', 'video_size': [640, 480], 'video_bitrate': 913, 'video_fps': 9.0, 'video_duration': 6142.11, 'video_n_frames': 55278}\n",
      "C:\\Users\\esteb\\miniconda3\\envs\\tensorflow\\Lib\\site-packages\\imageio_ffmpeg\\binaries\\ffmpeg-win-x86_64-v7.1.exe -i C:\\Users\\esteb\\Desktop\\Mediciones\\IR_00140.AVI -loglevel error -f image2pipe -vf scale=640:480 -sws_flags bicubic -pix_fmt rgb24 -vcodec rawvideo -\n",
      "<moviepy.video.io.VideoFileClip.VideoFileClip object at 0x0000013BBAFD3020>\n",
      "['_TEMP_FILES_PREFIX', '__add__', '__and__', '__class__', '__copy__', '__deepcopy__', '__del__', '__delattr__', '__dict__', '__dir__', '__doc__', '__enter__', '__eq__', '__exit__', '__format__', '__ge__', '__getattribute__', '__getitem__', '__getstate__', '__gt__', '__hash__', '__init__', '__init_subclass__', '__le__', '__lt__', '__matmul__', '__module__', '__mul__', '__ne__', '__new__', '__or__', '__reduce__', '__reduce_ex__', '__repr__', '__setattr__', '__sizeof__', '__str__', '__subclasshook__', '__truediv__', '__weakref__', 'aspect_ratio', 'audio', 'close', 'compose_mask', 'compose_on', 'copy', 'cropped', 'display_in_notebook', 'duration', 'end', 'filename', 'fill_array', 'fps', 'frame_function', 'get_frame', 'h', 'has_constant_size', 'image_transform', 'is_mask', 'is_playing', 'iter_frames', 'layer_index', 'mask', 'memoize', 'memoized_frame', 'memoized_t', 'n_frames', 'pos', 'preview', 'reader', 'relative_pos', 'resized', 'rotated', 'rotation', 'save_frame', 'show', 'size', 'start', 'subclipped', 'time_transform', 'to_ImageClip', 'to_RGB', 'to_mask', 'transform', 'w', 'with_audio', 'with_background_color', 'with_duration', 'with_effects', 'with_effects_on_subclip', 'with_end', 'with_fps', 'with_is_mask', 'with_layer_index', 'with_mask', 'with_memoize', 'with_opacity', 'with_position', 'with_section_cut_out', 'with_speed_scaled', 'with_start', 'with_updated_frame_function', 'with_volume_scaled', 'without_audio', 'without_mask', 'write_gif', 'write_images_sequence', 'write_videofile']\n",
      "{'video_found': True, 'audio_found': False, 'metadata': {'software': 'Lavf54.20.4'}, 'inputs': [{'streams': [{'input_number': 0, 'stream_number': 0, 'stream_type': 'video', 'language': None, 'default': True, 'size': [640, 480], 'bitrate': 913, 'fps': 9.0, 'codec_name': 'h264', 'profile': '(Baseline)'}], 'input_number': 0}], 'duration': 6142.11, 'bitrate': 914, 'start': 0.0, 'default_video_input_number': 0, 'default_video_stream_number': 0, 'video_codec_name': 'h264', 'video_profile': '(Baseline)', 'video_size': [640, 480], 'video_bitrate': 913, 'video_fps': 9.0, 'video_duration': 6142.11, 'video_n_frames': 55278}\n",
      "C:\\Users\\esteb\\miniconda3\\envs\\tensorflow\\Lib\\site-packages\\imageio_ffmpeg\\binaries\\ffmpeg-win-x86_64-v7.1.exe -ss 5381.000000 -i C:\\Users\\esteb\\Desktop\\Mediciones\\IR_00140.AVI -ss 1.000000 -loglevel error -f image2pipe -vf scale=640:480 -sws_flags bicubic -pix_fmt rgb24 -vcodec rawvideo -\n",
      "MoviePy - Building video E:\\Downloads\\test.mp4.\n",
      "MoviePy - Writing video E:\\Downloads\\test.mp4\n",
      "\n"
     ]
    },
    {
     "name": "stderr",
     "output_type": "stream",
     "text": [
      "                                                                                                                       "
     ]
    },
    {
     "name": "stdout",
     "output_type": "stream",
     "text": [
      "MoviePy - Done !\n",
      "MoviePy - video ready E:\\Downloads\\test.mp4\n"
     ]
    },
    {
     "name": "stderr",
     "output_type": "stream",
     "text": [
      "\r"
     ]
    }
   ],
   "source": [
    "from moviepy.video.io.VideoFileClip import VideoFileClip\n",
    "\n",
    "def trim_video(input_path, start_time, end_time, output_path):\n",
    "    \"\"\"\n",
    "    Trims a video file between the given start and end timestamps.\n",
    "    \n",
    "    :param input_path: Path to the input video file.\n",
    "    :param start_time: Start timestamp in 'HH:MM:SS' format.\n",
    "    :param end_time: End timestamp in 'HH:MM:SS' format.\n",
    "    :param output_path: Path to save the trimmed video.\n",
    "    \"\"\"\n",
    "    # Convert timestamps to seconds\n",
    "    def time_to_seconds(time_str):\n",
    "        h, m, s = map(int, time_str.split(':'))\n",
    "        return h * 3600 + m * 60 + s\n",
    "    \n",
    "    start_sec = time_to_seconds(start_time)\n",
    "    end_sec = time_to_seconds(end_time)\n",
    "    \n",
    "    # Load video and trim\n",
    "    with VideoFileClip(input_path) as clip:\n",
    "        print(clip)\n",
    "        print(dir(clip))\n",
    "        trimmed_clip = clip.subclipped(start_sec, end_sec)\n",
    "        trimmed_clip.write_videofile(output_path, codec=\"libx264\", audio_codec=\"aac\")\n",
    "\n",
    "# Example usage\n",
    "trim_video(r\"C:\\Users\\esteb\\Desktop\\Mediciones\\IR_00140.AVI\", \"01:29:42\", \"01:29:44\", r\"E:\\Downloads\\test.mp4\")\n"
   ]
  },
  {
   "cell_type": "code",
   "execution_count": null,
   "id": "f14d05f2-f61e-40e1-afff-e82d96047538",
   "metadata": {},
   "outputs": [],
   "source": []
  }
 ],
 "metadata": {
  "kernelspec": {
   "display_name": "Python 3 (ipykernel)",
   "language": "python",
   "name": "python3"
  },
  "language_info": {
   "codemirror_mode": {
    "name": "ipython",
    "version": 3
   },
   "file_extension": ".py",
   "mimetype": "text/x-python",
   "name": "python",
   "nbconvert_exporter": "python",
   "pygments_lexer": "ipython3",
   "version": "3.12.7"
  }
 },
 "nbformat": 4,
 "nbformat_minor": 5
}
