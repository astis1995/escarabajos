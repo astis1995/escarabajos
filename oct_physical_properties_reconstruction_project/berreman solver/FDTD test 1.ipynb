{
 "cells": [
  {
   "cell_type": "code",
   "execution_count": 1,
   "id": "a9cf6341-0e82-4991-a63c-28f5840165ca",
   "metadata": {},
   "outputs": [
    {
     "ename": "ImportError",
     "evalue": "cannot import name 'Vector3' from 'meep' (C:\\Users\\esteb\\miniconda3\\envs\\tmm\\lib\\site-packages\\meep\\__init__.py)",
     "output_type": "error",
     "traceback": [
      "\u001b[1;31m---------------------------------------------------------------------------\u001b[0m",
      "\u001b[1;31mImportError\u001b[0m                               Traceback (most recent call last)",
      "Cell \u001b[1;32mIn[1], line 2\u001b[0m\n\u001b[0;32m      1\u001b[0m \u001b[38;5;28;01mimport\u001b[39;00m\u001b[38;5;250m \u001b[39m\u001b[38;5;21;01mmeep\u001b[39;00m\u001b[38;5;250m \u001b[39m\u001b[38;5;28;01mas\u001b[39;00m\u001b[38;5;250m \u001b[39m\u001b[38;5;21;01mmp\u001b[39;00m\n\u001b[1;32m----> 2\u001b[0m \u001b[38;5;28;01mfrom\u001b[39;00m\u001b[38;5;250m \u001b[39m\u001b[38;5;21;01mmeep\u001b[39;00m\u001b[38;5;250m \u001b[39m\u001b[38;5;28;01mimport\u001b[39;00m Vector3\n\u001b[0;32m      4\u001b[0m \u001b[38;5;66;03m# Define simulation region (1D-like for stratified media)\u001b[39;00m\n\u001b[0;32m      5\u001b[0m resolution \u001b[38;5;241m=\u001b[39m \u001b[38;5;241m100\u001b[39m  \u001b[38;5;66;03m# Grid resolution\u001b[39;00m\n",
      "\u001b[1;31mImportError\u001b[0m: cannot import name 'Vector3' from 'meep' (C:\\Users\\esteb\\miniconda3\\envs\\tmm\\lib\\site-packages\\meep\\__init__.py)"
     ]
    }
   ],
   "source": [
    "import meep as mp\n",
    "from meep import Vector3\n",
    "\n",
    "# Define simulation region (1D-like for stratified media)\n",
    "resolution = 100  # Grid resolution\n",
    "cell_size = mp.Vector3(1, 0, 0)  # 1D along x\n",
    "pml_layers = [mp.PML(thickness=0.5)]\n",
    "\n",
    "# Materials (isotropic/anisotropic example)\n",
    "air = mp.Medium(epsilon=1.0)\n",
    "glass = mp.Medium(epsilon=2.25)  # n=1.5\n",
    "# For anisotropic, use mp.Medium(epsilon_diag=[eps_x, eps_y, eps_z])\n",
    "\n",
    "# Geometry: Layered stack\n",
    "geometry = [mp.Block(material=glass, center=mp.Vector3(0.5), size=mp.Vector3(1, mp.inf, mp.inf))]\n",
    "\n",
    "# Source: Gaussian pulse\n",
    "f_center = 1.0 / (0.8 * cell_size.x)  # Central frequency\n",
    "sources = [mp.Source(mp.GaussianSource(frequency=f_center, fwidth=f_center/10),\n",
    "                     center=mp.Vector3(-0.5), component=mp.Ey)]\n",
    "\n",
    "# Monitors for reflection/transmission\n",
    "refl_flux = mp.FluxRegion(center=mp.Vector3(-0.5), size=mp.Vector3(0, mp.inf, mp.inf), component=mp.Ey)\n",
    "trans_flux = mp.FluxRegion(center=mp.Vector3(0.5), size=mp.Vector3(0, mp.inf, mp.inf), component=mp.Ey)\n",
    "\n",
    "sim = mp.Simulation(cell_size=cell_size, resolution=resolution, geometry=geometry,\n",
    "                    sources=sources, boundary_layers=pml_layers,\n",
    "                    flux_regions=[refl_flux, trans_flux])\n",
    "\n",
    "sim.run(until=100)  # Run simulation\n",
    "\n",
    "# Compute R and T\n",
    "R = sim.get_flux(refl_flux) / mp.source_power(sources[0])\n",
    "T = sim.get_flux(trans_flux) / mp.source_power(sources[0])\n",
    "A = 1 - R - T  # Absorption (0 for non-lossy materials)\n",
    "\n",
    "print(f\"Reflection: {R}, Transmission: {T}, Absorption: {A}\")"
   ]
  },
  {
   "cell_type": "code",
   "execution_count": null,
   "id": "2c4e056c-d3ff-46b4-b049-40d6eb2dacc4",
   "metadata": {},
   "outputs": [],
   "source": [
    "import tidy3d as td\n",
    "import numpy as np\n",
    "\n",
    "# Simulation setup\n",
    "freq0 = 1e14  # Central frequency (Hz)\n",
    "fwidth = 0.1 * freq0  # Bandwidth\n",
    "sim_size = [10, 10, 5]  # um\n",
    "\n",
    "# Materials\n",
    "air = td.Medium(permittivity=1.0)\n",
    "glass = td.Medium(permittivity=2.25)  # Isotropic n=1.5\n",
    "# For anisotropic: glass = td.Medium(epsilon_diag=[2.25, 2.25, 4.0])\n",
    "\n",
    "# Geometry: Layer\n",
    "layer = td.Structure(geometry=td.Box(size=(np.inf, np.inf, 1)), medium=glass)\n",
    "\n",
    "# Source: Plane wave\n",
    "source = td.PlaneWaveSource(source_time=td.GaussianPulse(freq0, fwidth), direction='+',\n",
    "                            pol_angle=0, size=(np.inf, np.inf, 0), center=(0, 0, -1))\n",
    "\n",
    "# Monitors for R/T\n",
    "refl_mon = td.FluxMonitor(center=(0, 0, -1.5), size=(10, 10, 0), freqs=[freq0])\n",
    "trans_mon = td.FluxMonitor(center=(0, 0, 1.5), size=(10, 10, 0), freqs=[freq0])\n",
    "\n",
    "# Simulation\n",
    "sim = td.Simulation(size=sim_size, grid_spec=td.GridSpec.auto(min_steps_per_wvl=20),\n",
    "                    structures=[layer], sources=[source], monitors=[refl_mon, trans_mon])\n",
    "\n",
    "# Run (cloud-based)\n",
    "task = web.run(sim, task_name=\"layer_stack\", path_dir=\"data\")\n",
    "\n",
    "# Post-process\n",
    "R = np.real(task.get_intensity(refl_mon))\n",
    "T = np.real(task.get_intensity(trans_mon))\n",
    "A = 1 - R - T\n",
    "print(f\"Reflection: {R}, Transmission: {T}, Absorption: {A}\")"
   ]
  }
 ],
 "metadata": {
  "kernelspec": {
   "display_name": "Python 3 (ipykernel)",
   "language": "python",
   "name": "python3"
  },
  "language_info": {
   "codemirror_mode": {
    "name": "ipython",
    "version": 3
   },
   "file_extension": ".py",
   "mimetype": "text/x-python",
   "name": "python",
   "nbconvert_exporter": "python",
   "pygments_lexer": "ipython3",
   "version": "3.12.7"
  }
 },
 "nbformat": 4,
 "nbformat_minor": 5
}
