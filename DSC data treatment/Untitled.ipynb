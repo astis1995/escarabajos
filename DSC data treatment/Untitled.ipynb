{
 "cells": [
  {
   "cell_type": "code",
   "execution_count": null,
   "id": "abc6bfd8-f1e4-4ab8-b9ee-7f9cfc304b65",
   "metadata": {},
   "outputs": [],
   "source": [
    "import pandas as pd"
   ]
  },
  {
   "cell_type": "code",
   "execution_count": null,
   "id": "c08bc71a-d0e8-4226-869e-2d923b5d81c1",
   "metadata": {},
   "outputs": [],
   "source": [
    "base_folder = r\"C:\\Users\\EstebanSoto\\Jupyter\\escarabajos\\DSC_data\\V. Soto\\DSC\\03-jul-24\"\n",
    "filename1 = \"DSC_A1_2_0-100C_6Cmin_TXT.txt\"\n",
    "#filename2 = \n"
   ]
  }
 ],
 "metadata": {
  "kernelspec": {
   "display_name": "Python 3 (ipykernel)",
   "language": "python",
   "name": "python3"
  },
  "language_info": {
   "codemirror_mode": {
    "name": "ipython",
    "version": 3
   },
   "file_extension": ".py",
   "mimetype": "text/x-python",
   "name": "python",
   "nbconvert_exporter": "python",
   "pygments_lexer": "ipython3",
   "version": "3.9.18"
  }
 },
 "nbformat": 4,
 "nbformat_minor": 5
}
