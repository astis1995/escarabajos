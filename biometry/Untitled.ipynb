{
 "cells": [
  {
   "cell_type": "code",
   "execution_count": null,
   "id": "0a14ec01-a2a3-4ef3-8b46-8f5c8cd7f5a7",
   "metadata": {},
   "outputs": [],
   "source": [
    "# Flowchart generator"
   ]
  },
  {
   "cell_type": "code",
   "execution_count": 2,
   "id": "2d2424e8-2de1-4f41-95d8-82b6c25318cc",
   "metadata": {},
   "outputs": [
    {
     "ename": "FileNotFoundError",
     "evalue": "[Errno 2] No such file or directory: 'statistical_analysis_flow.puml'",
     "output_type": "error",
     "traceback": [
      "\u001b[1;31m---------------------------------------------------------------------------\u001b[0m",
      "\u001b[1;31mFileNotFoundError\u001b[0m                         Traceback (most recent call last)",
      "Cell \u001b[1;32mIn[2], line 3\u001b[0m\n\u001b[0;32m      1\u001b[0m \u001b[38;5;28;01mfrom\u001b[39;00m \u001b[38;5;21;01mplantuml\u001b[39;00m \u001b[38;5;28;01mimport\u001b[39;00m PlantUML\n\u001b[0;32m      2\u001b[0m server \u001b[38;5;241m=\u001b[39m PlantUML(url\u001b[38;5;241m=\u001b[39m\u001b[38;5;124m'\u001b[39m\u001b[38;5;124mhttp://www.plantuml.com/plantuml/img/\u001b[39m\u001b[38;5;124m'\u001b[39m)\n\u001b[1;32m----> 3\u001b[0m server\u001b[38;5;241m.\u001b[39mprocesses_file(\u001b[38;5;124m'\u001b[39m\u001b[38;5;124mstatistical_analysis_flow.puml\u001b[39m\u001b[38;5;124m'\u001b[39m)\n",
      "File \u001b[1;32m~\\miniconda3\\envs\\tensorflow\\Lib\\site-packages\\plantuml.py:197\u001b[0m, in \u001b[0;36mPlantUML.processes_file\u001b[1;34m(self, filename, outfile, errorfile, directory)\u001b[0m\n\u001b[0;32m    195\u001b[0m \u001b[38;5;28;01mif\u001b[39;00m directory \u001b[38;5;129;01mand\u001b[39;00m \u001b[38;5;129;01mnot\u001b[39;00m path\u001b[38;5;241m.\u001b[39mexists(directory):\n\u001b[0;32m    196\u001b[0m     makedirs(directory)\n\u001b[1;32m--> 197\u001b[0m data \u001b[38;5;241m=\u001b[39m \u001b[38;5;28mopen\u001b[39m(filename)\u001b[38;5;241m.\u001b[39mread()\n\u001b[0;32m    198\u001b[0m \u001b[38;5;28;01mtry\u001b[39;00m:\n\u001b[0;32m    199\u001b[0m     content \u001b[38;5;241m=\u001b[39m \u001b[38;5;28mself\u001b[39m\u001b[38;5;241m.\u001b[39mprocesses(data)\n",
      "\u001b[1;31mFileNotFoundError\u001b[0m: [Errno 2] No such file or directory: 'statistical_analysis_flow.puml'"
     ]
    }
   ],
   "source": [
    "from plantuml import PlantUML\n",
    "server = PlantUML(url='http://www.plantuml.com/plantuml/img/')\n",
    "server.processes_file('statistical_analysis_flow.puml')\n"
   ]
  },
  {
   "cell_type": "code",
   "execution_count": null,
   "id": "0efaba19-83be-47f6-a0f2-6ae052d8d84e",
   "metadata": {},
   "outputs": [],
   "source": []
  },
  {
   "cell_type": "code",
   "execution_count": null,
   "id": "0d90b879-8866-4c30-9da9-4d7f3d48f0f8",
   "metadata": {},
   "outputs": [],
   "source": []
  }
 ],
 "metadata": {
  "kernelspec": {
   "display_name": "Python 3 (ipykernel)",
   "language": "python",
   "name": "python3"
  },
  "language_info": {
   "codemirror_mode": {
    "name": "ipython",
    "version": 3
   },
   "file_extension": ".py",
   "mimetype": "text/x-python",
   "name": "python",
   "nbconvert_exporter": "python",
   "pygments_lexer": "ipython3",
   "version": "3.12.7"
  }
 },
 "nbformat": 4,
 "nbformat_minor": 5
}
