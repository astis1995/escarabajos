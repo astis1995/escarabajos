{
 "cells": [
  {
   "cell_type": "code",
   "execution_count": 1,
   "id": "0a8f826b-a35b-4adc-aa43-a87b8809d7a9",
   "metadata": {},
   "outputs": [],
   "source": [
    "#This script tests the library spectraltools.py"
   ]
  },
  {
   "cell_type": "code",
   "execution_count": 2,
   "id": "91cc6e89-2577-4478-a7ce-0c07729dd745",
   "metadata": {
    "scrolled": true
   },
   "outputs": [],
   "source": [
    "#dependencies\n",
    "import pandas as pd #Data analysis\n",
    "import numpy as np  #Array and numeric methods\n",
    "import matplotlib #Print graphs\n",
    "import matplotlib.pyplot as plt #Print graphs\n",
    "import os #operating system\n",
    "import re #regular expression manipulation\n",
    "from datetime import datetime #date and time methods\n",
    "\n",
    "#import spectraltools\n",
    "#This script requires the file spectraltools.py to work\n",
    "import sys\n",
    "# Add the external folder to the system path\n",
    "current_dir = os.getcwd()\n",
    "external_folder_path = os.path.abspath(os.path.join(current_dir, '../libraries'))\n",
    "sys.path.append(external_folder_path)\n",
    "\n",
    "#functionality to reload modules\n",
    "import importlib\n",
    "import spectraltools\n",
    "import metrics\n",
    "import datapath_selector\n",
    "# clear the import cache\n",
    "importlib.reload(metrics)\n",
    "importlib.reload(spectraltools)\n",
    "importlib.reload(datapath_selector)\n",
    "# now you can import my_class and it'll be updated\n",
    "from metrics import *\n",
    "from spectraltools import *\n",
    "from datapath_selector import get_paths"
   ]
  },
  {
   "cell_type": "code",
   "execution_count": 3,
   "id": "3afaca60-71ea-4f6d-be7f-e5888bb6683c",
   "metadata": {},
   "outputs": [],
   "source": [
    "#Test read collections"
   ]
  },
  {
   "cell_type": "code",
   "execution_count": null,
   "id": "a493de7e-7e87-49f7-9564-cb758b553539",
   "metadata": {},
   "outputs": [],
   "source": [
    "#parent folder path\n",
    "\n",
    "file_folder_data_path =[ r\"..\\L1050_data\\CICIMA-2024-05-REFLECTANCE\\DORSAL\",\n",
    "                         r\"..\\L1050_data\\CICIMA-2024-05-REFLECTANCE\\VENTRAL\",\n",
    "                         r\"..\\L1050_data\\CICIMA-2024-03-REFLECTANCE\\without iris nor lens\",\n",
    "                         r\"..\\L1050_data\\2024-04-INBUCR-REFLECTANCE\",\n",
    "                         r\"..\\L1050_data\\2023-03-CICIMAUCR-2-REFLECTANCE\",\n",
    "                         r\"..\\L1050_data\\CICIMA-2024-05-REFLECTANCE\\DORSAL\"\n",
    "                       ]\n",
    "\"\"\"OPTIONS: cicima_laptop, colaboratory, wfh, cicima_desktop\n",
    "    \"\"\"\n",
    "collection_paths = get_paths(working_at=\"cicima_desktop\")\n",
    "print(collection_paths)\n",
    "\n",
    "angsol_collection = Specimen_Collection(\"ANGSOL\", collection_paths[\"angsol_collection_path\"] , collection_paths[\"angsol_collection_metadata\"] , \"HIGH\")\n",
    "angsol_collection.set_description(\"ANGSOL collection has specimens that belong to Angel Solís. The confidence that we have about specimen identification is high.\")\n",
    "\n",
    "cicimaucr_collection = Specimen_Collection(\"CICIMAUCR1\", collection_paths[\"cicimaucr_collection_path\"] , collection_paths[\"cicima_ucr_metadata\"] , \"HIGH\")\n",
    "cicimaucr_collection_2 = Specimen_Collection(\"CICIMAUCR2\", collection_paths[\"cicimaucr_collection_2_path\"] , collection_paths[\"cicima_ucr_metadata\"] , \"HIGH\")\n",
    "cicimaucr_collection_3 = Specimen_Collection(\"CICIMAUCR3\", collection_paths[\"cicimaucr_collection_3_path\"] , collection_paths[\"cicima_ucr_metadata\"] , \"HIGH\")\n",
    "inbucr_collection = Specimen_Collection(\"INBUCR\", collection_paths[\"inbucr_collection_path\"] , collection_paths[\"inbucr_metadata\"] , \"HIGH\")\n",
    "bioucr_collection = Specimen_Collection(\"BIOUCR\", collection_paths[\"bioucr_collection_path\"] , collection_paths[\"bioucr_metadata\"] , \"LOW\")\n",
    "\n",
    "collection_list = [\n",
    "                    angsol_collection,\n",
    "                    cicimaucr_collection,\n",
    "                    cicimaucr_collection_2,\n",
    "                    cicimaucr_collection_3,\n",
    "                    inbucr_collection,\n",
    "                    bioucr_collection,\n",
    "                    ]\n",
    "print(collection_list)\n",
    "\n",
    "assert len(collection_list) == 6, \"Error in test read collections\""
   ]
  },
  {
   "cell_type": "code",
   "execution_count": null,
   "id": "60ec9053-df7d-419e-a736-1e8907e795e4",
   "metadata": {},
   "outputs": [],
   "source": [
    "# check file opener\n",
    "angsol_collection = (collection_list[0])\n",
    "#print(f\"{angsol_collection.get_metadata()=} \\n\" )\n",
    "#print(f\"{angsol_collection.get_data_folder_path()=} \\n\" )   \n",
    "#print(f\"{angsol_collection.get_data_filenames()=} \\n\" )\n",
    "test_filename = angsol_collection.get_data_filenames()[0]\n",
    "assert len(angsol_collection.get_metadata()) != 0, \"no metadata\" \n",
    "assert len(angsol_collection.get_data_folder_path()) != \"\", \"no folder_path\" \n",
    "assert len(angsol_collection.get_data_filenames()) != 0, \"no data_filenames\" \n",
    "assert test_filename != None, \"no test_filename\" "
   ]
  },
  {
   "cell_type": "code",
   "execution_count": null,
   "id": "2469da78-0766-4dbe-9b06-a65888b36085",
   "metadata": {},
   "outputs": [],
   "source": []
  },
  {
   "cell_type": "code",
   "execution_count": 4,
   "id": "88f7ec48-68cf-40f4-98e3-d54abe5e5886",
   "metadata": {},
   "outputs": [],
   "source": [
    "# check l1050 file"
   ]
  },
  {
   "cell_type": "markdown",
   "id": "9079339e-d328-4a79-8703-2c74cbfb77a3",
   "metadata": {},
   "source": [
    "assert check_l1050_file(test_filename), \"Check l1050 file, test: FAILED\"\n"
   ]
  },
  {
   "cell_type": "markdown",
   "id": "a8cb215d-c260-4205-a61a-483c03fbe7b3",
   "metadata": {},
   "source": [
    "#read l1050 file\n",
    "metadata = read_l1050_file(test_filename)[0]\n",
    "print(metadata.keys())\n",
    "assert len(metadata.keys())!=0\n",
    "dataframe = read_l1050_file(test_filename)[1]\n",
    "print(dataframe.columns)\n",
    "assert len(dataframe.columns) == 2, f\"There should be only two columns there are {len(dataframe.columns)} columns: {dataframe.columns}\""
   ]
  },
  {
   "cell_type": "code",
   "execution_count": 5,
   "id": "d405dd4a-2cb1-40ce-9a17-7d1a5258e41d",
   "metadata": {},
   "outputs": [],
   "source": [
    "#check CRAIC collection creation\n",
    "craic_collection_test = Specimen_Collection(name = \"BIOUCR_CRAIC\", \n",
    "                                            data_folder_path = r\"C:\\Users\\esteb\\cicima\\escarabajos\\CRAIC data\\vinicio\\01032024\\2024-03_BIOUCR-REFLECTANCE\\20240305\",\n",
    "                                            metadata_path = r\"C:\\Users\\esteb\\cicima\\escarabajos\\CRAIC data\\collections\\BIOUCR.txt\",\n",
    "                                            quality = \"HIGH\")\n",
    "assert craic_collection_test.get_name() == \"BIOUCR_CRAIC\", \"CRAIC collection creation: FAILED\"\n",
    "assert len(craic_collection_test.get_metadata()) != 0, \"Collection length is zero\""
   ]
  },
  {
   "cell_type": "code",
   "execution_count": 6,
   "id": "84407675-2622-432b-86df-0018fc2fb529",
   "metadata": {},
   "outputs": [
    {
     "name": "stdout",
     "output_type": "stream",
     "text": [
      "C:\\Users\\esteb\\cicima\\escarabajos\\CRAIC data\\vinicio\\01032024\\2024-03_BIOUCR-REFLECTANCE\\20240305\\BIOUCR0030_L.csv\n"
     ]
    }
   ],
   "source": [
    "#check CRAIC file\n",
    "test_CRAIC_filename = craic_collection_test.get_data_filenames()[0]\n",
    "print(test_CRAIC_filename)\n",
    "#assert check_CRAIC_file(test_filename), \"Check l1050 file, test: FAILED\"\n"
   ]
  },
  {
   "cell_type": "code",
   "execution_count": 7,
   "id": "1b23d54d-114f-4531-9ed2-abdbf41d9868",
   "metadata": {
    "scrolled": true
   },
   "outputs": [
    {
     "name": "stdout",
     "output_type": "stream",
     "text": [
      "File: C:\\Users\\esteb\\cicima\\escarabajos\\CRAIC data\\vinicio\\01032024\\2024-03_BIOUCR-REFLECTANCE\\20240305\\BIOUCR0030_L.csv\n",
      "str='Time1=43ms:Average1=10:Objective=10X:Aperture=1: (3/5/2024 8:54:50 AM)'\n",
      "match!\n",
      "time1='43'\n",
      "average1='10'\n",
      "objective='10X'\n",
      "aperture='1'\n",
      "date='3/5/2024'\n",
      "time='8:54:50 AM'\n",
      "group 2: L\n",
      "metadata[\"code\"]='BIOUCR0030'\n",
      "metadata[\"polarization\"]='L'\n",
      "File: C:\\Users\\esteb\\cicima\\escarabajos\\CRAIC data\\vinicio\\01032024\\2024-03_BIOUCR-REFLECTANCE\\20240305\\BIOUCR0030_L.csv\n",
      "str='Time1=43ms:Average1=10:Objective=10X:Aperture=1: (3/5/2024 8:54:50 AM)'\n",
      "match!\n",
      "time1='43'\n",
      "average1='10'\n",
      "objective='10X'\n",
      "aperture='1'\n",
      "date='3/5/2024'\n",
      "time='8:54:50 AM'\n",
      "group 2: L\n",
      "metadata[\"code\"]='BIOUCR0030'\n",
      "metadata[\"polarization\"]='L'\n"
     ]
    }
   ],
   "source": [
    "#read CRAIC file\n",
    "assert read_CRAIC_file(test_CRAIC_filename)[0] != \"empty header: TEST FAILED\"\n",
    "assert len(read_CRAIC_file(test_CRAIC_filename)[1]) != 0, \"empty dataframe: TEST FAILED\""
   ]
  },
  {
   "cell_type": "code",
   "execution_count": 8,
   "id": "5519ced0-e6a3-4ef8-a013-57c75fd0a1bd",
   "metadata": {},
   "outputs": [],
   "source": [
    "#read l1050 empty file\n",
    "empty_test_craic_file = "
   ]
  },
  {
   "cell_type": "code",
   "execution_count": 9,
   "id": "6774258e-abbd-4d12-9b3c-f8f4f0c76e6c",
   "metadata": {},
   "outputs": [],
   "source": [
    "#read CRAIC empty file"
   ]
  },
  {
   "cell_type": "code",
   "execution_count": null,
   "id": "2e001ff9-efc8-471f-8c91-5d7732a6e83e",
   "metadata": {},
   "outputs": [],
   "source": []
  },
  {
   "cell_type": "code",
   "execution_count": null,
   "id": "ed133949-03bf-459a-883e-aba5b251f641",
   "metadata": {},
   "outputs": [],
   "source": []
  }
 ],
 "metadata": {
  "kernelspec": {
   "display_name": "Python 3 (ipykernel)",
   "language": "python",
   "name": "python3"
  },
  "language_info": {
   "codemirror_mode": {
    "name": "ipython",
    "version": 3
   },
   "file_extension": ".py",
   "mimetype": "text/x-python",
   "name": "python",
   "nbconvert_exporter": "python",
   "pygments_lexer": "ipython3",
   "version": "3.12.3"
  }
 },
 "nbformat": 4,
 "nbformat_minor": 5
}
