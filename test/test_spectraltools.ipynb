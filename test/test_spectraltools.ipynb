{
 "cells": [
  {
   "cell_type": "code",
   "execution_count": 1,
   "id": "0a8f826b-a35b-4adc-aa43-a87b8809d7a9",
   "metadata": {},
   "outputs": [],
   "source": [
    "#This script tests the library spectraltools.py"
   ]
  },
  {
   "cell_type": "code",
   "execution_count": 2,
   "id": "91cc6e89-2577-4478-a7ce-0c07729dd745",
   "metadata": {
    "scrolled": true
   },
   "outputs": [],
   "source": [
    "#dependencies\n",
    "import pandas as pd #Data analysis\n",
    "import numpy as np  #Array and numeric methods\n",
    "import matplotlib #Print graphs\n",
    "import matplotlib.pyplot as plt #Print graphs\n",
    "import os #operating system\n",
    "import re #regular expression manipulation\n",
    "from datetime import datetime #date and time methods\n",
    "\n",
    "#import spectraltools\n",
    "#This script requires the file spectraltools.py to work\n",
    "import sys\n",
    "# Add the external folder to the system path\n",
    "current_dir = os.getcwd()\n",
    "external_folder_path = os.path.abspath(os.path.join(current_dir, '../libraries'))\n",
    "sys.path.append(external_folder_path)\n",
    "\n",
    "#functionality to reload modules\n",
    "import importlib\n",
    "import spectraltools\n",
    "import metrics\n",
    "import datapath_selector\n",
    "# clear the import cache\n",
    "importlib.reload(metrics)\n",
    "importlib.reload(spectraltools)\n",
    "importlib.reload(datapath_selector)\n",
    "# now you can import my_class and it'll be updated\n",
    "from metrics import *\n",
    "from spectraltools import *\n",
    "from datapath_selector import get_paths"
   ]
  },
  {
   "cell_type": "code",
   "execution_count": 3,
   "id": "3afaca60-71ea-4f6d-be7f-e5888bb6683c",
   "metadata": {},
   "outputs": [],
   "source": [
    "#Test read collections"
   ]
  },
  {
   "cell_type": "code",
   "execution_count": 4,
   "id": "a493de7e-7e87-49f7-9564-cb758b553539",
   "metadata": {},
   "outputs": [
    {
     "name": "stdout",
     "output_type": "stream",
     "text": [
      "{'angsol_collection_path': 'C:\\\\Users\\\\esteb\\\\cicima\\\\escarabajos\\\\L1050_data\\\\ANGSOL\\\\average', 'angsol_collection_metadata': 'C:\\\\Users\\\\esteb\\\\cicima\\\\escarabajos\\\\L1050_data\\\\collections\\\\CICIMA-beetles-general-inventory - ANGSOL.txt', 'craic_test_path': '', 'cicimaucr_collection_path': 'C:\\\\Users\\\\esteb\\\\cicima\\\\escarabajos\\\\L1050_data\\\\TRA_data_CICIMA_INBUCR\\\\CICIMAUCR\\\\reflectance', 'cicimaucr_collection_2_path': 'C:\\\\Users\\\\esteb\\\\cicima\\\\escarabajos\\\\L1050_data\\\\CICIMA-2024-01-REFLECTANCE\\\\average', 'cicimaucr_collection_3_path': 'C:\\\\Users\\\\esteb\\\\cicima\\\\escarabajos\\\\L1050_data\\\\CICIMA-2024-03-REFLECTANCE\\\\without iris nor lens\\\\average', 'cicima_ucr_metadata': 'C:\\\\Users\\\\esteb\\\\cicima\\\\escarabajos\\\\L1050_data\\\\collections\\\\CICIMA-beetles-general-inventory - CICIMAUCR.txt', 'inbucr_collection_path': 'C:\\\\Users\\\\esteb\\\\cicima\\\\escarabajos\\\\L1050_data\\\\INBUCR\\\\average', 'inbucr_metadata': 'C:\\\\Users\\\\esteb\\\\cicima\\\\escarabajos\\\\L1050_data\\\\collections\\\\CICIMA-beetles-general-inventory - INBUCR.txt', 'bioucr_collection_path': 'C:\\\\Users\\\\esteb\\\\cicima\\\\escarabajos\\\\L1050_data\\\\BIOUCR\\\\average', 'bioucr_metadata': 'C:\\\\Users\\\\esteb\\\\cicima\\\\escarabajos\\\\L1050_data\\\\collections\\\\CICIMA-beetles-general-inventory - BIOUCR.txt', 'agregated_data_avg_path': 'C:\\\\Users\\\\esteb\\\\cicima\\\\escarabajos\\\\agregated_data\\\\peak_averages_krc.txt', 'agregated_data_std_dev_path': 'C:\\\\Users\\\\esteb\\\\cicima\\\\escarabajos\\\\agregated_data\\\\peak_std_krc.txt', 'report_location': '', 'database_descriptor': ''}\n"
     ]
    },
    {
     "ename": "FileNotFoundError",
     "evalue": "[Errno 2] No such file or directory: 'C:\\\\Users\\\\esteb\\\\cicima\\\\escarabajos\\\\L1050_data\\\\collections\\\\CICIMA-beetles-general-inventory - ANGSOL.txt'",
     "output_type": "error",
     "traceback": [
      "\u001b[1;31m---------------------------------------------------------------------------\u001b[0m",
      "\u001b[1;31mFileNotFoundError\u001b[0m                         Traceback (most recent call last)",
      "Cell \u001b[1;32mIn[4], line 15\u001b[0m\n\u001b[0;32m     12\u001b[0m collection_paths \u001b[38;5;241m=\u001b[39m get_paths(working_at\u001b[38;5;241m=\u001b[39m\u001b[38;5;124m\"\u001b[39m\u001b[38;5;124mcicima_desktop\u001b[39m\u001b[38;5;124m\"\u001b[39m)\n\u001b[0;32m     13\u001b[0m \u001b[38;5;28mprint\u001b[39m(collection_paths)\n\u001b[1;32m---> 15\u001b[0m angsol_collection \u001b[38;5;241m=\u001b[39m \u001b[43mSpecimen_Collection\u001b[49m\u001b[43m(\u001b[49m\u001b[38;5;124;43m\"\u001b[39;49m\u001b[38;5;124;43mANGSOL\u001b[39;49m\u001b[38;5;124;43m\"\u001b[39;49m\u001b[43m,\u001b[49m\u001b[43m \u001b[49m\u001b[43mcollection_paths\u001b[49m\u001b[43m[\u001b[49m\u001b[38;5;124;43m\"\u001b[39;49m\u001b[38;5;124;43mangsol_collection_path\u001b[39;49m\u001b[38;5;124;43m\"\u001b[39;49m\u001b[43m]\u001b[49m\u001b[43m \u001b[49m\u001b[43m,\u001b[49m\u001b[43m \u001b[49m\u001b[43mcollection_paths\u001b[49m\u001b[43m[\u001b[49m\u001b[38;5;124;43m\"\u001b[39;49m\u001b[38;5;124;43mangsol_collection_metadata\u001b[39;49m\u001b[38;5;124;43m\"\u001b[39;49m\u001b[43m]\u001b[49m\u001b[43m \u001b[49m\u001b[43m,\u001b[49m\u001b[43m \u001b[49m\u001b[38;5;124;43m\"\u001b[39;49m\u001b[38;5;124;43mHIGH\u001b[39;49m\u001b[38;5;124;43m\"\u001b[39;49m\u001b[43m)\u001b[49m\n\u001b[0;32m     16\u001b[0m angsol_collection\u001b[38;5;241m.\u001b[39mset_description(\u001b[38;5;124m\"\u001b[39m\u001b[38;5;124mANGSOL collection has specimens that belong to Angel Solís. The confidence that we have about specimen identification is high.\u001b[39m\u001b[38;5;124m\"\u001b[39m)\n\u001b[0;32m     18\u001b[0m cicimaucr_collection \u001b[38;5;241m=\u001b[39m Specimen_Collection(\u001b[38;5;124m\"\u001b[39m\u001b[38;5;124mCICIMAUCR1\u001b[39m\u001b[38;5;124m\"\u001b[39m, collection_paths[\u001b[38;5;124m\"\u001b[39m\u001b[38;5;124mcicimaucr_collection_path\u001b[39m\u001b[38;5;124m\"\u001b[39m] , collection_paths[\u001b[38;5;124m\"\u001b[39m\u001b[38;5;124mcicima_ucr_metadata\u001b[39m\u001b[38;5;124m\"\u001b[39m] , \u001b[38;5;124m\"\u001b[39m\u001b[38;5;124mHIGH\u001b[39m\u001b[38;5;124m\"\u001b[39m)\n",
      "File \u001b[1;32m~\\Jupyter\\escarabajos\\libraries\\spectraltools.py:43\u001b[0m, in \u001b[0;36mSpecimen_Collection.__init__\u001b[1;34m(self, name, data_folder_path, metadata_path, quality)\u001b[0m\n\u001b[0;32m     41\u001b[0m \u001b[38;5;28mself\u001b[39m\u001b[38;5;241m.\u001b[39mname \u001b[38;5;241m=\u001b[39m name\n\u001b[0;32m     42\u001b[0m \u001b[38;5;28mself\u001b[39m\u001b[38;5;241m.\u001b[39mdata_folder_path \u001b[38;5;241m=\u001b[39m data_folder_path\n\u001b[1;32m---> 43\u001b[0m \u001b[38;5;28mself\u001b[39m\u001b[38;5;241m.\u001b[39mmetadata \u001b[38;5;241m=\u001b[39m \u001b[38;5;28;43mself\u001b[39;49m\u001b[38;5;241;43m.\u001b[39;49m\u001b[43mread_collection\u001b[49m\u001b[43m(\u001b[49m\u001b[43mmetadata_path\u001b[49m\u001b[43m)\u001b[49m\n\u001b[0;32m     44\u001b[0m \u001b[38;5;28mself\u001b[39m\u001b[38;5;241m.\u001b[39mquality \u001b[38;5;241m=\u001b[39m quality\n\u001b[0;32m     45\u001b[0m \u001b[38;5;28mself\u001b[39m\u001b[38;5;241m.\u001b[39mdescription \u001b[38;5;241m=\u001b[39m \u001b[38;5;124m\"\u001b[39m\u001b[38;5;124mNo description\u001b[39m\u001b[38;5;124m\"\u001b[39m\n",
      "File \u001b[1;32m~\\Jupyter\\escarabajos\\libraries\\spectraltools.py:36\u001b[0m, in \u001b[0;36mSpecimen_Collection.read_collection\u001b[1;34m(self, collection_path)\u001b[0m\n\u001b[0;32m     35\u001b[0m \u001b[38;5;28;01mdef\u001b[39;00m \u001b[38;5;21mread_collection\u001b[39m(\u001b[38;5;28mself\u001b[39m,collection_path):\n\u001b[1;32m---> 36\u001b[0m     \u001b[38;5;28;01mwith\u001b[39;00m \u001b[38;5;28;43mopen\u001b[39;49m\u001b[43m(\u001b[49m\u001b[43mcollection_path\u001b[49m\u001b[43m,\u001b[49m\u001b[43m \u001b[49m\u001b[43mencoding\u001b[49m\u001b[38;5;241;43m=\u001b[39;49m\u001b[43m \u001b[49m\u001b[38;5;124;43m\"\u001b[39;49m\u001b[38;5;124;43mlatin1\u001b[39;49m\u001b[38;5;124;43m\"\u001b[39;49m\u001b[43m)\u001b[49m \u001b[38;5;28;01mas\u001b[39;00m f:\n\u001b[0;32m     37\u001b[0m       df \u001b[38;5;241m=\u001b[39m pd\u001b[38;5;241m.\u001b[39mread_csv(f, sep\u001b[38;5;241m=\u001b[39m\u001b[38;5;124m\"\u001b[39m\u001b[38;5;130;01m\\t\u001b[39;00m\u001b[38;5;124m\"\u001b[39m, decimal \u001b[38;5;241m=\u001b[39m\u001b[38;5;124m\"\u001b[39m\u001b[38;5;124m,\u001b[39m\u001b[38;5;124m\"\u001b[39m, header\u001b[38;5;241m=\u001b[39m\u001b[38;5;241m0\u001b[39m, encoding\u001b[38;5;241m=\u001b[39m\u001b[38;5;124m\"\u001b[39m\u001b[38;5;124miso-8859-1\u001b[39m\u001b[38;5;124m\"\u001b[39m)\n\u001b[0;32m     38\u001b[0m       \u001b[38;5;28;01mreturn\u001b[39;00m df\n",
      "\u001b[1;31mFileNotFoundError\u001b[0m: [Errno 2] No such file or directory: 'C:\\\\Users\\\\esteb\\\\cicima\\\\escarabajos\\\\L1050_data\\\\collections\\\\CICIMA-beetles-general-inventory - ANGSOL.txt'"
     ]
    }
   ],
   "source": [
    "#parent folder path\n",
    "\n",
    "file_folder_data_path =[ r\"..\\L1050_data\\CICIMA-2024-05-REFLECTANCE\\DORSAL\",\n",
    "                         r\"..\\L1050_data\\CICIMA-2024-05-REFLECTANCE\\VENTRAL\",\n",
    "                         r\"..\\L1050_data\\CICIMA-2024-03-REFLECTANCE\\without iris nor lens\",\n",
    "                         r\"..\\L1050_data\\2024-04-INBUCR-REFLECTANCE\",\n",
    "                         r\"..\\L1050_data\\2023-03-CICIMAUCR-2-REFLECTANCE\",\n",
    "                         r\"..\\L1050_data\\CICIMA-2024-05-REFLECTANCE\\DORSAL\"\n",
    "                       ]\n",
    "\"\"\"OPTIONS: cicima_laptop, colaboratory, wfh, cicima_desktop\n",
    "    \"\"\"\n",
    "collection_paths = get_paths(working_at=\"cicima_desktop\")\n",
    "print(collection_paths)\n",
    "\n",
    "angsol_collection = Specimen_Collection(\"ANGSOL\", collection_paths[\"angsol_collection_path\"] , collection_paths[\"angsol_collection_metadata\"] , \"HIGH\")\n",
    "angsol_collection.set_description(\"ANGSOL collection has specimens that belong to Angel Solís. The confidence that we have about specimen identification is high.\")\n",
    "\n",
    "cicimaucr_collection = Specimen_Collection(\"CICIMAUCR1\", collection_paths[\"cicimaucr_collection_path\"] , collection_paths[\"cicima_ucr_metadata\"] , \"HIGH\")\n",
    "cicimaucr_collection_2 = Specimen_Collection(\"CICIMAUCR2\", collection_paths[\"cicimaucr_collection_2_path\"] , collection_paths[\"cicima_ucr_metadata\"] , \"HIGH\")\n",
    "cicimaucr_collection_3 = Specimen_Collection(\"CICIMAUCR3\", collection_paths[\"cicimaucr_collection_3_path\"] , collection_paths[\"cicima_ucr_metadata\"] , \"HIGH\")\n",
    "inbucr_collection = Specimen_Collection(\"INBUCR\", collection_paths[\"inbucr_collection_path\"] , collection_paths[\"inbucr_metadata\"] , \"HIGH\")\n",
    "bioucr_collection = Specimen_Collection(\"BIOUCR\", collection_paths[\"bioucr_collection_path\"] , collection_paths[\"bioucr_metadata\"] , \"LOW\")\n",
    "\n",
    "collection_list = [\n",
    "                    angsol_collection,\n",
    "                    cicimaucr_collection,\n",
    "                    cicimaucr_collection_2,\n",
    "                    cicimaucr_collection_3,\n",
    "                    inbucr_collection,\n",
    "                    bioucr_collection,\n",
    "                    ]\n",
    "print(collection_list)\n",
    "\n",
    "assert len(collection_list) == 6, \"Error in test read collections\""
   ]
  },
  {
   "cell_type": "code",
   "execution_count": null,
   "id": "60ec9053-df7d-419e-a736-1e8907e795e4",
   "metadata": {},
   "outputs": [],
   "source": [
    "# check file opener\n",
    "angsol_collection = (collection_list[0])\n",
    "#print(f\"{angsol_collection.get_metadata()=} \\n\" )\n",
    "#print(f\"{angsol_collection.get_data_folder_path()=} \\n\" )   \n",
    "#print(f\"{angsol_collection.get_data_filenames()=} \\n\" )\n",
    "test_filename = angsol_collection.get_data_filenames()[0]\n",
    "assert len(angsol_collection.get_metadata()) != 0, \"no metadata\" \n",
    "assert len(angsol_collection.get_data_folder_path()) != \"\", \"no folder_path\" \n",
    "assert len(angsol_collection.get_data_filenames()) != 0, \"no data_filenames\" \n",
    "assert test_filename != None, \"no test_filename\" "
   ]
  },
  {
   "cell_type": "code",
   "execution_count": null,
   "id": "2469da78-0766-4dbe-9b06-a65888b36085",
   "metadata": {},
   "outputs": [],
   "source": []
  },
  {
   "cell_type": "code",
   "execution_count": null,
   "id": "88f7ec48-68cf-40f4-98e3-d54abe5e5886",
   "metadata": {},
   "outputs": [],
   "source": [
    "# check l1050 file"
   ]
  },
  {
   "cell_type": "markdown",
   "id": "9079339e-d328-4a79-8703-2c74cbfb77a3",
   "metadata": {},
   "source": [
    "assert check_l1050_file(test_filename), \"Check l1050 file, test: FAILED\"\n"
   ]
  },
  {
   "cell_type": "markdown",
   "id": "a8cb215d-c260-4205-a61a-483c03fbe7b3",
   "metadata": {},
   "source": [
    "#read l1050 file\n",
    "metadata = read_l1050_file(test_filename)[0]\n",
    "print(metadata.keys())\n",
    "assert len(metadata.keys())!=0\n",
    "dataframe = read_l1050_file(test_filename)[1]\n",
    "print(dataframe.columns)\n",
    "assert len(dataframe.columns) == 2, f\"There should be only two columns there are {len(dataframe.columns)} columns: {dataframe.columns}\""
   ]
  },
  {
   "cell_type": "code",
   "execution_count": null,
   "id": "d405dd4a-2cb1-40ce-9a17-7d1a5258e41d",
   "metadata": {},
   "outputs": [],
   "source": [
    "#check CRAIC collection creation\n",
    "craic_collection_test = Specimen_Collection(name = \"BIOUCR_CRAIC\", \n",
    "                                            data_folder_path = r\"C:\\Users\\esteb\\cicima\\escarabajos\\CRAIC data\\vinicio\\01032024\\2024-03_BIOUCR-REFLECTANCE\\20240305\",\n",
    "                                            metadata_path = r\"C:\\Users\\esteb\\cicima\\escarabajos\\CRAIC data\\collections\\BIOUCR.txt\",\n",
    "                                            quality = \"HIGH\")\n",
    "assert craic_collection_test.get_name() == \"BIOUCR_CRAIC\", \"CRAIC collection creation: FAILED\"\n",
    "assert len(craic_collection_test.get_metadata()) != 0, \"Collection length is zero\""
   ]
  },
  {
   "cell_type": "code",
   "execution_count": null,
   "id": "84407675-2622-432b-86df-0018fc2fb529",
   "metadata": {},
   "outputs": [],
   "source": [
    "#check CRAIC file\n",
    "test_CRAIC_filename = craic_collection_test.get_data_filenames()[0]\n",
    "print(test_CRAIC_filename)\n",
    "#assert check_CRAIC_file(test_filename), \"Check l1050 file, test: FAILED\"\n"
   ]
  },
  {
   "cell_type": "code",
   "execution_count": null,
   "id": "1b23d54d-114f-4531-9ed2-abdbf41d9868",
   "metadata": {
    "scrolled": true
   },
   "outputs": [],
   "source": [
    "l1050_no_header_file = os.path.join(current_directory, r\"..\\test\\data\\test_spectraltools\\empty_files_test\\no header\\INBUCR0127-1.Sample.ASC\"  )\n",
    "\n",
    "\n",
    "class TestReadMethods(unittest.TestCase):\n",
    "    def test_read_l1050_no_header(self):\n",
    "        with self.assertRaises(ValueError) as context:\n",
    "            #read CRAIC file\n",
    "            read_CRAIC_file(test_CRAIC_filename)\n",
    "    def test_check_l1050_no_header(self):\n",
    "        self.assertEqual(check_CRAIC_file(test_CRAIC_filename), False)\n",
    "            \n",
    "TestReadMethods().test_read_l1050_no_header()\n",
    "TestReadMethods().test_check_l1050_no_header()"
   ]
  },
  {
   "cell_type": "code",
   "execution_count": null,
   "id": "5519ced0-e6a3-4ef8-a013-57c75fd0a1bd",
   "metadata": {},
   "outputs": [],
   "source": [
    "#read l1050 empty file\n",
    "#no header\n",
    "\n",
    "l1050_no_header_file = os.path.join(current_directory, r\"..\\test\\data\\test_spectraltools\\empty_files_test\\no header\\INBUCR0127-1.Sample.ASC\"  )\n",
    "#check_l1050_file(l1050_no_header_file), \"This l1050 file should not be accepted: No header. TEST FAILED\"\n",
    "read_l1050_file(l1050_no_header_file)\n",
    "#no body\n",
    "#l1050_no_body_file = os.path.join(current_directory,r\"..\\test\\data\\test_spectraltools\\empty_files_test\\no body\\INBUCR0127-1.Sample.ASC\" )\n",
    "check_l1050_file(l1050_no_body_file)\n",
    "read_l1050_file(l1050_no_body_file)"
   ]
  },
  {
   "cell_type": "code",
   "execution_count": null,
   "id": "6774258e-abbd-4d12-9b3c-f8f4f0c76e6c",
   "metadata": {},
   "outputs": [],
   "source": [
    "#read CRAIC empty file\n",
    "\n",
    "#no header\n",
    "CRAIC_no_header_file = os.path.join(current_directory, r\"C:\\Users\\EstebanSoto\\Jupyter\\escarabajos\\test\\data\\test_spectraltools\\empty_files_test\\no header\\BIOUCR0031_O.csv\")\n",
    "assert not check_CRAIC_file(CRAIC_no_header_file), \"This CRAIC file should not be accepted: No header. TEST FAILED\"\n",
    "read_CRAIC_file(CRAIC_no_header_file)\n",
    "#no body\n",
    "CRAIC_no_body_file = os.path.join(current_directory,r\"C:\\Users\\EstebanSoto\\Jupyter\\escarabajos\\test\\data\\test_spectraltools\\empty_files_test\\no body\\BIOUCR0031_O.csv\" )\n",
    "assert not check_CRAIC_file(CRAIC_no_header_file), \"This CRAIC file should not be accepted: No body. TEST FAILED\"\n",
    "read_CRAIC_file(CRAIC_no_header_file)"
   ]
  },
  {
   "cell_type": "code",
   "execution_count": null,
   "id": "2e001ff9-efc8-471f-8c91-5d7732a6e83e",
   "metadata": {},
   "outputs": [],
   "source": []
  },
  {
   "cell_type": "code",
   "execution_count": null,
   "id": "ed133949-03bf-459a-883e-aba5b251f641",
   "metadata": {},
   "outputs": [],
   "source": []
  }
 ],
 "metadata": {
  "kernelspec": {
   "display_name": "Python 3 (ipykernel)",
   "language": "python",
   "name": "python3"
  },
  "language_info": {
   "codemirror_mode": {
    "name": "ipython",
    "version": 3
   },
   "file_extension": ".py",
   "mimetype": "text/x-python",
   "name": "python",
   "nbconvert_exporter": "python",
   "pygments_lexer": "ipython3",
   "version": "3.9.18"
  }
 },
 "nbformat": 4,
 "nbformat_minor": 5
}
