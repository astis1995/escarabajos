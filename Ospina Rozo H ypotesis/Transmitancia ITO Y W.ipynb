{
 "cells": [
  {
   "cell_type": "code",
   "execution_count": 3,
   "id": "9f549b8a",
   "metadata": {},
   "outputs": [],
   "source": [
    "import pandas as pd\n",
    "import numpy as np\n"
   ]
  },
  {
   "cell_type": "code",
   "execution_count": 4,
   "id": "1d49b48c",
   "metadata": {},
   "outputs": [],
   "source": [
    "# ITO SOLO"
   ]
  },
  {
   "cell_type": "code",
   "execution_count": 10,
   "id": "9d0bb4a4",
   "metadata": {},
   "outputs": [],
   "source": [
    "folder = r\"C:\\Users\\EstebanSoto\\Documents\\Estudio Optico Escarabajos\\2024-JAN-REFLECTIVITY\\20240124\\20240124 EDGAR ROJAS\"\n",
    "df_ito_a_file =folder + \"\\\\\" + r\"20240124_ITO_A_NC.Sample.ASC\"\n",
    "df_ito_b_file =folder + \"\\\\\" + r\"20240124_ITO_B_NC.Sample.ASC\" \n",
    "df_ito_w_file =folder + \"\\\\\" + r\"20240124_ITO_W_NC.Sample.ASC\" "
   ]
  },
  {
   "cell_type": "code",
   "execution_count": 14,
   "id": "bcc5f7b6",
   "metadata": {},
   "outputs": [],
   "source": [
    "df_ito_a = pd.read_csv( df_ito_a_file, sep = \"\\t\", header = 90, names = [\"wavelength\", \"transmittance\"])"
   ]
  },
  {
   "cell_type": "code",
   "execution_count": 19,
   "id": "b08ba920",
   "metadata": {},
   "outputs": [
    {
     "ename": "TypeError",
     "evalue": "cannot convert the series to <class 'float'>",
     "output_type": "error",
     "traceback": [
      "\u001b[1;31m---------------------------------------------------------------------------\u001b[0m",
      "\u001b[1;31mTypeError\u001b[0m                                 Traceback (most recent call last)",
      "Cell \u001b[1;32mIn[19], line 1\u001b[0m\n\u001b[1;32m----> 1\u001b[0m df_ito_a[\u001b[38;5;124m\"\u001b[39m\u001b[38;5;124mwavelength\u001b[39m\u001b[38;5;124m\"\u001b[39m] \u001b[38;5;241m=\u001b[39m \u001b[38;5;28mfloat\u001b[39m(df_ito_a[\u001b[38;5;124m\"\u001b[39m\u001b[38;5;124mwavelength\u001b[39m\u001b[38;5;124m\"\u001b[39m])\n\u001b[0;32m      2\u001b[0m df_ito_a\u001b[38;5;241m.\u001b[39mplot(x\u001b[38;5;241m=\u001b[39m\u001b[38;5;124m\"\u001b[39m\u001b[38;5;124mwavelength\u001b[39m\u001b[38;5;124m\"\u001b[39m, y\u001b[38;5;241m=\u001b[39m \u001b[38;5;124m\"\u001b[39m\u001b[38;5;124mtransmittance\u001b[39m\u001b[38;5;124m\"\u001b[39m)\n",
      "File \u001b[1;32m~\\anaconda3\\envs\\workshop\\Lib\\site-packages\\pandas\\core\\series.py:230\u001b[0m, in \u001b[0;36m_coerce_method.<locals>.wrapper\u001b[1;34m(self)\u001b[0m\n\u001b[0;32m    222\u001b[0m     warnings\u001b[38;5;241m.\u001b[39mwarn(\n\u001b[0;32m    223\u001b[0m         \u001b[38;5;124mf\u001b[39m\u001b[38;5;124m\"\u001b[39m\u001b[38;5;124mCalling \u001b[39m\u001b[38;5;132;01m{\u001b[39;00mconverter\u001b[38;5;241m.\u001b[39m\u001b[38;5;18m__name__\u001b[39m\u001b[38;5;132;01m}\u001b[39;00m\u001b[38;5;124m on a single element Series is \u001b[39m\u001b[38;5;124m\"\u001b[39m\n\u001b[0;32m    224\u001b[0m         \u001b[38;5;124m\"\u001b[39m\u001b[38;5;124mdeprecated and will raise a TypeError in the future. \u001b[39m\u001b[38;5;124m\"\u001b[39m\n\u001b[1;32m   (...)\u001b[0m\n\u001b[0;32m    227\u001b[0m         stacklevel\u001b[38;5;241m=\u001b[39mfind_stack_level(),\n\u001b[0;32m    228\u001b[0m     )\n\u001b[0;32m    229\u001b[0m     \u001b[38;5;28;01mreturn\u001b[39;00m converter(\u001b[38;5;28mself\u001b[39m\u001b[38;5;241m.\u001b[39miloc[\u001b[38;5;241m0\u001b[39m])\n\u001b[1;32m--> 230\u001b[0m \u001b[38;5;28;01mraise\u001b[39;00m \u001b[38;5;167;01mTypeError\u001b[39;00m(\u001b[38;5;124mf\u001b[39m\u001b[38;5;124m\"\u001b[39m\u001b[38;5;124mcannot convert the series to \u001b[39m\u001b[38;5;132;01m{\u001b[39;00mconverter\u001b[38;5;132;01m}\u001b[39;00m\u001b[38;5;124m\"\u001b[39m)\n",
      "\u001b[1;31mTypeError\u001b[0m: cannot convert the series to <class 'float'>"
     ]
    }
   ],
   "source": [
    "df_ito_a[\"wavelength\"] = float(df_ito_a[\"wavelength\"])\n",
    "df_ito_a.plot(x=\"wavelength\", y= \"transmittance\")"
   ]
  },
  {
   "cell_type": "code",
   "execution_count": null,
   "id": "e7697ac1",
   "metadata": {},
   "outputs": [],
   "source": [
    "# CON CORRECCION DE ESPECTRALON "
   ]
  },
  {
   "cell_type": "code",
   "execution_count": null,
   "id": "01b76f48",
   "metadata": {},
   "outputs": [],
   "source": [
    "#CON CORRECCIÓN DE ESPECTRALON Y ADAPTADOR DE MUESTRAS"
   ]
  },
  {
   "cell_type": "code",
   "execution_count": null,
   "id": "f7fabc7a",
   "metadata": {},
   "outputs": [],
   "source": []
  }
 ],
 "metadata": {
  "kernelspec": {
   "display_name": "Python 3 (ipykernel)",
   "language": "python",
   "name": "python3"
  },
  "language_info": {
   "codemirror_mode": {
    "name": "ipython",
    "version": 3
   },
   "file_extension": ".py",
   "mimetype": "text/x-python",
   "name": "python",
   "nbconvert_exporter": "python",
   "pygments_lexer": "ipython3",
   "version": "3.11.5"
  }
 },
 "nbformat": 4,
 "nbformat_minor": 5
}
