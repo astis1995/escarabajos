{
 "cells": [
  {
   "cell_type": "code",
   "execution_count": 1,
   "id": "0038c8c6",
   "metadata": {},
   "outputs": [],
   "source": [
    "### Correlation"
   ]
  },
  {
   "cell_type": "code",
   "execution_count": 2,
   "id": "8e80122a",
   "metadata": {},
   "outputs": [],
   "source": [
    "#Dependencies\n",
    "#conda install reportlab\n",
    "#pip install matplotlib\n",
    "import pandas as pd\n",
    "import numpy as np\n",
    "import matplotlib\n",
    "import os\n",
    "import matplotlib.pyplot as plt\n",
    "from matplotlib.backends.backend_pdf import PdfPages\n",
    "import itertools"
   ]
  },
  {
   "cell_type": "code",
   "execution_count": 3,
   "id": "5706b222",
   "metadata": {},
   "outputs": [],
   "source": [
    "#constants\n",
    "markersize = 2"
   ]
  },
  {
   "cell_type": "code",
   "execution_count": 4,
   "id": "83f6d84c",
   "metadata": {},
   "outputs": [],
   "source": [
    "#report path\n",
    "report_location = r\"C:\\Users\\EstebanSoto\\Documents\\Estudio Optico Escarabajos\\report\"\n",
    "\n",
    "#code name samples path\n",
    "code_name_path = r\"C:\\Users\\EstebanSoto\\Documents\\Estudio Optico Escarabajos\\TRANSFLECTANCIA NOV 23\\CODE NAME SAMPLES.txt\"\n",
    "\n",
    "#optical properties datapath\n",
    "transflectance_data_path = r\"C:\\Users\\EstebanSoto\\Documents\\Estudio Optico Escarabajos\\new_data\\2023NOV_TRANSFLECTANCE\\transflectance\\average\"\n",
    "transmittance_data_path = r\"C:\\Users\\EstebanSoto\\Documents\\Estudio Optico Escarabajos\\clean_data\\transmittance\"\n",
    "absorptance_data_path = r\"C:\\Users\\EstebanSoto\\Documents\\Estudio Optico Escarabajos\\clean_data\\absorptance\"\n",
    "reflectance_data_path = r\"C:\\Users\\EstebanSoto\\Documents\\Estudio Optico Escarabajos\\clean_data\\reflectance\"\n",
    "\n",
    "#Solar spectral irradiance datapath\n",
    "solar_irradiance_data_path = r\"C:\\Users\\EstebanSoto\\Documents\\Estudio Optico Escarabajos\\reflectivity\"\n"
   ]
  },
  {
   "cell_type": "code",
   "execution_count": 5,
   "id": "e6fa08e7",
   "metadata": {},
   "outputs": [],
   "source": [
    "def list_files_in_folder(folder_path):\n",
    "    files_only_in_folder = []\n",
    "    \n",
    "    # Get the list of all files in the folder and its subfolders\n",
    "    all_files = []\n",
    "    for root, dirs, files in os.walk(folder_path):\n",
    "        for file in files:\n",
    "            all_files.append(os.path.join(root, file))\n",
    "    \n",
    "    # Get the list of files that are only in the top-level folder\n",
    "    for file in all_files:\n",
    "        if os.path.isfile(file) and os.path.dirname(file) == folder_path:\n",
    "            files_only_in_folder.append(file)\n",
    "    \n",
    "    return files_only_in_folder"
   ]
  },
  {
   "cell_type": "code",
   "execution_count": 6,
   "id": "e31669dc",
   "metadata": {
    "scrolled": true
   },
   "outputs": [
    {
     "name": "stdout",
     "output_type": "stream",
     "text": [
      "C:\\Users\\EstebanSoto\\Documents\\Estudio Optico Escarabajos\\reflectivity\n",
      "22\n",
      "22\n",
      "1\n"
     ]
    }
   ],
   "source": [
    "transflectance_file_list = list_files_in_folder(transflectance_data_path)\n",
    "transmittance_file_list = list_files_in_folder(transmittance_data_path)\n",
    "absorptance_file_list = list_files_in_folder(absorptance_data_path)\n",
    "reflectance_file_list = list_files_in_folder(reflectance_data_path)\n",
    "irradiance_file_list = [solar_irradiance_data_path]\n",
    "for file in irradiance_file_list: \n",
    "    print(file)\n",
    "print(len(transmittance_file_list))\n",
    "print(len(absorptance_file_list))\n",
    "print(len(irradiance_file_list))"
   ]
  },
  {
   "cell_type": "code",
   "execution_count": 7,
   "id": "56fc9963",
   "metadata": {},
   "outputs": [],
   "source": [
    "def read_dataframes(file_path_list, measurement_type1, measurement_type2=None): \n",
    "    dataframes = []\n",
    "    \n",
    "    for file_path in file_path_list:\n",
    "        if measurement_type2 is None:\n",
    "            # For a single measurement type\n",
    "            df = pd.read_csv(file_path, sep='\\t', header=0, names=['wavelength', measurement_type1]).dropna()\n",
    "            \n",
    "            # Replace commas with dots\n",
    "            df = df.replace(',','.', regex=True)\n",
    "            \n",
    "            # Add columns and convert types\n",
    "            df[\"file\"] = file_path\n",
    "            df[\"sample\"] = os.path.basename(file_path).replace(\"-RX\", \"\").replace(\".txt\", \"\").replace(\"_AVERAGE\", \"\").replace(\"-AX\", \"\").replace(\"-TX\", \"\")\n",
    "            df[\"measurement_type\"] = measurement_type1\n",
    "            df['wavelength'] = df['wavelength'].astype(float)\n",
    "            df[measurement_type1] = df[measurement_type1].astype(float)\n",
    "        else:\n",
    "            # For two measurement types\n",
    "            df = pd.read_csv(file_path, sep='\\t', header=0, names=['wavelength', measurement_type1, measurement_type2]).dropna()\n",
    "            \n",
    "            # Replace commas with dots\n",
    "            df = df.replace(',','.', regex=True)\n",
    "            \n",
    "            # Add columns and convert types\n",
    "            df[\"file\"] = file_path\n",
    "            df[\"sample\"] = os.path.basename(file_path)\n",
    "            df[\"measurement_type\"] = f\"{measurement_type1}_{measurement_type2}\"\n",
    "            df['wavelength'] = df['wavelength'].astype(float)\n",
    "            df[measurement_type1] = df[measurement_type1].astype(float)\n",
    "            df[measurement_type2] = df[measurement_type2].astype(float)\n",
    "        \n",
    "        # Append the dataframe to the list\n",
    "        dataframes.append(df)\n",
    "        \n",
    "    return dataframes\n"
   ]
  },
  {
   "cell_type": "markdown",
   "id": "c33ac86a",
   "metadata": {},
   "source": [
    "## Dataframes "
   ]
  },
  {
   "cell_type": "code",
   "execution_count": 8,
   "id": "51a965ca",
   "metadata": {},
   "outputs": [
    {
     "ename": "ValueError",
     "evalue": "could not convert string to float: 'C.AURI.INBI'",
     "output_type": "error",
     "traceback": [
      "\u001b[1;31m---------------------------------------------------------------------------\u001b[0m",
      "\u001b[1;31mValueError\u001b[0m                                Traceback (most recent call last)",
      "Cell \u001b[1;32mIn[8], line 1\u001b[0m\n\u001b[1;32m----> 1\u001b[0m reflectance_dfs \u001b[38;5;241m=\u001b[39m read_dataframes(reflectance_file_list, \u001b[38;5;124m\"\u001b[39m\u001b[38;5;124mreflectance\u001b[39m\u001b[38;5;124m\"\u001b[39m)\n\u001b[0;32m      2\u001b[0m transmittance_dfs \u001b[38;5;241m=\u001b[39m read_dataframes(transmittance_file_list, \u001b[38;5;124m\"\u001b[39m\u001b[38;5;124mtransmittance\u001b[39m\u001b[38;5;124m\"\u001b[39m)\n\u001b[0;32m      3\u001b[0m absorptance_dfs \u001b[38;5;241m=\u001b[39m read_dataframes(absorptance_file_list, \u001b[38;5;124m\"\u001b[39m\u001b[38;5;124mabsorptance\u001b[39m\u001b[38;5;124m\"\u001b[39m)\n",
      "Cell \u001b[1;32mIn[7], line 17\u001b[0m, in \u001b[0;36mread_dataframes\u001b[1;34m(file_path_list, measurement_type1, measurement_type2)\u001b[0m\n\u001b[0;32m     15\u001b[0m     df[\u001b[38;5;124m\"\u001b[39m\u001b[38;5;124mmeasurement_type\u001b[39m\u001b[38;5;124m\"\u001b[39m] \u001b[38;5;241m=\u001b[39m measurement_type1\n\u001b[0;32m     16\u001b[0m     df[\u001b[38;5;124m'\u001b[39m\u001b[38;5;124mwavelength\u001b[39m\u001b[38;5;124m'\u001b[39m] \u001b[38;5;241m=\u001b[39m df[\u001b[38;5;124m'\u001b[39m\u001b[38;5;124mwavelength\u001b[39m\u001b[38;5;124m'\u001b[39m]\u001b[38;5;241m.\u001b[39mastype(\u001b[38;5;28mfloat\u001b[39m)\n\u001b[1;32m---> 17\u001b[0m     df[measurement_type1] \u001b[38;5;241m=\u001b[39m df[measurement_type1]\u001b[38;5;241m.\u001b[39mastype(\u001b[38;5;28mfloat\u001b[39m)\n\u001b[0;32m     18\u001b[0m \u001b[38;5;28;01melse\u001b[39;00m:\n\u001b[0;32m     19\u001b[0m     \u001b[38;5;66;03m# For two measurement types\u001b[39;00m\n\u001b[0;32m     20\u001b[0m     df \u001b[38;5;241m=\u001b[39m pd\u001b[38;5;241m.\u001b[39mread_csv(file_path, sep\u001b[38;5;241m=\u001b[39m\u001b[38;5;124m'\u001b[39m\u001b[38;5;130;01m\\t\u001b[39;00m\u001b[38;5;124m'\u001b[39m, header\u001b[38;5;241m=\u001b[39m\u001b[38;5;241m0\u001b[39m, names\u001b[38;5;241m=\u001b[39m[\u001b[38;5;124m'\u001b[39m\u001b[38;5;124mwavelength\u001b[39m\u001b[38;5;124m'\u001b[39m, measurement_type1, measurement_type2])\u001b[38;5;241m.\u001b[39mdropna()\n",
      "File \u001b[1;32m~\\anaconda3\\envs\\django\\Lib\\site-packages\\pandas\\core\\generic.py:6637\u001b[0m, in \u001b[0;36mNDFrame.astype\u001b[1;34m(self, dtype, copy, errors)\u001b[0m\n\u001b[0;32m   6631\u001b[0m     results \u001b[38;5;241m=\u001b[39m [\n\u001b[0;32m   6632\u001b[0m         ser\u001b[38;5;241m.\u001b[39mastype(dtype, copy\u001b[38;5;241m=\u001b[39mcopy, errors\u001b[38;5;241m=\u001b[39merrors) \u001b[38;5;28;01mfor\u001b[39;00m _, ser \u001b[38;5;129;01min\u001b[39;00m \u001b[38;5;28mself\u001b[39m\u001b[38;5;241m.\u001b[39mitems()\n\u001b[0;32m   6633\u001b[0m     ]\n\u001b[0;32m   6635\u001b[0m \u001b[38;5;28;01melse\u001b[39;00m:\n\u001b[0;32m   6636\u001b[0m     \u001b[38;5;66;03m# else, only a single dtype is given\u001b[39;00m\n\u001b[1;32m-> 6637\u001b[0m     new_data \u001b[38;5;241m=\u001b[39m \u001b[38;5;28mself\u001b[39m\u001b[38;5;241m.\u001b[39m_mgr\u001b[38;5;241m.\u001b[39mastype(dtype\u001b[38;5;241m=\u001b[39mdtype, copy\u001b[38;5;241m=\u001b[39mcopy, errors\u001b[38;5;241m=\u001b[39merrors)\n\u001b[0;32m   6638\u001b[0m     res \u001b[38;5;241m=\u001b[39m \u001b[38;5;28mself\u001b[39m\u001b[38;5;241m.\u001b[39m_constructor_from_mgr(new_data, axes\u001b[38;5;241m=\u001b[39mnew_data\u001b[38;5;241m.\u001b[39maxes)\n\u001b[0;32m   6639\u001b[0m     \u001b[38;5;28;01mreturn\u001b[39;00m res\u001b[38;5;241m.\u001b[39m__finalize__(\u001b[38;5;28mself\u001b[39m, method\u001b[38;5;241m=\u001b[39m\u001b[38;5;124m\"\u001b[39m\u001b[38;5;124mastype\u001b[39m\u001b[38;5;124m\"\u001b[39m)\n",
      "File \u001b[1;32m~\\anaconda3\\envs\\django\\Lib\\site-packages\\pandas\\core\\internals\\managers.py:431\u001b[0m, in \u001b[0;36mBaseBlockManager.astype\u001b[1;34m(self, dtype, copy, errors)\u001b[0m\n\u001b[0;32m    428\u001b[0m \u001b[38;5;28;01melif\u001b[39;00m using_copy_on_write():\n\u001b[0;32m    429\u001b[0m     copy \u001b[38;5;241m=\u001b[39m \u001b[38;5;28;01mFalse\u001b[39;00m\n\u001b[1;32m--> 431\u001b[0m \u001b[38;5;28;01mreturn\u001b[39;00m \u001b[38;5;28mself\u001b[39m\u001b[38;5;241m.\u001b[39mapply(\n\u001b[0;32m    432\u001b[0m     \u001b[38;5;124m\"\u001b[39m\u001b[38;5;124mastype\u001b[39m\u001b[38;5;124m\"\u001b[39m,\n\u001b[0;32m    433\u001b[0m     dtype\u001b[38;5;241m=\u001b[39mdtype,\n\u001b[0;32m    434\u001b[0m     copy\u001b[38;5;241m=\u001b[39mcopy,\n\u001b[0;32m    435\u001b[0m     errors\u001b[38;5;241m=\u001b[39merrors,\n\u001b[0;32m    436\u001b[0m     using_cow\u001b[38;5;241m=\u001b[39musing_copy_on_write(),\n\u001b[0;32m    437\u001b[0m )\n",
      "File \u001b[1;32m~\\anaconda3\\envs\\django\\Lib\\site-packages\\pandas\\core\\internals\\managers.py:364\u001b[0m, in \u001b[0;36mBaseBlockManager.apply\u001b[1;34m(self, f, align_keys, **kwargs)\u001b[0m\n\u001b[0;32m    362\u001b[0m         applied \u001b[38;5;241m=\u001b[39m b\u001b[38;5;241m.\u001b[39mapply(f, \u001b[38;5;241m*\u001b[39m\u001b[38;5;241m*\u001b[39mkwargs)\n\u001b[0;32m    363\u001b[0m     \u001b[38;5;28;01melse\u001b[39;00m:\n\u001b[1;32m--> 364\u001b[0m         applied \u001b[38;5;241m=\u001b[39m \u001b[38;5;28mgetattr\u001b[39m(b, f)(\u001b[38;5;241m*\u001b[39m\u001b[38;5;241m*\u001b[39mkwargs)\n\u001b[0;32m    365\u001b[0m     result_blocks \u001b[38;5;241m=\u001b[39m extend_blocks(applied, result_blocks)\n\u001b[0;32m    367\u001b[0m out \u001b[38;5;241m=\u001b[39m \u001b[38;5;28mtype\u001b[39m(\u001b[38;5;28mself\u001b[39m)\u001b[38;5;241m.\u001b[39mfrom_blocks(result_blocks, \u001b[38;5;28mself\u001b[39m\u001b[38;5;241m.\u001b[39maxes)\n",
      "File \u001b[1;32m~\\anaconda3\\envs\\django\\Lib\\site-packages\\pandas\\core\\internals\\blocks.py:758\u001b[0m, in \u001b[0;36mBlock.astype\u001b[1;34m(self, dtype, copy, errors, using_cow, squeeze)\u001b[0m\n\u001b[0;32m    755\u001b[0m         \u001b[38;5;28;01mraise\u001b[39;00m \u001b[38;5;167;01mValueError\u001b[39;00m(\u001b[38;5;124m\"\u001b[39m\u001b[38;5;124mCan not squeeze with more than one column.\u001b[39m\u001b[38;5;124m\"\u001b[39m)\n\u001b[0;32m    756\u001b[0m     values \u001b[38;5;241m=\u001b[39m values[\u001b[38;5;241m0\u001b[39m, :]  \u001b[38;5;66;03m# type: ignore[call-overload]\u001b[39;00m\n\u001b[1;32m--> 758\u001b[0m new_values \u001b[38;5;241m=\u001b[39m astype_array_safe(values, dtype, copy\u001b[38;5;241m=\u001b[39mcopy, errors\u001b[38;5;241m=\u001b[39merrors)\n\u001b[0;32m    760\u001b[0m new_values \u001b[38;5;241m=\u001b[39m maybe_coerce_values(new_values)\n\u001b[0;32m    762\u001b[0m refs \u001b[38;5;241m=\u001b[39m \u001b[38;5;28;01mNone\u001b[39;00m\n",
      "File \u001b[1;32m~\\anaconda3\\envs\\django\\Lib\\site-packages\\pandas\\core\\dtypes\\astype.py:237\u001b[0m, in \u001b[0;36mastype_array_safe\u001b[1;34m(values, dtype, copy, errors)\u001b[0m\n\u001b[0;32m    234\u001b[0m     dtype \u001b[38;5;241m=\u001b[39m dtype\u001b[38;5;241m.\u001b[39mnumpy_dtype\n\u001b[0;32m    236\u001b[0m \u001b[38;5;28;01mtry\u001b[39;00m:\n\u001b[1;32m--> 237\u001b[0m     new_values \u001b[38;5;241m=\u001b[39m astype_array(values, dtype, copy\u001b[38;5;241m=\u001b[39mcopy)\n\u001b[0;32m    238\u001b[0m \u001b[38;5;28;01mexcept\u001b[39;00m (\u001b[38;5;167;01mValueError\u001b[39;00m, \u001b[38;5;167;01mTypeError\u001b[39;00m):\n\u001b[0;32m    239\u001b[0m     \u001b[38;5;66;03m# e.g. _astype_nansafe can fail on object-dtype of strings\u001b[39;00m\n\u001b[0;32m    240\u001b[0m     \u001b[38;5;66;03m#  trying to convert to float\u001b[39;00m\n\u001b[0;32m    241\u001b[0m     \u001b[38;5;28;01mif\u001b[39;00m errors \u001b[38;5;241m==\u001b[39m \u001b[38;5;124m\"\u001b[39m\u001b[38;5;124mignore\u001b[39m\u001b[38;5;124m\"\u001b[39m:\n",
      "File \u001b[1;32m~\\anaconda3\\envs\\django\\Lib\\site-packages\\pandas\\core\\dtypes\\astype.py:182\u001b[0m, in \u001b[0;36mastype_array\u001b[1;34m(values, dtype, copy)\u001b[0m\n\u001b[0;32m    179\u001b[0m     values \u001b[38;5;241m=\u001b[39m values\u001b[38;5;241m.\u001b[39mastype(dtype, copy\u001b[38;5;241m=\u001b[39mcopy)\n\u001b[0;32m    181\u001b[0m \u001b[38;5;28;01melse\u001b[39;00m:\n\u001b[1;32m--> 182\u001b[0m     values \u001b[38;5;241m=\u001b[39m _astype_nansafe(values, dtype, copy\u001b[38;5;241m=\u001b[39mcopy)\n\u001b[0;32m    184\u001b[0m \u001b[38;5;66;03m# in pandas we don't store numpy str dtypes, so convert to object\u001b[39;00m\n\u001b[0;32m    185\u001b[0m \u001b[38;5;28;01mif\u001b[39;00m \u001b[38;5;28misinstance\u001b[39m(dtype, np\u001b[38;5;241m.\u001b[39mdtype) \u001b[38;5;129;01mand\u001b[39;00m \u001b[38;5;28missubclass\u001b[39m(values\u001b[38;5;241m.\u001b[39mdtype\u001b[38;5;241m.\u001b[39mtype, \u001b[38;5;28mstr\u001b[39m):\n",
      "File \u001b[1;32m~\\anaconda3\\envs\\django\\Lib\\site-packages\\pandas\\core\\dtypes\\astype.py:133\u001b[0m, in \u001b[0;36m_astype_nansafe\u001b[1;34m(arr, dtype, copy, skipna)\u001b[0m\n\u001b[0;32m    129\u001b[0m     \u001b[38;5;28;01mraise\u001b[39;00m \u001b[38;5;167;01mValueError\u001b[39;00m(msg)\n\u001b[0;32m    131\u001b[0m \u001b[38;5;28;01mif\u001b[39;00m copy \u001b[38;5;129;01mor\u001b[39;00m arr\u001b[38;5;241m.\u001b[39mdtype \u001b[38;5;241m==\u001b[39m \u001b[38;5;28mobject\u001b[39m \u001b[38;5;129;01mor\u001b[39;00m dtype \u001b[38;5;241m==\u001b[39m \u001b[38;5;28mobject\u001b[39m:\n\u001b[0;32m    132\u001b[0m     \u001b[38;5;66;03m# Explicit copy, or required since NumPy can't view from / to object.\u001b[39;00m\n\u001b[1;32m--> 133\u001b[0m     \u001b[38;5;28;01mreturn\u001b[39;00m arr\u001b[38;5;241m.\u001b[39mastype(dtype, copy\u001b[38;5;241m=\u001b[39m\u001b[38;5;28;01mTrue\u001b[39;00m)\n\u001b[0;32m    135\u001b[0m \u001b[38;5;28;01mreturn\u001b[39;00m arr\u001b[38;5;241m.\u001b[39mastype(dtype, copy\u001b[38;5;241m=\u001b[39mcopy)\n",
      "\u001b[1;31mValueError\u001b[0m: could not convert string to float: 'C.AURI.INBI'"
     ]
    }
   ],
   "source": [
    "reflectance_dfs = read_dataframes(reflectance_file_list, \"reflectance\")\n",
    "transmittance_dfs = read_dataframes(transmittance_file_list, \"transmittance\")\n",
    "absorptance_dfs = read_dataframes(absorptance_file_list, \"absorptance\")\n",
    "#irradiance_dfs = read_dataframes(irradiance_file_list, \"tilt_irradiance\", \"normal_irradiance\")\n",
    "all_dfs = [reflectance_dfs,transmittance_dfs,absorptance_dfs]\n",
    "\n",
    "for df_list in all_dfs:\n",
    "    for df in df_list:\n",
    "        df"
   ]
  },
  {
   "cell_type": "code",
   "execution_count": null,
   "id": "c53befe0",
   "metadata": {},
   "outputs": [],
   "source": [
    "def plot_dataframes2(df_of_dfs, column_to_plot='col1', x_column='wavelength'):\n",
    "    \"\"\"\n",
    "    Plot data from multiple DataFrames contained within a DataFrame.\n",
    "\n",
    "    Parameters:\n",
    "        df_of_dfs (pandas.DataFrame): DataFrame containing multiple DataFrames.\n",
    "        column_to_plot (str): Name of the column to plot from each DataFrame.\n",
    "        x_column (str): Name of the x-axis column.\n",
    "\n",
    "    Returns:\n",
    "        None (Displays the plot).\n",
    "    \"\"\"\n",
    "    plt.figure(figsize=(10, 6))\n",
    "\n",
    "    for row in df_of_dfs:\n",
    "        # Extract the current DataFrame and plot desired columns against the x_column\n",
    "        #print(row)\n",
    "        plt.plot(row[x_column], row[column_to_plot], label=row['sample'][2])\n",
    "        \n",
    "\n",
    "  \n",
    "    # Set the legend's font size\n",
    "    #plt.legend(prop={'size': 8})  # Adjust the font size as needed\n",
    "\n",
    "    plt.xlabel(x_column.capitalize())\n",
    "    plt.ylabel(column_to_plot.capitalize() + r' [%]')\n",
    "    #plt.title(column_to_plot.capitalize() + \" for all samples\")\n",
    "    plt.title(\"\")\n",
    "\n",
    "    # Show legend and plot\n",
    "    plt.legend()\n",
    "    plt.tight_layout()\n",
    "    plt.show()\n"
   ]
  },
  {
   "cell_type": "code",
   "execution_count": null,
   "id": "644214d1",
   "metadata": {},
   "outputs": [],
   "source": [
    "def plot_dataframes(df_of_dfs, column_to_plot='col1', x_column='wavelength', font_size=8):\n",
    "    \"\"\"\n",
    "    Plot data from multiple DataFrames contained within a DataFrame.\n",
    "\n",
    "    Parameters:\n",
    "        df_of_dfs (pandas.DataFrame): DataFrame containing multiple DataFrames.\n",
    "        column_to_plot (str): Name of the column to plot from each DataFrame.\n",
    "        x_column (str): Name of the x-axis column.\n",
    "        font_size (int): Font size for labels and legend (default is 12).\n",
    "\n",
    "    Returns:\n",
    "        None (Displays the plot).\n",
    "    \"\"\"\n",
    "    plt.figure(figsize=(10, 6))\n",
    "\n",
    "    for row in df_of_dfs:\n",
    "        # Extract the current DataFrame and plot desired columns against the x_column\n",
    "        plt.plot(row[x_column], row[column_to_plot], label=row['sample'][3])\n",
    "\n",
    "    # Set the font size for labels, legend, and title\n",
    "    plt.xlabel(x_column.capitalize() + \" [nm]\", fontsize=10)\n",
    "    plt.ylabel(column_to_plot.capitalize() + r' [%]', fontsize=10)\n",
    "    plt.grid(True)\n",
    "    plt.title(\"\")\n",
    "\n",
    "    # Show legend with adjusted font size\n",
    "    plt.legend(fontsize=font_size)\n",
    "\n",
    "    plt.tight_layout()\n",
    "    plt.show()\n",
    "    plt.savefig(\"ejemplo_imagen\", format=\"svg\", dpi=1200)"
   ]
  },
  {
   "cell_type": "code",
   "execution_count": null,
   "id": "bdbb5097",
   "metadata": {},
   "outputs": [],
   "source": [
    "print(reflectance_dfs[5])\n",
    "plot_dataframes(reflectance_dfs, column_to_plot='reflectance', x_column='wavelength')"
   ]
  },
  {
   "cell_type": "code",
   "execution_count": null,
   "id": "e6b1cf1d",
   "metadata": {},
   "outputs": [],
   "source": [
    "print(transmittance_dfs[0])\n",
    "plot_dataframes(transmittance_dfs, column_to_plot='transmittance', x_column='wavelength')"
   ]
  },
  {
   "cell_type": "code",
   "execution_count": null,
   "id": "cb7e14ad",
   "metadata": {},
   "outputs": [],
   "source": [
    "print(absorptance_dfs[0])\n",
    "plot_dataframes(absorptance_dfs, column_to_plot='absorptance', x_column='wavelength')"
   ]
  },
  {
   "cell_type": "code",
   "execution_count": null,
   "id": "8ded64b1",
   "metadata": {},
   "outputs": [],
   "source": []
  },
  {
   "cell_type": "code",
   "execution_count": null,
   "id": "e4fe4da1",
   "metadata": {},
   "outputs": [],
   "source": []
  },
  {
   "cell_type": "code",
   "execution_count": null,
   "id": "9671e56f",
   "metadata": {},
   "outputs": [],
   "source": []
  },
  {
   "cell_type": "code",
   "execution_count": null,
   "id": "28db802e",
   "metadata": {},
   "outputs": [],
   "source": []
  }
 ],
 "metadata": {
  "kernelspec": {
   "display_name": "Python 3 (ipykernel)",
   "language": "python",
   "name": "python3"
  },
  "language_info": {
   "codemirror_mode": {
    "name": "ipython",
    "version": 3
   },
   "file_extension": ".py",
   "mimetype": "text/x-python",
   "name": "python",
   "nbconvert_exporter": "python",
   "pygments_lexer": "ipython3",
   "version": "3.12.3"
  }
 },
 "nbformat": 4,
 "nbformat_minor": 5
}
