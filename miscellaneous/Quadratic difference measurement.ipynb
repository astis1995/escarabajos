{
 "cells": [
  {
   "cell_type": "markdown",
   "id": "98a93b37",
   "metadata": {},
   "source": [
    "# Quadratic difference measurement"
   ]
  },
  {
   "cell_type": "markdown",
   "id": "07feada3",
   "metadata": {},
   "source": [
    "#### Author: Vinicio Soto, CICIMA\n",
    "#### This script works with .txt files with wavelength and transflectance spectra and uses average files and std deviation files to calculate the difference between samples and patterns."
   ]
  },
  {
   "cell_type": "markdown",
   "id": "28b228f4",
   "metadata": {},
   "source": [
    "### Dependencies"
   ]
  },
  {
   "cell_type": "code",
   "execution_count": 1,
   "id": "6ee75e03",
   "metadata": {},
   "outputs": [],
   "source": [
    "import pandas as pd\n",
    "import numpy as np\n",
    "import matplotlib\n",
    "import os\n",
    "import matplotlib.pyplot as plt\n",
    "from matplotlib.backends.backend_pdf import PdfPages\n",
    "import itertools"
   ]
  },
  {
   "cell_type": "markdown",
   "id": "9790a879",
   "metadata": {},
   "source": [
    "### Data paths"
   ]
  },
  {
   "cell_type": "code",
   "execution_count": 2,
   "id": "8d2a467a",
   "metadata": {},
   "outputs": [],
   "source": [
    "#report path\n",
    "report_location = r\"C:\\Users\\EstebanSoto\\Documents\\Estudio Optico Escarabajos\\TRANSFLECTANCIA NOV 23\\report\"\n",
    "\n",
    "#patterns and samples\n",
    "\n",
    "patterns_avg_data_path = r\"C:\\Users\\EstebanSoto\\Documents\\Estudio Optico Escarabajos\\TRANSFLECTANCIA NOV 23\\datos\\corrected_files\\average\"\n",
    "patterns_std_dev_data_path = r\"C:\\Users\\EstebanSoto\\Documents\\Estudio Optico Escarabajos\\TRANSFLECTANCIA NOV 23\\datos\\corrected_files\\std_dev\"\n",
    "\n",
    "sample_data_path = r\"C:\\Users\\EstebanSoto\\Documents\\Estudio Optico Escarabajos\\TRANSFLECTANCIA NOV 23\\datos\\corrected_files\"\n"
   ]
  },
  {
   "cell_type": "markdown",
   "id": "1feb4b69",
   "metadata": {},
   "source": [
    "### Create folder if it does not exist"
   ]
  },
  {
   "cell_type": "code",
   "execution_count": 3,
   "id": "4412b14b",
   "metadata": {},
   "outputs": [],
   "source": [
    "def create_folder_if_not_exists(folder_path):\n",
    "    if not os.path.exists(folder_path):\n",
    "        os.makedirs(folder_path)\n",
    "        print(f\"Folder '{folder_path}' created successfully.\")\n",
    "    else:\n",
    "        print(f\"Folder '{folder_path}' already exists.\")"
   ]
  },
  {
   "cell_type": "markdown",
   "id": "8e02ddc1",
   "metadata": {},
   "source": [
    "### Lists all archives in folder"
   ]
  },
  {
   "cell_type": "code",
   "execution_count": 4,
   "id": "8b37444a",
   "metadata": {},
   "outputs": [
    {
     "name": "stdout",
     "output_type": "stream",
     "text": [
      "Folder path does not exist.\n",
      "Folder path does not exist.\n",
      "Folder path does not exist.\n"
     ]
    },
    {
     "data": {
      "text/plain": [
       "[]"
      ]
     },
     "execution_count": 4,
     "metadata": {},
     "output_type": "execute_result"
    }
   ],
   "source": [
    "import os\n",
    "\n",
    "def list_files_in_folder(folder_path):\n",
    "    file_list = []\n",
    "    \n",
    "    # Check if the folder path exists\n",
    "    if os.path.exists(folder_path):\n",
    "        # Get all files in the folder\n",
    "        for root, dirs, files in os.walk(folder_path):\n",
    "            for file in files:\n",
    "                file_path = os.path.join(root, file)\n",
    "                file_list.append(file_path)\n",
    "    else:\n",
    "        print(\"Folder path does not exist.\")\n",
    "\n",
    "    return file_list\n",
    "\n",
    "\n",
    "avg_file_list_general = list_files_in_folder(patterns_avg_data_path)\n",
    "std_dev_file_list_general = list_files_in_folder(patterns_std_dev_data_path)\n",
    "sample_file_list_general = list_files_in_folder(sample_data_path)\n",
    "\n",
    "#std_dev_file_list\n",
    "sample_file_list_general"
   ]
  },
  {
   "cell_type": "markdown",
   "id": "c726bf14",
   "metadata": {},
   "source": [
    "#### For this analysis only Platy specimens will be used as control"
   ]
  },
  {
   "cell_type": "code",
   "execution_count": 10,
   "id": "291def80",
   "metadata": {},
   "outputs": [
    {
     "data": {
      "text/plain": [
       "['C:\\\\Users\\\\EstebanSoto\\\\Documents\\\\Estudio Optico Escarabajos\\\\TRANSFLECTANCIA NOV 23\\\\datos\\\\corrected_files\\\\average\\\\C. AURIGANS INBIO DESCABEZADO_AVERAGE.txt',\n",
       " 'C:\\\\Users\\\\EstebanSoto\\\\Documents\\\\Estudio Optico Escarabajos\\\\TRANSFLECTANCIA NOV 23\\\\datos\\\\corrected_files\\\\average\\\\C. CHRYSARGYREA #73 MV23_AVERAGE.txt',\n",
       " 'C:\\\\Users\\\\EstebanSoto\\\\Documents\\\\Estudio Optico Escarabajos\\\\TRANSFLECTANCIA NOV 23\\\\datos\\\\corrected_files\\\\average\\\\C. CHRYSARGYREA #84 MV23_AVERAGE.txt',\n",
       " 'C:\\\\Users\\\\EstebanSoto\\\\Documents\\\\Estudio Optico Escarabajos\\\\TRANSFLECTANCIA NOV 23\\\\datos\\\\corrected_files\\\\average\\\\C. CHRYSARGYREA INBIOCRI002426713_AVERAGE.txt',\n",
       " 'C:\\\\Users\\\\EstebanSoto\\\\Documents\\\\Estudio Optico Escarabajos\\\\TRANSFLECTANCIA NOV 23\\\\datos\\\\corrected_files\\\\average\\\\C. CUPREOMARGINATA MV 23-15_AVERAGE.txt',\n",
       " 'C:\\\\Users\\\\EstebanSoto\\\\Documents\\\\Estudio Optico Escarabajos\\\\TRANSFLECTANCIA NOV 23\\\\datos\\\\corrected_files\\\\average\\\\CHRYSINA BOUCARDI CORONAD0 (ICP) 2023_AVERAGE.txt',\n",
       " 'C:\\\\Users\\\\EstebanSoto\\\\Documents\\\\Estudio Optico Escarabajos\\\\TRANSFLECTANCIA NOV 23\\\\datos\\\\corrected_files\\\\average\\\\CHRYSINA KALININI LA AMISTAD 2022_AVERAGE.txt',\n",
       " 'C:\\\\Users\\\\EstebanSoto\\\\Documents\\\\Estudio Optico Escarabajos\\\\TRANSFLECTANCIA NOV 23\\\\datos\\\\corrected_files\\\\average\\\\MACRASPIS HIRTIVENTIS DIURNA_AVERAGE.txt',\n",
       " 'C:\\\\Users\\\\EstebanSoto\\\\Documents\\\\Estudio Optico Escarabajos\\\\TRANSFLECTANCIA NOV 23\\\\datos\\\\corrected_files\\\\average\\\\NI #001_AVERAGE.txt',\n",
       " 'C:\\\\Users\\\\EstebanSoto\\\\Documents\\\\Estudio Optico Escarabajos\\\\TRANSFLECTANCIA NOV 23\\\\datos\\\\corrected_files\\\\average\\\\NI #2_AVERAGE.txt',\n",
       " 'C:\\\\Users\\\\EstebanSoto\\\\Documents\\\\Estudio Optico Escarabajos\\\\TRANSFLECTANCIA NOV 23\\\\datos\\\\corrected_files\\\\average\\\\PELID 1_AVERAGE.txt',\n",
       " 'C:\\\\Users\\\\EstebanSoto\\\\Documents\\\\Estudio Optico Escarabajos\\\\TRANSFLECTANCIA NOV 23\\\\datos\\\\corrected_files\\\\average\\\\PELID 2_AVERAGE.txt',\n",
       " 'C:\\\\Users\\\\EstebanSoto\\\\Documents\\\\Estudio Optico Escarabajos\\\\TRANSFLECTANCIA NOV 23\\\\datos\\\\corrected_files\\\\average\\\\PLATY 1_AVERAGE.txt',\n",
       " 'C:\\\\Users\\\\EstebanSoto\\\\Documents\\\\Estudio Optico Escarabajos\\\\TRANSFLECTANCIA NOV 23\\\\datos\\\\corrected_files\\\\average\\\\PTENOMELA GRATIOSA 03610_AVERAGE.txt',\n",
       " 'C:\\\\Users\\\\EstebanSoto\\\\Documents\\\\Estudio Optico Escarabajos\\\\TRANSFLECTANCIA NOV 23\\\\datos\\\\corrected_files\\\\average\\\\STRIGIDA BELTI INBIO0004211063_AVERAGE.txt',\n",
       " 'C:\\\\Users\\\\EstebanSoto\\\\Documents\\\\Estudio Optico Escarabajos\\\\TRANSFLECTANCIA NOV 23\\\\datos\\\\corrected_files\\\\average\\\\STRIGIDA GLABRA INBIOCRI0003420620_AVERAGE.txt',\n",
       " 'C:\\\\Users\\\\EstebanSoto\\\\Documents\\\\Estudio Optico Escarabajos\\\\TRANSFLECTANCIA NOV 23\\\\datos\\\\corrected_files\\\\average\\\\STRIGIDIA 2_AVERAGE.txt']"
      ]
     },
     "execution_count": 10,
     "metadata": {},
     "output_type": "execute_result"
    }
   ],
   "source": [
    "# filters a list of strings to create a new list containing only the elements that end with \".txt\"\n",
    "\n",
    "def filter_asc_elements(input_list):\n",
    "    return [element for element in input_list if element.endswith(\".txt\")]\n",
    "def filter_substring_elements(path_strings, substring):\n",
    "    filtered_paths = [path for path in path_strings if substring in path]\n",
    "    return filtered_paths \n",
    "\n",
    "pattern_species = \"PLATY\"\n",
    "sample_species = \"AVERAGE\"\n",
    "# Filtering elements ending with \".ASC\"\n",
    "avg_file_list = filter_substring_elements(avg_file_list_general , pattern_species)\n",
    "#std_dev_file_list = filter_substring_elements(std_dev_file_list_general, \"\")\n",
    "sample_file_list = filter_substring_elements(sample_file_list_general, sample_species)\n",
    "\n",
    "# Displaying the filtered list\n",
    "#avg_file_list\n",
    "sample_file_list"
   ]
  },
  {
   "cell_type": "markdown",
   "id": "594af1b3",
   "metadata": {},
   "source": [
    "### Read data"
   ]
  },
  {
   "cell_type": "code",
   "execution_count": 12,
   "id": "0a45f398",
   "metadata": {},
   "outputs": [],
   "source": [
    "# Function to read data from files and filter within wavelength range\n",
    "def read_data(pattern_file, sample_file, initial_wavelength, final_wavelength):\n",
    "    # Read pattern file\n",
    "    pattern_data = pd.read_csv(pattern_file, sep='\\s+', header=None, names=['Wavelength', 'Transflectance'])\n",
    "    pattern_data.dropna(inplace=True)\n",
    "\n",
    "    # Filter pattern data within the specified wavelength range\n",
    "    pattern_data = pattern_data[(pattern_data['Wavelength'] >= initial_wavelength) & \n",
    "                                (pattern_data['Wavelength'] <= final_wavelength)]\n",
    "\n",
    "    # Read sample file\n",
    "    sample_data = pd.read_csv(sample_file, sep='\\s+', header=None, names=['Wavelength', 'Transflectance'])\n",
    "    sample_data.dropna(inplace=True)\n",
    "\n",
    "    # Filter sample data within the specified wavelength range\n",
    "    sample_data = sample_data[(sample_data['Wavelength'] >= initial_wavelength) & \n",
    "                              (sample_data['Wavelength'] <= final_wavelength)]\n",
    "\n",
    "    return pattern_data, sample_data"
   ]
  },
  {
   "cell_type": "code",
   "execution_count": null,
   "id": "545646aa",
   "metadata": {},
   "outputs": [],
   "source": []
  },
  {
   "cell_type": "markdown",
   "id": "01ca5085",
   "metadata": {},
   "source": [
    "### calculate differences"
   ]
  },
  {
   "cell_type": "code",
   "execution_count": 11,
   "id": "5af6f864",
   "metadata": {},
   "outputs": [],
   "source": [
    "\n",
    "\n",
    "# Function to calculate the sum of squares of differences between two datasets\n",
    "def sqrt_of_sum_of_squares_differences(df1, df2):\n",
    "     # Merge the dataframes on 'Wavelength' to get common wavelengths\n",
    "    merged = pd.merge(df1, df2, on='Wavelength', suffixes=('_df1', '_df2'), how='inner')\n",
    "\n",
    "    # Calculate squared differences for common wavelengths\n",
    "    merged['Squared_Differences'] = (merged['Transflectance_df1'] - merged['Transflectance_df2']) ** 2\n",
    "\n",
    "    # Create a new dataframe with common wavelengths and squared differences\n",
    "    result_df = merged[['Wavelength', 'Squared_Differences']]\n",
    "    \n",
    "    sum_squares_diff = np.sum(result_df ** 2, axis=0)\n",
    "    sqrt_of_sum_squares_diff = np.sqrt(sum_squares_diff)\n",
    "    return sqrt_of_sum_squares_diff\n",
    "\n",
    "# Function to calculate squared differences for common wavelengths between dataframes\n",
    "def squared_differences_common_wavelengths(df1, df2):\n",
    "    # Merge the dataframes on 'Wavelength' to get common wavelengths\n",
    "    merged = pd.merge(df1, df2, on='Wavelength', suffixes=('_df1', '_df2'), how='inner')\n",
    "\n",
    "    # Calculate squared differences for common wavelengths\n",
    "    merged['Squared_Differences'] = (merged['Transflectance_df1'] - merged['Transflectance_df2']) ** 2\n",
    "\n",
    "    # Create a new dataframe with common wavelengths and squared differences\n",
    "    result_df = merged[['Wavelength', 'Squared_Differences']]\n",
    "\n",
    "    return result_df\n",
    "\n",
    "# Main function to compute differences and return squared differences dataframe\n",
    "def differences(pattern_file, sample_file, initial_wavelength, final_wavelength):\n",
    "    pattern_data, sample_data = read_data(pattern_file, sample_file, initial_wavelength, final_wavelength)\n",
    "    \n",
    "    # Calculate sum of squares of differences\n",
    "    #sum_squares_diff = sum_of_squares_differences(squared_differences_common_wavelengths(pattern_data, sample_data))\n",
    "    \n",
    "    \n",
    "    sqrt_sum_squares_diff = sqrt_of_sum_of_squares_differences(pattern_data, sample_data)\n",
    "    return squared_differences_common_wavelengths(pattern_data, sample_data), sqrt_sum_squares_diff"
   ]
  },
  {
   "cell_type": "markdown",
   "id": "c1279c20",
   "metadata": {},
   "source": [
    "### Pdf report definition"
   ]
  },
  {
   "cell_type": "code",
   "execution_count": null,
   "id": "b965470a",
   "metadata": {},
   "outputs": [],
   "source": [
    "def plot_and_save_diff_report(initial_wavelength, final_wavelength, sample_file_list, pattern_file_list, report_location):\n",
    "    \n",
    "    create_folder_if_not_exists(report_location)\n",
    "\n",
    "    columns = ['sample', 'pattern', 'dataframe']\n",
    "    dataframes = pd.DataFrame(columns=columns)\n",
    "    new_rows_list = []\n",
    "    counter= 0\n",
    "    substring = \"_AVERAGE.txt\"\n",
    "\n",
    "    for avg_pattern in pattern_file_list:\n",
    "        for sample in sample_file_list:\n",
    "\n",
    "            if counter == 100: break\n",
    "\n",
    "            df, sqrt_sum_squares_diff = differences(sample, avg_pattern, initial_wavelength, final_wavelength)\n",
    "            # Plot using Pandas' built-in plot method\n",
    "            txt = 'Squared Diff: '+ str(np.round(sqrt_sum_squares_diff[\"Squared_Differences\"],2))   + ' for ' + os.path.basename(sample).replace(substring, \"\") + \" and \" + os.path.basename(avg_pattern).replace(substring, \"\")\n",
    "            ax = df.plot(x='Wavelength', y='Squared_Differences', label=\"Dataframe\", title=txt)\n",
    "            ax.set_xlabel('Wavelength' + \"\\n\\n\\n\" + txt)\n",
    "            ax.set_ylabel('Squared_Differences')\n",
    "            ax.legend()\n",
    "            ax.grid(True)\n",
    "\n",
    "            #plt.show()  # Display the plot\n",
    "\n",
    "            # Save figures\n",
    "            pdf.savefig()\n",
    "            # Close plot\n",
    "            plt.close()\n",
    "\n",
    "            # Increment counter\n",
    "            counter += 1\n"
   ]
  },
  {
   "cell_type": "markdown",
   "id": "c1d14651",
   "metadata": {},
   "source": [
    "### Print reports for each range "
   ]
  },
  {
   "cell_type": "code",
   "execution_count": null,
   "id": "53dd8b36",
   "metadata": {
    "scrolled": true
   },
   "outputs": [],
   "source": [
    "create_folder_if_not_exists(report_location)\n",
    "\n",
    "with matplotlib.backends.backend_pdf.PdfPages(report_location + \"\\\\\" + 'sqrt_diff_plots_UV.pdf') as pdf:\n",
    "#250 nm a 399 nm\n",
    "    plot_and_save_diff_report(250, 399, sample_file_list, avg_file_list, report_location)\n",
    "\n",
    "with matplotlib.backends.backend_pdf.PdfPages(report_location + \"\\\\\" + 'sqrt_diff_plots_VIS.pdf') as pdf:\n",
    "#400 nm a 699 nm\n",
    "    plot_and_save_diff_report(400, 699, sample_file_list, avg_file_list, report_location)\n",
    "\n",
    "with matplotlib.backends.backend_pdf.PdfPages(report_location + \"\\\\\" + 'sqrt_diff_plots_IR.pdf') as pdf:\n",
    "#699 nm a 2000 nm \n",
    "    plot_and_save_diff_report(699, 2200,  sample_file_list, avg_file_list, report_location)"
   ]
  },
  {
   "cell_type": "markdown",
   "id": "488fb512",
   "metadata": {},
   "source": [
    "### Comparison between metallic species"
   ]
  },
  {
   "cell_type": "code",
   "execution_count": null,
   "id": "25f64259",
   "metadata": {},
   "outputs": [],
   "source": [
    "def filter_substring_list_elements(path_strings, substring_list): \n",
    "    result =[]\n",
    "    for substring in substring_list:\n",
    "        filtered_paths = [path for path in path_strings if substring in path]\n",
    "        result.append(filtered_paths)\n",
    "    single_list = list(itertools.chain.from_iterable(result))\n",
    "    return single_list \n"
   ]
  },
  {
   "cell_type": "code",
   "execution_count": null,
   "id": "f3c1f63b",
   "metadata": {},
   "outputs": [],
   "source": [
    "\n",
    "substring_1 = [\"PLATY\",\"PELID\"]\n",
    "    \n",
    "filter_substring_list_elements(sample_file_list, substring_1)\n"
   ]
  },
  {
   "cell_type": "code",
   "execution_count": null,
   "id": "909113a6",
   "metadata": {},
   "outputs": [],
   "source": []
  }
 ],
 "metadata": {
  "kernelspec": {
   "display_name": "Python 3 (ipykernel)",
   "language": "python",
   "name": "python3"
  },
  "language_info": {
   "codemirror_mode": {
    "name": "ipython",
    "version": 3
   },
   "file_extension": ".py",
   "mimetype": "text/x-python",
   "name": "python",
   "nbconvert_exporter": "python",
   "pygments_lexer": "ipython3",
   "version": "3.11.5"
  }
 },
 "nbformat": 4,
 "nbformat_minor": 5
}
