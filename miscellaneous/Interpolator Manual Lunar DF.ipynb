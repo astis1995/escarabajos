{
 "cells": [
  {
   "cell_type": "code",
   "execution_count": 1,
   "id": "48cefa8c",
   "metadata": {},
   "outputs": [],
   "source": [
    "import pandas as pd\n",
    "import numpy as np \n",
    "\n",
    "#import dataset \n",
    "deg_0_path= r\"C:\\Users\\EstebanSoto\\Documents\\Estudio Optico Escarabajos\\spectral irradiance\\spectral irradiance of the moon\\The Impact datasets\\0 deg.csv\"\n",
    "deg_20_path= r\"C:\\Users\\EstebanSoto\\Documents\\Estudio Optico Escarabajos\\spectral irradiance\\spectral irradiance of the moon\\The Impact datasets\\20 deg.csv\"\n",
    "deg_40_path= r\"C:\\Users\\EstebanSoto\\Documents\\Estudio Optico Escarabajos\\spectral irradiance\\spectral irradiance of the moon\\The Impact datasets\\40 deg.csv\"\n",
    "deg_60_path= r\"C:\\Users\\EstebanSoto\\Documents\\Estudio Optico Escarabajos\\spectral irradiance\\spectral irradiance of the moon\\The Impact datasets\\60 deg.csv\"\n",
    "deg_90_path= r\"C:\\Users\\EstebanSoto\\Documents\\Estudio Optico Escarabajos\\spectral irradiance\\spectral irradiance of the moon\\The Impact datasets\\90 deg.csv\"\n",
    "\n",
    "df_0 = pd.read_csv(deg_0_path, names=[\"wavelength\", \"irradiance\"])\n",
    "df_20 = pd.read_csv(deg_20_path, names=[\"wavelength\", \"irradiance\"])\n",
    "df_40 = pd.read_csv(deg_40_path, names=[\"wavelength\", \"irradiance\"])\n",
    "df_60 = pd.read_csv(deg_60_path, names=[\"wavelength\", \"irradiance\"])\n",
    "df_90 = pd.read_csv(deg_90_path, names=[\"wavelength\", \"irradiance\"])\n",
    "\n",
    "#interpolate values\n",
    "#save new dataset "
   ]
  },
  {
   "cell_type": "code",
   "execution_count": 2,
   "id": "d78d66d8",
   "metadata": {},
   "outputs": [],
   "source": [
    "#create new wavelength range\n",
    "min_wv = 300\n",
    "max_wv = 1201\n",
    "step = 1\n",
    "wavelengths = np.arange(min_wv, max_wv,step)\n",
    "wavelengths_df = pd.DataFrame(wavelengths, columns= [\"wavelength\"])"
   ]
  },
  {
   "cell_type": "code",
   "execution_count": 3,
   "id": "a6aeb454",
   "metadata": {},
   "outputs": [
    {
     "data": {
      "text/html": [
       "<div>\n",
       "<style scoped>\n",
       "    .dataframe tbody tr th:only-of-type {\n",
       "        vertical-align: middle;\n",
       "    }\n",
       "\n",
       "    .dataframe tbody tr th {\n",
       "        vertical-align: top;\n",
       "    }\n",
       "\n",
       "    .dataframe thead th {\n",
       "        text-align: right;\n",
       "    }\n",
       "</style>\n",
       "<table border=\"1\" class=\"dataframe\">\n",
       "  <thead>\n",
       "    <tr style=\"text-align: right;\">\n",
       "      <th></th>\n",
       "      <th>wavelength</th>\n",
       "    </tr>\n",
       "  </thead>\n",
       "  <tbody>\n",
       "    <tr>\n",
       "      <th>0</th>\n",
       "      <td>300</td>\n",
       "    </tr>\n",
       "    <tr>\n",
       "      <th>1</th>\n",
       "      <td>301</td>\n",
       "    </tr>\n",
       "    <tr>\n",
       "      <th>2</th>\n",
       "      <td>302</td>\n",
       "    </tr>\n",
       "    <tr>\n",
       "      <th>3</th>\n",
       "      <td>303</td>\n",
       "    </tr>\n",
       "    <tr>\n",
       "      <th>4</th>\n",
       "      <td>304</td>\n",
       "    </tr>\n",
       "    <tr>\n",
       "      <th>...</th>\n",
       "      <td>...</td>\n",
       "    </tr>\n",
       "    <tr>\n",
       "      <th>896</th>\n",
       "      <td>1196</td>\n",
       "    </tr>\n",
       "    <tr>\n",
       "      <th>897</th>\n",
       "      <td>1197</td>\n",
       "    </tr>\n",
       "    <tr>\n",
       "      <th>898</th>\n",
       "      <td>1198</td>\n",
       "    </tr>\n",
       "    <tr>\n",
       "      <th>899</th>\n",
       "      <td>1199</td>\n",
       "    </tr>\n",
       "    <tr>\n",
       "      <th>900</th>\n",
       "      <td>1200</td>\n",
       "    </tr>\n",
       "  </tbody>\n",
       "</table>\n",
       "<p>901 rows × 1 columns</p>\n",
       "</div>"
      ],
      "text/plain": [
       "     wavelength\n",
       "0           300\n",
       "1           301\n",
       "2           302\n",
       "3           303\n",
       "4           304\n",
       "..          ...\n",
       "896        1196\n",
       "897        1197\n",
       "898        1198\n",
       "899        1199\n",
       "900        1200\n",
       "\n",
       "[901 rows x 1 columns]"
      ]
     },
     "execution_count": 3,
     "metadata": {},
     "output_type": "execute_result"
    }
   ],
   "source": [
    "wavelengths_df"
   ]
  },
  {
   "cell_type": "code",
   "execution_count": 4,
   "id": "6dff91ba",
   "metadata": {},
   "outputs": [],
   "source": [
    "# Perform linear interpolation using NumPy's interp function\n",
    "# Create a new DataFrame with interpolated values\n",
    "\n",
    "df_0_inter = pd.DataFrame({'wavelength': wavelengths_df['wavelength'], 'irradiance': np.interp(wavelengths_df[\"wavelength\"], df_0[\"wavelength\"], df_0[\"irradiance\"])})\n",
    "df_20_inter = pd.DataFrame({'wavelength': wavelengths_df['wavelength'], 'irradiance': np.interp(wavelengths_df[\"wavelength\"], df_20[\"wavelength\"], df_20[\"irradiance\"])})\n",
    "df_40_inter = pd.DataFrame({'wavelength': wavelengths_df['wavelength'], 'irradiance': np.interp(wavelengths_df[\"wavelength\"], df_40[\"wavelength\"], df_40[\"irradiance\"])})\n",
    "df_60_inter = pd.DataFrame({'wavelength': wavelengths_df['wavelength'], 'irradiance': np.interp(wavelengths_df[\"wavelength\"], df_60[\"wavelength\"], df_60[\"irradiance\"])})\n",
    "df_90_inter = pd.DataFrame({'wavelength': wavelengths_df['wavelength'], 'irradiance': np.interp(wavelengths_df[\"wavelength\"], df_90[\"wavelength\"], df_90[\"irradiance\"])})\n"
   ]
  },
  {
   "cell_type": "code",
   "execution_count": 5,
   "id": "42221691",
   "metadata": {},
   "outputs": [
    {
     "data": {
      "text/plain": [
       "<Axes: xlabel='wavelength'>"
      ]
     },
     "execution_count": 5,
     "metadata": {},
     "output_type": "execute_result"
    },
    {
     "data": {
      "image/png": "[encoded data removed]",
      "text/plain": [
       "<Figure size 640x480 with 1 Axes>"
      ]
     },
     "metadata": {},
     "output_type": "display_data"
    }
   ],
   "source": [
    "df_60_inter.plot(x=\"wavelength\", y = \"irradiance\")"
   ]
  },
  {
   "cell_type": "code",
   "execution_count": 6,
   "id": "7150b902",
   "metadata": {},
   "outputs": [
    {
     "data": {
      "text/html": [
       "<div>\n",
       "<style scoped>\n",
       "    .dataframe tbody tr th:only-of-type {\n",
       "        vertical-align: middle;\n",
       "    }\n",
       "\n",
       "    .dataframe tbody tr th {\n",
       "        vertical-align: top;\n",
       "    }\n",
       "\n",
       "    .dataframe thead th {\n",
       "        text-align: right;\n",
       "    }\n",
       "</style>\n",
       "<table border=\"1\" class=\"dataframe\">\n",
       "  <thead>\n",
       "    <tr style=\"text-align: right;\">\n",
       "      <th></th>\n",
       "      <th>wavelength</th>\n",
       "      <th>irradiance</th>\n",
       "    </tr>\n",
       "  </thead>\n",
       "  <tbody>\n",
       "    <tr>\n",
       "      <th>0</th>\n",
       "      <td>300</td>\n",
       "      <td>0.120987</td>\n",
       "    </tr>\n",
       "    <tr>\n",
       "      <th>1</th>\n",
       "      <td>301</td>\n",
       "      <td>0.114764</td>\n",
       "    </tr>\n",
       "    <tr>\n",
       "      <th>2</th>\n",
       "      <td>302</td>\n",
       "      <td>0.125472</td>\n",
       "    </tr>\n",
       "    <tr>\n",
       "      <th>3</th>\n",
       "      <td>303</td>\n",
       "      <td>0.152489</td>\n",
       "    </tr>\n",
       "    <tr>\n",
       "      <th>4</th>\n",
       "      <td>304</td>\n",
       "      <td>0.170460</td>\n",
       "    </tr>\n",
       "    <tr>\n",
       "      <th>...</th>\n",
       "      <td>...</td>\n",
       "      <td>...</td>\n",
       "    </tr>\n",
       "    <tr>\n",
       "      <th>896</th>\n",
       "      <td>1196</td>\n",
       "      <td>0.575260</td>\n",
       "    </tr>\n",
       "    <tr>\n",
       "      <th>897</th>\n",
       "      <td>1197</td>\n",
       "      <td>0.574221</td>\n",
       "    </tr>\n",
       "    <tr>\n",
       "      <th>898</th>\n",
       "      <td>1198</td>\n",
       "      <td>0.567996</td>\n",
       "    </tr>\n",
       "    <tr>\n",
       "      <th>899</th>\n",
       "      <td>1199</td>\n",
       "      <td>0.562660</td>\n",
       "    </tr>\n",
       "    <tr>\n",
       "      <th>900</th>\n",
       "      <td>1200</td>\n",
       "      <td>0.560773</td>\n",
       "    </tr>\n",
       "  </tbody>\n",
       "</table>\n",
       "<p>901 rows × 2 columns</p>\n",
       "</div>"
      ],
      "text/plain": [
       "     wavelength  irradiance\n",
       "0           300    0.120987\n",
       "1           301    0.114764\n",
       "2           302    0.125472\n",
       "3           303    0.152489\n",
       "4           304    0.170460\n",
       "..          ...         ...\n",
       "896        1196    0.575260\n",
       "897        1197    0.574221\n",
       "898        1198    0.567996\n",
       "899        1199    0.562660\n",
       "900        1200    0.560773\n",
       "\n",
       "[901 rows x 2 columns]"
      ]
     },
     "execution_count": 6,
     "metadata": {},
     "output_type": "execute_result"
    }
   ],
   "source": [
    "df_60_inter"
   ]
  },
  {
   "cell_type": "code",
   "execution_count": 7,
   "id": "0c60a89d",
   "metadata": {},
   "outputs": [],
   "source": [
    "#save values\n",
    "df_0_np = df_0_inter.to_numpy()\n",
    "df_20_np = df_20_inter.to_numpy()\n",
    "df_40_np = df_40_inter.to_numpy()\n",
    "df_60_np = df_60_inter.to_numpy()\n",
    "df_90_np = df_90_inter.to_numpy()\n",
    "\n",
    "location = r\"C:\\Users\\EstebanSoto\\Documents\\Estudio Optico Escarabajos\\spectral irradiance\\spectral irradiance of the moon\\The Impact datasets\"\n",
    "np.savetxt(location +r\"\\df_0.txt\",df_0_np, delimiter=\"\\t\")\n",
    "np.savetxt(location +r\"\\df_20.txt\",df_20_np, delimiter=\"\\t\")\n",
    "np.savetxt(location +r\"\\df_40.txt\",df_40_np, delimiter=\"\\t\")\n",
    "np.savetxt(location +r\"\\df_60.txt\",df_60_np, delimiter=\"\\t\")\n",
    "np.savetxt(location +r\"\\df_90.txt\",df_90_np, delimiter=\"\\t\")\n"
   ]
  },
  {
   "cell_type": "code",
   "execution_count": null,
   "id": "40acaf8b",
   "metadata": {},
   "outputs": [],
   "source": []
  }
 ],
 "metadata": {
  "kernelspec": {
   "display_name": "Python 3 (ipykernel)",
   "language": "python",
   "name": "python3"
  },
  "language_info": {
   "codemirror_mode": {
    "name": "ipython",
    "version": 3
   },
   "file_extension": ".py",
   "mimetype": "text/x-python",
   "name": "python",
   "nbconvert_exporter": "python",
   "pygments_lexer": "ipython3",
   "version": "3.11.5"
  }
 },
 "nbformat": 4,
 "nbformat_minor": 5
}
