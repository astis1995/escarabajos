{
 "cells": [
  {
   "cell_type": "code",
   "execution_count": 1,
   "id": "5a57ca29-ad9a-4e20-a14a-c0665bdd4316",
   "metadata": {},
   "outputs": [
    {
     "name": "stdout",
     "output_type": "stream",
     "text": [
      "C:\\Users\\esteb\\cicima\\escarabajos\\gamma\n"
     ]
    }
   ],
   "source": [
    "import sys\n",
    "import os\n",
    "\n",
    "# Get the current directory\n",
    "current_directory = os.getcwd()\n",
    "\n",
    "# Add the current directory to the Python path\n",
    "sys.path.append(current_directory)\n",
    "print(current_directory)\n",
    "\n",
    "from spectraltools import *\n",
    "import pandas as pd\n",
    "import numpy as np\n",
    "import matplotlib\n",
    "import matplotlib.pyplot as plt\n",
    "import os\n",
    "import math\n",
    "import re\n",
    "import scipy\n",
    "#import tensorflow as tf\n",
    "import seaborn as sns\n",
    "\n",
    "import metrics\n",
    "import spectraltools\n",
    "import importlib\n",
    "# clear the import cache\n",
    "importlib.reload(metrics)\n",
    "importlib.reload(spectraltools)\n",
    "# now you can import my_class and it'll be updated\n",
    "from metrics import *\n",
    "from spectraltools import *"
   ]
  },
  {
   "cell_type": "code",
   "execution_count": 2,
   "id": "f133812f-fecc-4c84-9740-a9ba071fe6e0",
   "metadata": {},
   "outputs": [],
   "source": [
    "\"\"\"This section allows the user to choose their workplace location.\n",
    "This is important if the user has multiple locations and operating systems in which this \n",
    "script is run\"\"\"\n",
    "\n",
    "#select location\n",
    "working_at = \"wfh\"\n",
    "\n",
    "#Training data is used when we are already certain of species and genera for a particular sample\n",
    "training_data_is_used = False\n",
    "\n",
    "if working_at == \"colaboratory\":\n",
    "  from google.colab import drive\n",
    "  drive.mount(\"/content/drive\")\n",
    "  #base folder\n",
    "  \"\"\"Select the location for your base folder\"\"\"\n",
    "    \n",
    "  base_folder = r\"/content/drive/My Drive/CICIMA/escarabajos_files\"\n",
    "  \n",
    "elif working_at == \"wfh\":\n",
    "\n",
    "    \"\"\"Select the location of your base folder\"\"\"\n",
    "    base_folder = r\"C:\\Users\\esteb\\cicima\\escarabajos\"\n",
    "\n",
    "elif working_at == \"cicima_desktop\":\n",
    "  \n",
    "    \"\"\"Select the location of your base folder\"\"\"\n",
    "    base_folder = r\"C:\\Users\\EstebanSoto\\Jupyter\\escarabajos\"\n",
    "\n",
    "elif working_at == \"cicima_laptop\":\n",
    "    \n",
    "    \"\"\"Select the location of your base folder\"\"\"\n",
    "    base_folder = r\"/home/vinicio/escarabajos\"\n",
    "\n",
    "#define the location of the tables with information about the collections and its parent directory\n",
    "\n",
    "collection_tables_main_path =  os.path.join(base_folder, \"L1050_data\",\"collections\")\n",
    "collection_files_main_path = os.path.join(base_folder, \"L1050_data\")\n",
    "\n",
    "# Define report location\n",
    "report_location = os.path.join(base_folder, \"reports\",\"data_analysis\")\n",
    "\n",
    "#collection_descriptor = r\"CICIMAUCR and ANGSOL\" tododelete\n",
    "\n",
    "#File location and metadata location for collection 1\n",
    "angsol_collection_path = os.path.join(collection_files_main_path,\"ANGSOL\",\"average\") \n",
    "angsol_collection_metadata = os.path.join(collection_tables_main_path,\"CICIMA-beetles-general-inventory - ANGSOL.txt\") \n",
    "\n",
    "#File location and metadata location for collection 2\n",
    "cicimaucr_collection_path = os.path.join(collection_files_main_path,r\"TRA_data_CICIMA_INBUCR\",\"CICIMAUCR\",\"reflectance\")  #listo\n",
    "cicimaucr_collection_2_path = os.path.join(collection_files_main_path,r\"CICIMA-2024-01-REFLECTANCE\",\"average\")\n",
    "cicimaucr_collection_3_path = os.path.join(collection_files_main_path,r\"CICIMA-2024-03-REFLECTANCE\",\"without iris nor lens\",\"average\")\n",
    "cicimaucr_collection_4_path = os.path.join(collection_files_main_path,r\"CICIMA-2024-05-REFLECTANCE\",\"average\")\n",
    "cicima_ucr_metadata = os.path.join(collection_tables_main_path,r\"CICIMA-beetles-general-inventory - CICIMAUCR.txt\") \n",
    "\n",
    "#File location and metadata location for collection 3\n",
    "inbucr_collection_path = os.path.join(collection_files_main_path,r\"INBUCR\",\"average\") #listo\n",
    "inbucr_metadata = os.path.join(collection_tables_main_path,r\"CICIMA-beetles-general-inventory - INBUCR.txt\") \n",
    "\n",
    "#File location and metadata location for collection 4\n",
    "bioucr_collection_path = os.path.join(collection_files_main_path,r\"BIOUCR\",\"average\")  #listo\n",
    "bioucr_metadata = os.path.join(collection_tables_main_path,r\"CICIMA-beetles-general-inventory - BIOUCR.txt\") \n",
    "\n",
    "#agregated data location, here averages and std will be saved when training data and retreived when classifying spectra\n",
    "agregated_data_location = os.path.join(base_folder, \"aggregated_data\")"
   ]
  },
  {
   "cell_type": "code",
   "execution_count": 3,
   "id": "555d6899-d442-4102-9d64-54d8db9f8619",
   "metadata": {},
   "outputs": [
    {
     "name": "stdout",
     "output_type": "stream",
     "text": [
      "nan\n",
      "nan\n",
      "nan\n"
     ]
    },
    {
     "data": {
      "text/plain": [
       "[<spectraltools.Spectrum at 0x1ef907f4a60>,\n",
       " <spectraltools.Spectrum at 0x1ef907f4130>,\n",
       " <spectraltools.Spectrum at 0x1ef907f4b50>,\n",
       " <spectraltools.Spectrum at 0x1ef907f4e20>,\n",
       " <spectraltools.Spectrum at 0x1ef90898ca0>,\n",
       " <spectraltools.Spectrum at 0x1ef90898460>,\n",
       " <spectraltools.Spectrum at 0x1ef90898850>,\n",
       " <spectraltools.Spectrum at 0x1ef908987c0>,\n",
       " <spectraltools.Spectrum at 0x1ef90898f40>,\n",
       " <spectraltools.Spectrum at 0x1ef9087c160>,\n",
       " <spectraltools.Spectrum at 0x1ef8b911580>,\n",
       " <spectraltools.Spectrum at 0x1ef9087c6d0>,\n",
       " <spectraltools.Spectrum at 0x1ef8b9f9970>,\n",
       " <spectraltools.Spectrum at 0x1ef8b9f9df0>,\n",
       " <spectraltools.Spectrum at 0x1ef90898d90>,\n",
       " <spectraltools.Spectrum at 0x1ef8b9fbfd0>,\n",
       " <spectraltools.Spectrum at 0x1ef90898b20>,\n",
       " <spectraltools.Spectrum at 0x1ef8ba08070>,\n",
       " <spectraltools.Spectrum at 0x1ef908a0d00>,\n",
       " <spectraltools.Spectrum at 0x1ef908aebe0>,\n",
       " <spectraltools.Spectrum at 0x1ef908a06a0>,\n",
       " <spectraltools.Spectrum at 0x1ef908aee20>,\n",
       " <spectraltools.Spectrum at 0x1ef908aec40>,\n",
       " <spectraltools.Spectrum at 0x1ef8b9f9f40>,\n",
       " <spectraltools.Spectrum at 0x1ef8b9f9c40>,\n",
       " <spectraltools.Spectrum at 0x1ef906fa250>,\n",
       " <spectraltools.Spectrum at 0x1ef8b9f9dc0>,\n",
       " <spectraltools.Spectrum at 0x1ef8b9f9700>]"
      ]
     },
     "execution_count": 3,
     "metadata": {},
     "output_type": "execute_result"
    }
   ],
   "source": [
    "#Collections\n",
    "angsol_collection = Specimen_Collection(\"ANGSOL\", angsol_collection_path, angsol_collection_metadata, \"HIGH\")\n",
    "angsol_collection.set_description(\"ANGSOL collection has specimens that belong to Angel Solís. The confidence that we have about specimen identification is high.\")\n",
    "\n",
    "cicimaucr_collection = Specimen_Collection(\"CICIMAUCR1\", cicimaucr_collection_path, cicima_ucr_metadata, \"HIGH\")\n",
    "cicimaucr_collection_2 = Specimen_Collection(\"CICIMAUCR2\", cicimaucr_collection_2_path, cicima_ucr_metadata, \"HIGH\")\n",
    "cicimaucr_collection_3 = Specimen_Collection(\"CICIMAUCR3\", cicimaucr_collection_3_path, cicima_ucr_metadata, \"HIGH\")\n",
    "cicimaucr_collection_3.set_description(\"\"\"The most part of CICIMA specimens belongs to this collecttion\"\"\")\n",
    "\n",
    "cicimaucr_collection_4 = Specimen_Collection(\"CICIMAUCR4\", cicimaucr_collection_4_path, cicima_ucr_metadata, \"HIGH\")\n",
    "cicimaucr_collection_4.set_description(\"\"\"This collection has 3 kalinini specimens which were not used in training. \n",
    "                                        These are intended to be used as test subjects\"\"\")\n",
    "\n",
    "inbucr_collection = Specimen_Collection(\"INBUCR\", inbucr_collection_path, inbucr_metadata, \"MID\")\n",
    "bioucr_collection = Specimen_Collection(\"BIOUCR\", bioucr_collection_path, bioucr_metadata, \"LOW\")\n",
    "\n",
    "collection_list = [\n",
    "                    #angsol_collection,\n",
    "                    cicimaucr_collection,\n",
    "                    cicimaucr_collection_2,\n",
    "                    cicimaucr_collection_3,\n",
    "                    #inbucr_collection,\n",
    "                    #bioucr_collection,\n",
    "                    ]\n",
    "collection_names_set = set([collection.name for collection in collection_list])\n",
    "collection_names = \" \".join( sorted(collection_names_set))\n",
    "\n",
    "prediction_list = [\n",
    "                    #angsol_collection,\n",
    "                    #cicimaucr_collection,\n",
    "                    #cicimaucr_collection_2,\n",
    "                    #cicimaucr_collection_3,\n",
    "                    cicimaucr_collection_4,\n",
    "                    #inbucr_collection,\n",
    "                    #bioucr_collection,\n",
    "                    ]\n",
    "prediction_collection_names_set = set([collection.name for collection in collection_list])\n",
    "prediction_collection_names = \" \".join( sorted(collection_names_set))\n",
    "\n",
    "\n",
    "#print(collection_names)\n",
    "#date\n",
    "from datetime import datetime\n",
    "current_date = datetime.now().date()\n",
    "\n",
    "def get_filtered_spectra(collection_list):\n",
    "\n",
    "    all_spectra = []\n",
    "    \n",
    "    for collection in collection_list:\n",
    "        all_spectra += collection.get_spectra()\n",
    "\n",
    "    all_spectra = [item for item in all_spectra if item.get_species() in [\"kalinini\", \"resplendens\", \"cupreomarginata\"]]\n",
    "    return all_spectra\n",
    "    \n",
    "def get_spectra(collection_list):\n",
    "\n",
    "    all_spectra = []\n",
    "    \n",
    "    for collection in collection_list:\n",
    "        all_spectra += collection.get_spectra()\n",
    "\n",
    "    return all_spectra  \n",
    "    \n",
    "training_spectra = get_filtered_spectra(collection_list)\n",
    "prediction_spectra  = get_spectra(prediction_list) \n",
    "\n",
    "for spectrum in prediction_spectra:\n",
    "    print(spectrum.get_species())\n",
    "\n",
    "training_spectra"
   ]
  },
  {
   "cell_type": "code",
   "execution_count": 4,
   "id": "bb2347e1-abaa-4c89-8cc3-2f315ff0b734",
   "metadata": {},
   "outputs": [
    {
     "data": {
      "image/png": "[encoded data removed]",
      "text/plain": [
       "<Figure size 1000x500 with 1 Axes>"
      ]
     },
     "metadata": {},
     "output_type": "display_data"
    }
   ],
   "source": [
    "spectrum = training_spectra[4]\n",
    "\n",
    "peaks = PeakList(spectrum)\n",
    "peaks.plot()"
   ]
  },
  {
   "cell_type": "code",
   "execution_count": 5,
   "id": "d2c97dfb-9361-4607-97e4-46d084ed40b9",
   "metadata": {},
   "outputs": [
    {
     "name": "stdout",
     "output_type": "stream",
     "text": [
      "[[ 599.        855.        939.       1186.       1494.       1578.\n",
      "  1733.       1940.        550.        772.        858.       1119.\n",
      "  1303.       1654.       1858.      ]\n",
      " [  33.878252   52.039889   45.619933   39.642633   22.5114     23.0543\n",
      "    20.2637     12.294767   37.871428   61.37373    52.492067   51.588067\n",
      "    49.532067   26.7769     26.644867]]\n",
      "<class 'numpy.ndarray'>\n"
     ]
    }
   ],
   "source": [
    "obj = Critical_Points(spectrum).get_metric_value()\n",
    "print(obj)\n",
    "print(type(obj))"
   ]
  },
  {
   "cell_type": "code",
   "execution_count": 6,
   "id": "968f0512-f87f-4f5e-8554-18cec7f96528",
   "metadata": {},
   "outputs": [
    {
     "name": "stdout",
     "output_type": "stream",
     "text": [
      "1.0248502652342322\n",
      "1.0248502652342322\n",
      "1.6205813522532078\n",
      "2.140540182188479\n",
      "2.926099064895165\n",
      "[1.         1.62058135 1.38605988 1.36218964 1.30790069 0.70704754\n",
      " 0.70356119]\n",
      "[ 550.  772.  858. 1119. 1303. 1654. 1858.]\n",
      "[[ 599.        855.        939.       1186.       1494.       1578.\n",
      "  1733.       1940.        550.        772.        858.       1119.\n",
      "  1303.       1654.       1858.      ]\n",
      " [  33.878252   52.039889   45.619933   39.642633   22.5114     23.0543\n",
      "    20.2637     12.294767   37.871428   61.37373    52.492067   51.588067\n",
      "    49.532067   26.7769     26.644867]]\n",
      "[[ 599.        855.        939.       1186.       1494.       1578.\n",
      "  1733.       1940.      ]\n",
      " [  33.878252   52.039889   45.619933   39.642633   22.5114     23.0543\n",
      "    20.2637     12.294767]]\n",
      "[[ 550.        772.        858.       1119.       1303.       1654.\n",
      "  1858.      ]\n",
      " [  37.871428   61.37373    52.492067   51.588067   49.532067   26.7769\n",
      "    26.644867]]\n",
      "[[5.99000000e+02 8.55000000e+02 9.39000000e+02 1.18600000e+03\n",
      "  1.49400000e+03 1.57800000e+03 1.73300000e+03 1.94000000e+03]\n",
      " [1.00000000e+00 1.53608542e+00 1.34658462e+00 1.17014989e+00\n",
      "  6.64479383e-01 6.80504413e-01 5.98132985e-01 3.62910312e-01]]\n",
      "[[5.50000000e+02 7.72000000e+02 8.58000000e+02 1.11900000e+03\n",
      "  1.30300000e+03 1.65400000e+03 1.85800000e+03]\n",
      " [1.00000000e+00 1.62058135e+00 1.38605988e+00 1.36218964e+00\n",
      "  1.30790069e+00 7.07047540e-01 7.03561191e-01]]\n"
     ]
    }
   ],
   "source": [
    "metric_list = [Gamma_Arbitrary_Limits, Gamma_First_Two_Peaks,Gamma_Area_Under_Curve_Naive,Gamma_Area_Under_Curve_First_Min_Cut, Gamma_Vector_Relative_Reflectance, \n",
    "               Wavelength_Vector, Critical_Points, Minimum_Points, Maximum_Points, Minimum_Points_Normalized,\n",
    "               Maximum_Points_Normalized]\n",
    "for metric_i in metric_list:\n",
    "    gftp = metric_i(spectrum).get_metric_value()\n",
    "    print(gftp)"
   ]
  },
  {
   "cell_type": "code",
   "execution_count": null,
   "id": "9979b8e9-5f1b-459f-90a3-e8294a8e8d45",
   "metadata": {},
   "outputs": [],
   "source": []
  },
  {
   "cell_type": "code",
   "execution_count": null,
   "id": "f28536f9-8987-4f78-b388-2f93721e5f9b",
   "metadata": {},
   "outputs": [],
   "source": []
  }
 ],
 "metadata": {
  "kernelspec": {
   "display_name": "Python 3 (ipykernel)",
   "language": "python",
   "name": "python3"
  },
  "language_info": {
   "codemirror_mode": {
    "name": "ipython",
    "version": 3
   },
   "file_extension": ".py",
   "mimetype": "text/x-python",
   "name": "python",
   "nbconvert_exporter": "python",
   "pygments_lexer": "ipython3",
   "version": "3.9.18"
  }
 },
 "nbformat": 4,
 "nbformat_minor": 5
}
