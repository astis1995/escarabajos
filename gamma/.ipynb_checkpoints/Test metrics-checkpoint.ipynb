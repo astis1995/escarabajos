{
 "cells": [
  {
   "cell_type": "code",
   "execution_count": 1,
   "id": "5a57ca29-ad9a-4e20-a14a-c0665bdd4316",
   "metadata": {},
   "outputs": [
    {
     "name": "stdout",
     "output_type": "stream",
     "text": [
      "C:\\Users\\esteb\\cicima\\escarabajos\\gamma\n"
     ]
    }
   ],
   "source": [
    "import sys\n",
    "import os\n",
    "\n",
    "# Get the current directory\n",
    "current_directory = os.getcwd()\n",
    "\n",
    "# Add the current directory to the Python path\n",
    "sys.path.append(current_directory)\n",
    "print(current_directory)\n",
    "\n",
    "from spectraltools import *\n",
    "import pandas as pd\n",
    "import numpy as np\n",
    "import matplotlib\n",
    "import matplotlib.pyplot as plt\n",
    "import os\n",
    "import math\n",
    "import re\n",
    "import scipy\n",
    "#import tensorflow as tf\n",
    "import seaborn as sns\n",
    "\n",
    "import metrics\n",
    "import spectraltools\n",
    "import importlib\n",
    "# clear the import cache\n",
    "importlib.reload(metrics)\n",
    "importlib.reload(spectraltools)\n",
    "# now you can import my_class and it'll be updated\n",
    "from metrics import *\n",
    "from spectraltools import *"
   ]
  },
  {
   "cell_type": "code",
   "execution_count": 2,
   "id": "f133812f-fecc-4c84-9740-a9ba071fe6e0",
   "metadata": {},
   "outputs": [],
   "source": [
    "\"\"\"This section allows the user to choose their workplace location.\n",
    "This is important if the user has multiple locations and operating systems in which this \n",
    "script is run\"\"\"\n",
    "\n",
    "#select location\n",
    "working_at = \"wfh\"\n",
    "\n",
    "#Training data is used when we are already certain of species and genera for a particular sample\n",
    "training_data_is_used = False\n",
    "\n",
    "if working_at == \"colaboratory\":\n",
    "  from google.colab import drive\n",
    "  drive.mount(\"/content/drive\")\n",
    "  #base folder\n",
    "  \"\"\"Select the location for your base folder\"\"\"\n",
    "    \n",
    "  base_folder = r\"/content/drive/My Drive/CICIMA/escarabajos_files\"\n",
    "  \n",
    "elif working_at == \"wfh\":\n",
    "\n",
    "    \"\"\"Select the location of your base folder\"\"\"\n",
    "    base_folder = r\"C:\\Users\\esteb\\cicima\\escarabajos\"\n",
    "\n",
    "elif working_at == \"cicima_desktop\":\n",
    "  \n",
    "    \"\"\"Select the location of your base folder\"\"\"\n",
    "    base_folder = r\"C:\\Users\\EstebanSoto\\Jupyter\\escarabajos\"\n",
    "\n",
    "elif working_at == \"cicima_laptop\":\n",
    "    \n",
    "    \"\"\"Select the location of your base folder\"\"\"\n",
    "    base_folder = r\"/home/vinicio/escarabajos\"\n",
    "\n",
    "#define the location of the tables with information about the collections and its parent directory\n",
    "\n",
    "collection_tables_main_path =  os.path.join(base_folder, \"L1050_data\",\"collections\")\n",
    "collection_files_main_path = os.path.join(base_folder, \"L1050_data\")\n",
    "\n",
    "# Define report location\n",
    "report_location = os.path.join(base_folder, \"reports\",\"data_analysis\")\n",
    "\n",
    "#collection_descriptor = r\"CICIMAUCR and ANGSOL\" tododelete\n",
    "\n",
    "#File location and metadata location for collection 1\n",
    "angsol_collection_path = os.path.join(collection_files_main_path,\"ANGSOL\",\"average\") \n",
    "angsol_collection_metadata = os.path.join(collection_tables_main_path,\"CICIMA-beetles-general-inventory - ANGSOL.txt\") \n",
    "\n",
    "#File location and metadata location for collection 2\n",
    "cicimaucr_collection_path = os.path.join(collection_files_main_path,r\"TRA_data_CICIMA_INBUCR\",\"CICIMAUCR\",\"reflectance\")  #listo\n",
    "cicimaucr_collection_2_path = os.path.join(collection_files_main_path,r\"CICIMA-2024-01-REFLECTANCE\",\"average\")\n",
    "cicimaucr_collection_3_path = os.path.join(collection_files_main_path,r\"CICIMA-2024-03-REFLECTANCE\",\"without iris nor lens\",\"average\")\n",
    "cicimaucr_collection_4_path = os.path.join(collection_files_main_path,r\"CICIMA-2024-05-REFLECTANCE\",\"average\")\n",
    "cicima_ucr_metadata = os.path.join(collection_tables_main_path,r\"CICIMA-beetles-general-inventory - CICIMAUCR.txt\") \n",
    "\n",
    "#File location and metadata location for collection 3\n",
    "inbucr_collection_path = os.path.join(collection_files_main_path,r\"INBUCR\",\"average\") #listo\n",
    "inbucr_metadata = os.path.join(collection_tables_main_path,r\"CICIMA-beetles-general-inventory - INBUCR.txt\") \n",
    "\n",
    "#File location and metadata location for collection 4\n",
    "bioucr_collection_path = os.path.join(collection_files_main_path,r\"BIOUCR\",\"average\")  #listo\n",
    "bioucr_metadata = os.path.join(collection_tables_main_path,r\"CICIMA-beetles-general-inventory - BIOUCR.txt\") \n",
    "\n",
    "#agregated data location, here averages and std will be saved when training data and retreived when classifying spectra\n",
    "agregated_data_location = os.path.join(base_folder, \"aggregated_data\")"
   ]
  },
  {
   "cell_type": "code",
   "execution_count": 3,
   "id": "555d6899-d442-4102-9d64-54d8db9f8619",
   "metadata": {},
   "outputs": [
    {
     "name": "stdout",
     "output_type": "stream",
     "text": [
      "nan\n",
      "nan\n",
      "nan\n"
     ]
    },
    {
     "data": {
      "text/plain": [
       "[<spectraltools.Spectrum at 0x1b3553f74f0>,\n",
       " <spectraltools.Spectrum at 0x1b3553f7520>,\n",
       " <spectraltools.Spectrum at 0x1b35a0e0d00>,\n",
       " <spectraltools.Spectrum at 0x1b35542d3d0>,\n",
       " <spectraltools.Spectrum at 0x1b35a2d5df0>,\n",
       " <spectraltools.Spectrum at 0x1b35a2e1280>,\n",
       " <spectraltools.Spectrum at 0x1b35a2e1eb0>,\n",
       " <spectraltools.Spectrum at 0x1b35a2e1460>,\n",
       " <spectraltools.Spectrum at 0x1b35a2e11f0>,\n",
       " <spectraltools.Spectrum at 0x1b35a2e13d0>,\n",
       " <spectraltools.Spectrum at 0x1b35a2e1b50>,\n",
       " <spectraltools.Spectrum at 0x1b35a2e1790>,\n",
       " <spectraltools.Spectrum at 0x1b35a2d2c10>,\n",
       " <spectraltools.Spectrum at 0x1b35a2d2be0>,\n",
       " <spectraltools.Spectrum at 0x1b35543f970>,\n",
       " <spectraltools.Spectrum at 0x1b35a03c790>,\n",
       " <spectraltools.Spectrum at 0x1b35a2d27c0>,\n",
       " <spectraltools.Spectrum at 0x1b35a03c1f0>,\n",
       " <spectraltools.Spectrum at 0x1b35a2e16d0>,\n",
       " <spectraltools.Spectrum at 0x1b35a2f55b0>,\n",
       " <spectraltools.Spectrum at 0x1b35a2d2fa0>,\n",
       " <spectraltools.Spectrum at 0x1b35a0e0b20>,\n",
       " <spectraltools.Spectrum at 0x1b35a2d25b0>,\n",
       " <spectraltools.Spectrum at 0x1b35a2fffa0>,\n",
       " <spectraltools.Spectrum at 0x1b35a2d2e50>,\n",
       " <spectraltools.Spectrum at 0x1b35a2d2f70>,\n",
       " <spectraltools.Spectrum at 0x1b35a2ffe50>,\n",
       " <spectraltools.Spectrum at 0x1b35a2f5340>]"
      ]
     },
     "execution_count": 3,
     "metadata": {},
     "output_type": "execute_result"
    }
   ],
   "source": [
    "#Collections\n",
    "angsol_collection = Specimen_Collection(\"ANGSOL\", angsol_collection_path, angsol_collection_metadata, \"HIGH\")\n",
    "angsol_collection.set_description(\"ANGSOL collection has specimens that belong to Angel Solís. The confidence that we have about specimen identification is high.\")\n",
    "\n",
    "cicimaucr_collection = Specimen_Collection(\"CICIMAUCR1\", cicimaucr_collection_path, cicima_ucr_metadata, \"HIGH\")\n",
    "cicimaucr_collection_2 = Specimen_Collection(\"CICIMAUCR2\", cicimaucr_collection_2_path, cicima_ucr_metadata, \"HIGH\")\n",
    "cicimaucr_collection_3 = Specimen_Collection(\"CICIMAUCR3\", cicimaucr_collection_3_path, cicima_ucr_metadata, \"HIGH\")\n",
    "cicimaucr_collection_3.set_description(\"\"\"The most part of CICIMA specimens belongs to this collecttion\"\"\")\n",
    "\n",
    "cicimaucr_collection_4 = Specimen_Collection(\"CICIMAUCR4\", cicimaucr_collection_4_path, cicima_ucr_metadata, \"HIGH\")\n",
    "cicimaucr_collection_4.set_description(\"\"\"This collection has 3 kalinini specimens which were not used in training. \n",
    "                                        These are intended to be used as test subjects\"\"\")\n",
    "\n",
    "inbucr_collection = Specimen_Collection(\"INBUCR\", inbucr_collection_path, inbucr_metadata, \"MID\")\n",
    "bioucr_collection = Specimen_Collection(\"BIOUCR\", bioucr_collection_path, bioucr_metadata, \"LOW\")\n",
    "\n",
    "collection_list = [\n",
    "                    #angsol_collection,\n",
    "                    cicimaucr_collection,\n",
    "                    cicimaucr_collection_2,\n",
    "                    cicimaucr_collection_3,\n",
    "                    #inbucr_collection,\n",
    "                    #bioucr_collection,\n",
    "                    ]\n",
    "collection_names_set = set([collection.name for collection in collection_list])\n",
    "collection_names = \" \".join( sorted(collection_names_set))\n",
    "\n",
    "prediction_list = [\n",
    "                    #angsol_collection,\n",
    "                    #cicimaucr_collection,\n",
    "                    #cicimaucr_collection_2,\n",
    "                    #cicimaucr_collection_3,\n",
    "                    cicimaucr_collection_4,\n",
    "                    #inbucr_collection,\n",
    "                    #bioucr_collection,\n",
    "                    ]\n",
    "prediction_collection_names_set = set([collection.name for collection in collection_list])\n",
    "prediction_collection_names = \" \".join( sorted(collection_names_set))\n",
    "\n",
    "\n",
    "#print(collection_names)\n",
    "#date\n",
    "from datetime import datetime\n",
    "current_date = datetime.now().date()\n",
    "\n",
    "def get_filtered_spectra(collection_list):\n",
    "\n",
    "    all_spectra = []\n",
    "    \n",
    "    for collection in collection_list:\n",
    "        all_spectra += collection.get_spectra()\n",
    "\n",
    "    all_spectra = [item for item in all_spectra if item.get_species() in [\"kalinini\", \"resplendens\", \"cupreomarginata\"]]\n",
    "    return all_spectra\n",
    "    \n",
    "def get_spectra(collection_list):\n",
    "\n",
    "    all_spectra = []\n",
    "    \n",
    "    for collection in collection_list:\n",
    "        all_spectra += collection.get_spectra()\n",
    "\n",
    "    return all_spectra  \n",
    "    \n",
    "training_spectra = get_filtered_spectra(collection_list)\n",
    "prediction_spectra  = get_spectra(prediction_list) \n",
    "\n",
    "for spectrum in prediction_spectra:\n",
    "    print(spectrum.get_species())\n",
    "\n",
    "training_spectra"
   ]
  },
  {
   "cell_type": "code",
   "execution_count": 7,
   "id": "bb2347e1-abaa-4c89-8cc3-2f315ff0b734",
   "metadata": {},
   "outputs": [
    {
     "name": "stdout",
     "output_type": "stream",
     "text": [
      "Something is happening before the function is called.\n",
      "Something is happening after the function is called.\n"
     ]
    },
    {
     "data": {
      "image/png": "[encoded data removed]",
      "text/plain": [
       "<Figure size 1000x500 with 1 Axes>"
      ]
     },
     "metadata": {},
     "output_type": "display_data"
    },
    {
     "ename": "NameError",
     "evalue": "name 'PeakList' is not defined",
     "output_type": "error",
     "traceback": [
      "\u001b[1;31m---------------------------------------------------------------------------\u001b[0m",
      "\u001b[1;31mNameError\u001b[0m                                 Traceback (most recent call last)",
      "Cell \u001b[1;32mIn[7], line 3\u001b[0m\n\u001b[0;32m      1\u001b[0m spectrum \u001b[38;5;241m=\u001b[39m training_spectra[\u001b[38;5;241m0\u001b[39m]\n\u001b[0;32m      2\u001b[0m spectrum\u001b[38;5;241m.\u001b[39mplot()\n\u001b[1;32m----> 3\u001b[0m peaks \u001b[38;5;241m=\u001b[39m \u001b[43mPeakList\u001b[49m(spectrum)\n\u001b[0;32m      4\u001b[0m peaks\u001b[38;5;241m.\u001b[39mplot()\n",
      "\u001b[1;31mNameError\u001b[0m: name 'PeakList' is not defined"
     ]
    }
   ],
   "source": [
    "spectrum = training_spectra[0]\n",
    "spectrum.plot()\n",
    "peaks = PeakList(spectrum)\n",
    "peaks.plot()"
   ]
  },
  {
   "cell_type": "code",
   "execution_count": 5,
   "id": "d2c97dfb-9361-4607-97e4-46d084ed40b9",
   "metadata": {},
   "outputs": [
    {
     "name": "stdout",
     "output_type": "stream",
     "text": [
      "[[ 655.       1195.       1270.       1355.       1548.       1638.\n",
      "  1784.       1835.       1954.        586.        755.       1385.      ]\n",
      " [  60.143033   33.293294   33.126138   32.419621   25.478553   25.393452\n",
      "    23.377819   23.423402   13.414084   75.594599   80.225793   33.293938]]\n",
      "<class 'numpy.ndarray'>\n"
     ]
    }
   ],
   "source": [
    "obj = Critical_Points(spectrum).get_metric_value()\n",
    "print(obj)\n",
    "print(type(obj))"
   ]
  },
  {
   "cell_type": "code",
   "execution_count": 6,
   "id": "968f0512-f87f-4f5e-8554-18cec7f96528",
   "metadata": {},
   "outputs": [
    {
     "name": "stdout",
     "output_type": "stream",
     "text": [
      "1.0860565364917074\n",
      "1.0860565364917074\n",
      "1.061263556672878\n",
      "1.2567475918486348\n",
      "2.578334295936797\n",
      "[1.         1.06126356 0.44042747]\n",
      "[ 586.  755. 1385.]\n",
      "[[ 655.       1195.       1270.       1355.       1548.       1638.\n",
      "  1784.       1835.       1954.        586.        755.       1385.      ]\n",
      " [  60.143033   33.293294   33.126138   32.419621   25.478553   25.393452\n",
      "    23.377819   23.423402   13.414084   75.594599   80.225793   33.293938]]\n",
      "[[ 655.       1195.       1270.       1355.       1548.       1638.\n",
      "  1784.       1835.       1954.      ]\n",
      " [  60.143033   33.293294   33.126138   32.419621   25.478553   25.393452\n",
      "    23.377819   23.423402   13.414084]]\n",
      "[[ 586.        755.       1385.      ]\n",
      " [  75.594599   80.225793   33.293938]]\n",
      "[[6.55000000e+02 1.19500000e+03 1.27000000e+03 1.35500000e+03\n",
      "  1.54800000e+03 1.63800000e+03 1.78400000e+03 1.83500000e+03\n",
      "  1.95400000e+03]\n",
      " [1.00000000e+00 5.53568590e-01 5.50789283e-01 5.39042003e-01\n",
      "  4.23632659e-01 4.22217682e-01 3.88703692e-01 3.89461602e-01\n",
      "  2.23036374e-01]]\n",
      "[[5.86000000e+02 7.55000000e+02 1.38500000e+03]\n",
      " [1.00000000e+00 1.06126356e+00 4.40427470e-01]]\n"
     ]
    }
   ],
   "source": [
    "metric_list = [Gamma_Arbitrary_Limits, Gamma_First_Two_Peaks,Gamma_Area_Under_Curve_Naive,Gamma_Area_Under_Curve_First_Min_Cut, Gamma_Vector_Relative_Reflectance, \n",
    "               Wavelength_Vector, Critical_Points, Minimum_Points, Maximum_Points, Minimum_Points_Normalized,\n",
    "               Maximum_Points_Normalized]\n",
    "for metric_i in metric_list:\n",
    "    gftp = metric_i(spectrum).get_metric_value()\n",
    "    print(gftp)"
   ]
  },
  {
   "cell_type": "code",
   "execution_count": null,
   "id": "9979b8e9-5f1b-459f-90a3-e8294a8e8d45",
   "metadata": {},
   "outputs": [],
   "source": []
  },
  {
   "cell_type": "code",
   "execution_count": null,
   "id": "f28536f9-8987-4f78-b388-2f93721e5f9b",
   "metadata": {},
   "outputs": [],
   "source": []
  }
 ],
 "metadata": {
  "kernelspec": {
   "display_name": "Python 3 (ipykernel)",
   "language": "python",
   "name": "python3"
  },
  "language_info": {
   "codemirror_mode": {
    "name": "ipython",
    "version": 3
   },
   "file_extension": ".py",
   "mimetype": "text/x-python",
   "name": "python",
   "nbconvert_exporter": "python",
   "pygments_lexer": "ipython3",
   "version": "3.9.18"
  }
 },
 "nbformat": 4,
 "nbformat_minor": 5
}
